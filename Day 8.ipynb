{
 "cells": [
  {
   "cell_type": "code",
   "execution_count": null,
   "id": "9c7aa27c-ccf3-4d6d-b291-d3e498c2aa39",
   "metadata": {},
   "outputs": [],
   "source": [
    "#Inferential stats\n",
    "Key component-\n",
    "1. population\n",
    "2. sample- subset of population usedfor study\n",
    "3. Parameter - numerical characteristics of the population(population mean)\n",
    "4. Statistics - numerical characteristics of the sample"
   ]
  },
  {
   "cell_type": "code",
   "execution_count": null,
   "id": "b875e49c-623f-4614-9084-3932099cc8b6",
   "metadata": {},
   "outputs": [],
   "source": [
    "# main function -\n",
    "1. Point estimation\n",
    "2. Interval esti\n",
    "3 . Hypothesis testing \n",
    "4. prediction & forcasting"
   ]
  },
  {
   "cell_type": "markdown",
   "id": "e0cf7fb8-794b-485c-9750-d91b0f3c26c1",
   "metadata": {},
   "source": [
    "Common Methods\n",
    "1. t-test\n",
    "2.  z-test\n",
    "3.  ANOVA\n",
    "4.  chi- square test\n",
    "5.  correlation & regression\n",
    "6.  confidence interval"
   ]
  },
  {
   "cell_type": "code",
   "execution_count": null,
   "id": "4c67d2a3-17b3-48ec-b8cf-3fcf76df9af5",
   "metadata": {},
   "outputs": [],
   "source": [
    "# Hypothjesis testing\n",
    "Key component \n",
    "1. Null Hypothesis - the default assumption\n",
    " Example  - A new drug has no effect compared to the old one\n",
    "2. Alternative Hypothesis - what you want to prove- \" something is different\"\n",
    " Example- the new drug is better than the old one\n",
    "3. significance level\n",
    "4. Test Statistics - z-test, t-test, ANOVA\n",
    "5. P-value - "
   ]
  },
  {
   "cell_type": "code",
   "execution_count": null,
   "id": "31c872d1-8e1d-4a82-b51d-2cb81228de3e",
   "metadata": {},
   "outputs": [],
   "source": [
    "Scenario  - The cofee shop  mystery\n",
    "Imagine you own a cofee shop\n",
    "your suppliers claims each cofee bag wieghs exactly 1 KG\n",
    "\n",
    "Step1 - \n",
    "Null Hypothesis H0- the average cofee bag weight is exactly 1 kg\n",
    "Alternate Hypothesis H1 - the avg cofee bag weight is not 1 kg\n",
    "\n",
    "Step 2-\n",
    "Testing it\n",
    "you randamoly pick 10 bags and weight them\n",
    "the average comes out 0.95 kg - a bit light\n",
    "Step 3-\n",
    "is that difference just random chance(normal variation) or proof your supplier is short-changing you?\n",
    "\n",
    "Step 4-\n",
    "the p value\n",
    " it tells you how likely you'd see such a difference if the supplier was telling the truth\n",
    "pvalue = 0.02 there only 2% chance this small weight happened just by luck\n",
    "\n",
    "Step 5-\n",
    "the decision\n",
    "if you set your risk tolerance at 5%(alpha=0.05\n",
    "p-value (0.02)<=0.05 - reject  the null hypothesis\n"
   ]
  },
  {
   "cell_type": "code",
   "execution_count": null,
   "id": "05a13227-86d9-42fe-a365-200ad660eaf8",
   "metadata": {},
   "outputs": [],
   "source": [
    "#P- value \n",
    "the probability of getting results at least as extreme as what you observed, if the null hypothesis is true\n",
    "the smaller it is , the most surprising your data would be if the null hypothesis were correct\n",
    "\n",
    "p-value high -- your data is normal under H0(nothing suspicious)\n",
    "p-value low -- your data is unusual under H0(something fishy)\n"
   ]
  },
  {
   "cell_type": "code",
   "execution_count": null,
   "id": "f64072a9-1013-4ee4-a0c5-52761c11849c",
   "metadata": {},
   "outputs": [],
   "source": [
    "# significance level alpha - threshold probability for deciding whether to rejuct null hypothesis\n",
    "lower the alpha -- More cautious -- need more stronger evidence \n",
    "higher alpha value-- more willing to take risk - easier to reject H0\n",
    "\n",
    "common values- \n",
    "0.05 - the most widely used standard\n",
    "0.01 - strictly, used in medical,critical safety studies\n",
    "0.10 - more lenient, used in exploratory or early research\n",
    "\n",
    "Thumb rule-\n",
    "high stakes (health, safety,cost)---smaller alpha\n",
    "low stakes ( early stage research)--large alpha"
   ]
  },
  {
   "cell_type": "code",
   "execution_count": null,
   "id": "16f6e69f-9dc0-4c8e-83d2-33c6adee570a",
   "metadata": {},
   "outputs": [],
   "source": [
    "# z-test\n",
    "used to  determine if there is a significance difference between:\n",
    "1. a sample mean and a population mean\n",
    "2. Two sample mean\n",
    "\n",
    "applied- \n",
    "The population variance(std variance) is known or the sample size is large enough(usually n>=30)\n",
    "The data is approximately normally distributed\n",
    "we deal with interval or ratio scale data\n",
    "\n",
    "Types of z-test\n",
    " one -sample test - comparesample mean to population mean\n",
    "two sample test -- compare mean from two independent sample\n",
    "z- test for proportion - compare sample proportion to population proportion\n",
    "\n",
    "\n",
    "\n"
   ]
  },
  {
   "cell_type": "code",
   "execution_count": null,
   "id": "66094ef4-f9b6-4900-affe-1e0a35c8875b",
   "metadata": {},
   "outputs": [],
   "source": [
    "# Error in Hypothesis testing\n",
    "Type 1 Error(False Positive)\n",
    "1. rejecting the null hypothesis H0 when it is actually true\n",
    "2. probability of this error = significance level\n",
    "\n",
    "Type 2 Error (False Negative)\n",
    "1. Failing to reject the null hypothesis when it is actually false\n",
    "2. probability of this error - beta"
   ]
  },
  {
   "cell_type": "code",
   "execution_count": null,
   "id": "73e1170b-fb51-4f3a-9d39-7daae519b1ce",
   "metadata": {},
   "outputs": [],
   "source": [
    "relationship between the alpha & beta\n",
    "1.lowering alpha (being more strict to avoid type 1 error) usually increase beta risk( risk of type 2 error)\n",
    "2. there's a trade off- you can't minimize both to zero unless the sample size is very large"
   ]
  },
  {
   "cell_type": "code",
   "execution_count": null,
   "id": "c6421047-1462-495f-b7e7-ad5f31377cb5",
   "metadata": {},
   "outputs": [],
   "source": [
    "# minimize error\n",
    "\n",
    "Increase Sample size - reduce both alpha & beta\n",
    "choose an optimal significance level\n",
    "use a well designed study to control bias and variance"
   ]
  },
  {
   "cell_type": "code",
   "execution_count": null,
   "id": "e4565b55-8302-4edf-b6c3-634b3de312bc",
   "metadata": {},
   "outputs": [],
   "source": [
    "Scenario- \n",
    " you are at home and you hear a strange noise from the kitchen at the kitchen at night\n",
    "H0 - \"It's just the wind, nothing serious\"\n",
    "H1 - \"There is a thief in the kitchen\"\n",
    "\n",
    "Type 1 error(False alarm)\n",
    "you think-\"There is a definitely a thief!\" and you call the police\n",
    "police arrives.. it turns out it was just the wind\n",
    "you reject H0 when it was actually true\n",
    "Cost : - embarrasment, wasted time, maybe a bill from the police\n",
    "\n",
    "Type 2 error(Missed Danger)\n",
    "you think: \"just the wind\" and go back to sleep\n",
    "In realikty , there was a thief\n",
    "you failed to reject H0 when it was false\n",
    "Cost: stolen anything"
   ]
  }
 ],
 "metadata": {
  "kernelspec": {
   "display_name": "Python 3 (ipykernel)",
   "language": "python",
   "name": "python3"
  },
  "language_info": {
   "codemirror_mode": {
    "name": "ipython",
    "version": 3
   },
   "file_extension": ".py",
   "mimetype": "text/x-python",
   "name": "python",
   "nbconvert_exporter": "python",
   "pygments_lexer": "ipython3",
   "version": "3.13.5"
  }
 },
 "nbformat": 4,
 "nbformat_minor": 5
}
