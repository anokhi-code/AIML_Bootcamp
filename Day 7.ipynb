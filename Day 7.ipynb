{
 "cells": [
  {
   "cell_type": "markdown",
   "id": "e16d6cd2-a122-40be-99f5-9a704f21f1cf",
   "metadata": {},
   "source": [
    "# Pandas - ope n source library\n",
    "used to manipulation , analysis & cleaning\n",
    "provides two main data structure\n",
    "1. series\n",
    "2. dataframe -2d labeled table"
   ]
  },
  {
   "cell_type": "code",
   "execution_count": null,
   "id": "1a8b332d-e6a2-43b8-b71b-10a72ea533f3",
   "metadata": {},
   "outputs": [],
   "source": [
    "# Pandas Series\n",
    "one dimensional labelled array\n",
    "it can hold any data type- integers, floats, strings etc\n"
   ]
  },
  {
   "cell_type": "code",
   "execution_count": 2,
   "id": "2bd15f2c-ff33-418f-84fb-a068d4faa10c",
   "metadata": {},
   "outputs": [
    {
     "name": "stdout",
     "output_type": "stream",
     "text": [
      "0    10\n",
      "1    20\n",
      "2    30\n",
      "3    40\n",
      "dtype: int64\n"
     ]
    }
   ],
   "source": [
    "import pandas as pd\n",
    "\n",
    "# creating a series from a list\n",
    "data= [10,20,30,40]\n",
    "series = pd.Series(data)\n",
    "print(series)"
   ]
  },
  {
   "cell_type": "code",
   "execution_count": 5,
   "id": "7d8096f5-fb5f-4176-91d0-1ff786904dfd",
   "metadata": {},
   "outputs": [
    {
     "name": "stdout",
     "output_type": "stream",
     "text": [
      "Jan    100\n",
      "Feb    200\n",
      "Mar    300\n",
      "dtype: int64\n"
     ]
    }
   ],
   "source": [
    "# Creating custom index\n",
    "data = [100,200,300]\n",
    "\n",
    "sales = pd.Series(data, index=['Jan','Feb','Mar'])\n",
    "print(sales)"
   ]
  },
  {
   "cell_type": "code",
   "execution_count": 7,
   "id": "32fdcb38-2610-4c72-b512-48b14d0bb8ef",
   "metadata": {},
   "outputs": [
    {
     "name": "stdout",
     "output_type": "stream",
     "text": [
      "200\n",
      "Jan    100\n",
      "Mar    300\n",
      "dtype: int64\n"
     ]
    }
   ],
   "source": [
    "# Accessing data with custom index\n",
    "print(sales['Feb'])\n",
    "print(sales[['Jan', 'Mar']])"
   ]
  },
  {
   "cell_type": "code",
   "execution_count": null,
   "id": "3a271f27-9887-45fb-9099-9c27a36098a6",
   "metadata": {},
   "outputs": [],
   "source": [
    "# Pandas Dataframe\n",
    "2d labeled data structure\n",
    "it is like an excel spreadsheet or an sql table\n",
    "row- identified by index\n",
    "columns - labeled with names\n",
    "each column can hold different kind of data type - int,float, string, etc\n"
   ]
  },
  {
   "cell_type": "code",
   "execution_count": 8,
   "id": "4af757ca-5ec1-4080-a4d2-cf1c9528a595",
   "metadata": {},
   "outputs": [
    {
     "name": "stdout",
     "output_type": "stream",
     "text": [
      "      Name  Age      City\n",
      "0    Alice   25  New York\n",
      "1      Bob   30     Paris\n",
      "2  Charlie   35    London\n"
     ]
    }
   ],
   "source": [
    "# Creating a dataframe from a dictionary\n",
    "data = {\n",
    "    'Name':['Alice','Bob','Charlie'],\n",
    "    'Age': [25,30,35],\n",
    "    'City':['New York','Paris','London']\n",
    "}\n",
    "\n",
    "df = pd.DataFrame(data)\n",
    "print(df)"
   ]
  },
  {
   "cell_type": "code",
   "execution_count": 10,
   "id": "ef30bbbc-9e0d-43a2-b0b6-de4c0b5837f2",
   "metadata": {},
   "outputs": [
    {
     "name": "stdout",
     "output_type": "stream",
     "text": [
      "          0\n",
      "0    Python\n",
      "1      Data\n",
      "2   Science\n",
      "3       fun\n",
      "4       and\n",
      "5  powerful\n"
     ]
    }
   ],
   "source": [
    "# create a datafram from dict \n",
    "lst = ['Python','Data','Science', 'fun', 'and', 'powerful']\n",
    "\n",
    "df = pd.DataFrame(lst)\n",
    "\n",
    "print(df)"
   ]
  },
  {
   "cell_type": "code",
   "execution_count": 11,
   "id": "092d4a50-a2c8-4ebb-9384-1d08768d366e",
   "metadata": {},
   "outputs": [
    {
     "name": "stdout",
     "output_type": "stream",
     "text": [
      "    X   Y   Z\n",
      "0  10  20  30\n",
      "1  40  50  60\n",
      "2  70  80  90\n"
     ]
    }
   ],
   "source": [
    "# create dataframe of numpy array\n",
    "import numpy as np\n",
    "\n",
    "data = np.array([[10,20,30],\n",
    "                 [40,50,60],\n",
    "                 [70,80,90]])\n",
    "\n",
    "df = pd.DataFrame(data,columns=['X','Y','Z'])\n",
    "\n",
    "print(df)"
   ]
  },
  {
   "cell_type": "markdown",
   "id": "61ddbd9c-a8c3-4cac-a456-d87d8f8380a0",
   "metadata": {},
   "source": [
    "# Statistics"
   ]
  },
  {
   "cell_type": "code",
   "execution_count": null,
   "id": "7461a450-e4c8-4364-9d7e-db5a99b82cdf",
   "metadata": {},
   "outputs": [],
   "source": [
    "# main categories for descriptive stats\n",
    "A. Measure central tendency - describe the center of the data\n",
    "Mean-Airthemetic average\n",
    "median- middle value when data is sorted\n",
    "mode - most frequent value\n",
    "\n",
    "B. Measure of dispersion(spread)- describe the variability of data\n",
    "Range - max-min\n",
    "variance - average deviation of mean\n",
    "standard deviation - square  of variance\n",
    "Interquartile range (IQR) \n",
    "\n",
    "c. Measure of positions\n",
    "percentiles - value below which a certain % data falls\n",
    "quartiles - deivide data into 4 parts\n",
    "Z -scores - showing how many sds from the mean\n",
    "\n",
    "D. shape of Distribution\n",
    "skeness- measure asymmetry(positive, negative)\n",
    "kurtosis - measures the peakness and flatness inside the data\n",
    "\n",
    "# purpose descriptive stats\n",
    "summarize large dataset, into easy to understand number of visuals\n",
    "identify trends, pattern, and anomalies\n",
    "provide the foundation for inferential stats\n",
    "\n",
    "# limitations\n",
    "only descrive statistical info of  data set, does not predict or explain causes\n",
    "it can mislead if data is biased or incomplete\n",
    "\n"
   ]
  },
  {
   "cell_type": "code",
   "execution_count": 16,
   "id": "b3828773-694f-4f90-a465-95f809e1ab06",
   "metadata": {},
   "outputs": [
    {
     "name": "stdout",
     "output_type": "stream",
     "text": [
      "Mean Age: 30.714285714285715\n"
     ]
    }
   ],
   "source": [
    "# sample data\n",
    "import pandas as pd\n",
    "\n",
    "data = {\n",
    "    'Age': [20,30,35,40,30,35,25]\n",
    "}\n",
    "\n",
    "df = pd.DataFrame(data)\n",
    "\n",
    "# mean\n",
    "mean_age = df['Age'].mean()\n",
    "\n",
    "# Display results\n",
    "print(\"Mean Age:\", mean_age)"
   ]
  },
  {
   "cell_type": "code",
   "execution_count": 17,
   "id": "1702a7c6-732c-440c-a4f2-98791ed106da",
   "metadata": {},
   "outputs": [
    {
     "name": "stdout",
     "output_type": "stream",
     "text": [
      "Median Age: 30.0\n"
     ]
    }
   ],
   "source": [
    "# median\n",
    "median_age = df['Age'].median()\n",
    "print(\"Median Age:\", median_age)"
   ]
  },
  {
   "cell_type": "code",
   "execution_count": 18,
   "id": "d16f4916-5643-4dc0-b4b5-e45a3a1726c7",
   "metadata": {},
   "outputs": [
    {
     "name": "stdout",
     "output_type": "stream",
     "text": [
      "Mode Age: 30\n"
     ]
    }
   ],
   "source": [
    "# mode\n",
    "mode_age = df['Age'].mode()[0]\n",
    "print(\"Mode Age:\", mode_age)"
   ]
  },
  {
   "cell_type": "code",
   "execution_count": 19,
   "id": "9032d750-46be-4fe9-9818-c469e31fe381",
   "metadata": {},
   "outputs": [
    {
     "name": "stdout",
     "output_type": "stream",
     "text": [
      "Variance Age: 45.23809523809524\n"
     ]
    }
   ],
   "source": [
    "# variance\n",
    "variance_age = df['Age'].var()\n",
    "print(\"Variance Age:\", variance_age)"
   ]
  },
  {
   "cell_type": "code",
   "execution_count": 21,
   "id": "2499d609-6e1e-4067-87b6-f4ddd2a964ad",
   "metadata": {},
   "outputs": [
    {
     "name": "stdout",
     "output_type": "stream",
     "text": [
      "Standard Deviation Age: 6.7259270913454925\n"
     ]
    }
   ],
   "source": [
    "# standard deviation\n",
    "std_age = df['Age'].std()\n",
    "print(\"Standard Deviation Age:\", std_age)"
   ]
  },
  {
   "cell_type": "code",
   "execution_count": 23,
   "id": "6d4cd808-108b-4a95-a440-a9e538ba4479",
   "metadata": {},
   "outputs": [
    {
     "name": "stdout",
     "output_type": "stream",
     "text": [
      "30th Percentile: 22.0\n",
      "Q1: 20.0 Q2(Median): 30.0 Q3: 40.0\n"
     ]
    }
   ],
   "source": [
    "# measure of position \n",
    "#percentile, quartile, Z-score\n",
    "\n",
    "import numpy as np\n",
    "from scipy import stats\n",
    "\n",
    "\n",
    "data = np.array([10,15,20,25,30,35,40,45,50])\n",
    "\n",
    "# 1. percentile\n",
    "p30= np.percentile(data,30) # 30th percentile\n",
    "print(\"30th Percentile:\", p30)\n",
    "\n",
    "# quartiles\n",
    "q1 = np.percentile(data,25) # q1\n",
    "q2 = np.percentile(data,50)\n",
    "q3 = np.percentile(data,75)\n",
    "print(\"Q1:\", q1,\"Q2(Median):\",q2,\"Q3:\",q3)\n",
    "\n"
   ]
  },
  {
   "cell_type": "code",
   "execution_count": null,
   "id": "6e6f0e3c-3e2d-4e96-817d-b1b345e5e334",
   "metadata": {},
   "outputs": [],
   "source": []
  }
 ],
 "metadata": {
  "kernelspec": {
   "display_name": "Python 3 (ipykernel)",
   "language": "python",
   "name": "python3"
  },
  "language_info": {
   "codemirror_mode": {
    "name": "ipython",
    "version": 3
   },
   "file_extension": ".py",
   "mimetype": "text/x-python",
   "name": "python",
   "nbconvert_exporter": "python",
   "pygments_lexer": "ipython3",
   "version": "3.13.5"
  }
 },
 "nbformat": 4,
 "nbformat_minor": 5
}
