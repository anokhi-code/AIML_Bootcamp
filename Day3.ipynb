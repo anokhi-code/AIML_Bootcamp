{
 "cells": [
  {
   "cell_type": "code",
   "execution_count": null,
   "id": "4c4ef594-a303-4525-833c-cafac5a2b8cc",
   "metadata": {},
   "outputs": [],
   "source": [
    "# Today Agenda\n",
    "Strings\n",
    "If..else\n",
    "nested if\n",
    "loop"
   ]
  },
  {
   "cell_type": "markdown",
   "id": "44777c01-6548-43dc-ba71-c76e182f0bf7",
   "metadata": {},
   "source": [
    "# Strings\n",
    "# ordered collection of character\n",
    "# created using single quote or double quote"
   ]
  },
  {
   "cell_type": "code",
   "execution_count": 1,
   "id": "ac700063-84a4-4266-9332-866748c65e79",
   "metadata": {},
   "outputs": [
    {
     "name": "stdout",
     "output_type": "stream",
     "text": [
      "Alice\n"
     ]
    }
   ],
   "source": [
    "# create string\n",
    "employee = \"Alice\"\n",
    "print(employee)"
   ]
  },
  {
   "cell_type": "code",
   "execution_count": 2,
   "id": "c3b9eeea-a720-4480-8ac1-ed692a3cfed6",
   "metadata": {},
   "outputs": [
    {
     "name": "stdout",
     "output_type": "stream",
     "text": [
      "F\n",
      "e\n"
     ]
    }
   ],
   "source": [
    "# Indexing\n",
    "department = \"Finance\"\n",
    "print(department[0])\n",
    "print(department[-1])"
   ]
  },
  {
   "cell_type": "code",
   "execution_count": 3,
   "id": "41d762c8-98f5-4cb7-afdd-c7a7889e9198",
   "metadata": {},
   "outputs": [
    {
     "name": "stdout",
     "output_type": "stream",
     "text": [
      "Annual\n",
      "Report2025\n"
     ]
    }
   ],
   "source": [
    "# Slicinmg\n",
    "project = \"AnnualReport2025\"\n",
    "print(project[0:6])\n",
    "print(project[6:])"
   ]
  },
  {
   "cell_type": "code",
   "execution_count": 4,
   "id": "4ee061e6-bde2-4502-b244-61d71b590166",
   "metadata": {},
   "outputs": [
    {
     "name": "stdout",
     "output_type": "stream",
     "text": [
      "Alina Thomas\n"
     ]
    }
   ],
   "source": [
    "# concatenation\n",
    "first_name = \"Alina\"\n",
    "last_name = \"Thomas\"\n",
    "full_name = first_name + \" \"+ last_name\n",
    "print(full_name)"
   ]
  },
  {
   "cell_type": "code",
   "execution_count": 6,
   "id": "3256a0ed-6e80-4f01-a31d-aa16afb48d86",
   "metadata": {},
   "outputs": [
    {
     "name": "stdout",
     "output_type": "stream",
     "text": [
      "Reminder Reminder Reminder \n"
     ]
    }
   ],
   "source": [
    "# Repetition\n",
    "alert = \"Reminder \"\n",
    "print(alert * 3)"
   ]
  },
  {
   "cell_type": "code",
   "execution_count": 7,
   "id": "c620b692-1f40-4ef0-b9d9-86b0ad443814",
   "metadata": {},
   "outputs": [
    {
     "name": "stdout",
     "output_type": "stream",
     "text": [
      "True\n",
      "True\n"
     ]
    }
   ],
   "source": [
    "# membership testing - checking if a specific keyword is in a email subject line\n",
    "email_subject = \"Meeting scheduled at 3PM\"\n",
    "print(\"Meeting\" in email_subject)\n",
    "print(\"Holiday\" not in email_subject)"
   ]
  },
  {
   "cell_type": "code",
   "execution_count": 8,
   "id": "9185c5d3-e0e9-44d4-a199-875f521a1e29",
   "metadata": {},
   "outputs": [
    {
     "name": "stdout",
     "output_type": "stream",
     "text": [
      "20\n"
     ]
    }
   ],
   "source": [
    "# len()\n",
    "report_title = \"Q2 Financial Summary\"\n",
    "print(len(report_title))"
   ]
  },
  {
   "cell_type": "code",
   "execution_count": 25,
   "id": "4b9c9b75-8da6-4eff-9f7a-12283df94903",
   "metadata": {},
   "outputs": [
    {
     "name": "stdout",
     "output_type": "stream",
     "text": [
      "manager\n",
      "MANAGER\n",
      "E12345\n",
      "Dear Emma, your review is scheduled.\n",
      "['HR', 'Finance', 'Sales', 'IT']\n",
      "Senior Software Engineer\n"
     ]
    }
   ],
   "source": [
    "# Built in string methods\n",
    "# 1. .lower()/.upper()\n",
    "designation = \"Manager\"\n",
    "print(designation.lower())\n",
    "print(designation.upper())\n",
    "\n",
    "# 2. .strip() - remove unwanted whitespace\n",
    "employee_code = \" E12345 \"\n",
    "print(employee_code.strip())\n",
    "\n",
    "# 3.  .replace()\n",
    "template = \"Dear [Name], your review is scheduled.\"\n",
    "print(template.replace(\"[Name]\",\"Emma\")) # Genreating customised HR emails from template\n",
    "\n",
    "# 4. .split()\n",
    "departments = \"HR,Finance,Sales,IT\"\n",
    "print(departments.split(\",\"))\n",
    "\n",
    "# 5. .title()\n",
    "position = \"Senior Software Engineer\"\n",
    "print(position.title())\n"
   ]
  },
  {
   "cell_type": "markdown",
   "id": "2cf3e2b0-b9dc-464e-807b-36f3cf36cd33",
   "metadata": {},
   "source": [
    "# Conditional Statement"
   ]
  },
  {
   "cell_type": "code",
   "execution_count": 15,
   "id": "4fefd98a-7589-45bd-bcff-cee100c08b7b",
   "metadata": {},
   "outputs": [
    {
     "name": "stdout",
     "output_type": "stream",
     "text": [
      "Approve project\n"
     ]
    }
   ],
   "source": [
    "#1. if - Excute code block if condition is true\n",
    "budget = 50000\n",
    "\n",
    "if budget > 40000:\n",
    "    print(\"Approve project\")"
   ]
  },
  {
   "cell_type": "code",
   "execution_count": 16,
   "id": "7d0579a2-1769-4ffe-a724-51338d9fc33b",
   "metadata": {},
   "outputs": [
    {
     "name": "stdout",
     "output_type": "stream",
     "text": [
      "Please log in.\n"
     ]
    }
   ],
   "source": [
    "# 2, if..else - adds an alternate block if condition is false\n",
    "is_logged_in = False\n",
    "\n",
    "if is_logged_in:\n",
    "    print(\"Welcome back \")\n",
    "else:\n",
    "    print(\"Please log in.\")"
   ]
  },
  {
   "cell_type": "code",
   "execution_count": 17,
   "id": "d0e69193-64aa-40b9-aaa7-a383ece65b89",
   "metadata": {},
   "outputs": [
    {
     "name": "stdout",
     "output_type": "stream",
     "text": [
      "Average\n"
     ]
    }
   ],
   "source": [
    "#3. if..elif..else - test multiple condition in sequence\n",
    "score = 72\n",
    "\n",
    "if score >= 90:\n",
    "    print(\"Excellent\")\n",
    "elif score >= 75:\n",
    "    print(\"Good\")\n",
    "elif score >= 60:\n",
    "    print(\"Average\")\n",
    "else:\n",
    "    print(\"Needs Improvement\")"
   ]
  },
  {
   "cell_type": "code",
   "execution_count": 18,
   "id": "cf96f4ed-5d3e-49cd-8646-623b070fe833",
   "metadata": {},
   "outputs": [
    {
     "name": "stdout",
     "output_type": "stream",
     "text": [
      "Eligible for promotion\n"
     ]
    }
   ],
   "source": [
    "# 4. Nested if - using if inside another if block\n",
    "\n",
    "department = \"IT\"\n",
    "experience = 3\n",
    "\n",
    "if department == \"IT\":\n",
    "    if experience >= 2:\n",
    "        print(\"Eligible for promotion\")\n",
    "    else:\n",
    "        print(\"Needs more experience\")\n",
    "else:\n",
    "    print(\"Only IT department is considered\")"
   ]
  },
  {
   "cell_type": "code",
   "execution_count": null,
   "id": "58e8c368-633b-47be-bc2b-ea3241d0f736",
   "metadata": {},
   "outputs": [],
   "source": [
    "#Use case: A store offers discounts to customer based their type and the total purchase amount. Dicount policy is\n",
    "1.customer is premium and the purchase amount is 10,000$ or more they 30 % discount\n",
    "2. customer is regular and the purchase amount is 5000$ or more they get 15% dicount\n",
    "3. customer is guest and the purchase amount is 3000$ or more they get 5% discount\n",
    "4.All other cases get no discount\n"
   ]
  },
  {
   "cell_type": "code",
   "execution_count": 19,
   "id": "b2b9d073-d50d-46ff-8930-7924a548286a",
   "metadata": {},
   "outputs": [
    {
     "name": "stdout",
     "output_type": "stream",
     "text": [
      "15% discount applied\n",
      "Final amount to be paid: $ 5270.0\n"
     ]
    }
   ],
   "source": [
    "customer_type  = \"Regular\"\n",
    "purchase_amount = 6200\n",
    "\n",
    "if customer_type == \"Premium\" and purchase_amount >= 10000:\n",
    "    discount = 0.30\n",
    "    print(\"30% discount applied\")\n",
    "elif customer_type == \"Regular\" and purchase_amount >= 5000:\n",
    "    discount = 0.15\n",
    "    print(\"15% discount applied\")\n",
    "elif customer_type == \"Guest\" and purchase_amount >= 3000:\n",
    "    discount = 0.05\n",
    "    print(\"5% discount applied\")\n",
    "else:\n",
    "    discount = 0.00\n",
    "    print(\"No discount available\")\n",
    "\n",
    "final_price = purchase_amount * (1 - discount)\n",
    "print(\"Final amount to be paid: $\", final_price)\n",
    "    "
   ]
  },
  {
   "cell_type": "markdown",
   "id": "56cb9fc6-7bb3-421f-81ed-91fa6359e1e6",
   "metadata": {},
   "source": [
    "# Loop - programming structure used to repeat a set of instruction multiple time\n",
    "avoid writing repetitive code\n",
    "making programs more efficient and readable\n",
    "# for loop and while loop\n"
   ]
  },
  {
   "cell_type": "code",
   "execution_count": 20,
   "id": "a7396478-f808-4b5a-a270-16c1f3ac681e",
   "metadata": {},
   "outputs": [
    {
     "name": "stdout",
     "output_type": "stream",
     "text": [
      "Roll Number: 1\n",
      "Roll Number: 2\n",
      "Roll Number: 3\n",
      "Roll Number: 4\n",
      "Roll Number: 5\n"
     ]
    }
   ],
   "source": [
    "# For Loop - used to iterate over a sequence like a list, string or range of numbers\n",
    "#Number of student in the class\n",
    "total_students = 5\n",
    "\n",
    "for roll_no in range(1, total_students + 1):\n",
    "    print(\"Roll Number:\", roll_no)"
   ]
  },
  {
   "cell_type": "code",
   "execution_count": 21,
   "id": "aa206265-1d11-4fb8-8013-206477ba8d2e",
   "metadata": {},
   "outputs": [
    {
     "name": "stdout",
     "output_type": "stream",
     "text": [
      "Countdown: 5\n",
      "Countdown: 4\n",
      "Countdown: 3\n",
      "Countdown: 2\n",
      "Countdown: 1\n",
      "Liftoff\n"
     ]
    }
   ],
   "source": [
    "# While loop - repeats a block of code while a condition is true\n",
    "\n",
    "count = 5\n",
    "\n",
    "while count > 0:\n",
    "    print(\"Countdown:\", count)\n",
    "    count -= 1\n",
    "\n",
    "print(\"Liftoff\")"
   ]
  },
  {
   "cell_type": "code",
   "execution_count": 22,
   "id": "bb9c61ea-fec2-427d-8425-1539438f1b35",
   "metadata": {},
   "outputs": [
    {
     "name": "stdout",
     "output_type": "stream",
     "text": [
      "A\n"
     ]
    }
   ],
   "source": [
    "# loop control Statement\n",
    "# break - exit the loop early\n",
    "for item in [\"A\",\"B\",\"c\"]:\n",
    "    if item == \"B\":\n",
    "        break\n",
    "    print(item)"
   ]
  },
  {
   "cell_type": "code",
   "execution_count": 23,
   "id": "5a8d6cf3-ad5c-4fde-98b8-53d3e43a27db",
   "metadata": {},
   "outputs": [
    {
     "name": "stdout",
     "output_type": "stream",
     "text": [
      "Workdays are:\n",
      "Monday\n",
      "Tuesday\n",
      "Wednesday\n",
      "Thursday\n",
      "Friday\n",
      "Saturday\n"
     ]
    }
   ],
   "source": [
    "# Continue - skip the current iteration of loop and move to the next one\n",
    "days = [\"Monday\",\"Tuesday\",\"Wednesday\",\"Thursday\",\"Friday\",\"Saturday\",\"Sunday\"]\n",
    "\n",
    "print(\"Workdays are:\")\n",
    "\n",
    "for day in days:\n",
    "    if day == \"Sunday\":\n",
    "        continue # skip Sunday\n",
    "    print(day)"
   ]
  },
  {
   "cell_type": "code",
   "execution_count": null,
   "id": "aa74a721-90fa-4a78-8b9e-85173488cd5c",
   "metadata": {},
   "outputs": [],
   "source": []
  }
 ],
 "metadata": {
  "kernelspec": {
   "display_name": "Python 3 (ipykernel)",
   "language": "python",
   "name": "python3"
  },
  "language_info": {
   "codemirror_mode": {
    "name": "ipython",
    "version": 3
   },
   "file_extension": ".py",
   "mimetype": "text/x-python",
   "name": "python",
   "nbconvert_exporter": "python",
   "pygments_lexer": "ipython3",
   "version": "3.13.5"
  }
 },
 "nbformat": 4,
 "nbformat_minor": 5
}
