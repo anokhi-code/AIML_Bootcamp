{
 "cells": [
  {
   "cell_type": "code",
   "execution_count": 1,
   "id": "98794d49-6607-4639-bffc-374636e7bd0d",
   "metadata": {},
   "outputs": [
    {
     "name": "stdout",
     "output_type": "stream",
     "text": [
      "Available Sheet: ['Sheet1', 'Sheet2', 'Sheet3']\n"
     ]
    }
   ],
   "source": [
    "import pandas as pd\n",
    "\n",
    "# load excel file\n",
    "file_path =r\"C:\\Users\\anokh\\OneDrive\\Desktop\\veracity\\Product_Data.xlsx\"\n",
    "xls = pd.ExcelFile(file_path)\n",
    "print(\"Available Sheet:\", xls.sheet_names)"
   ]
  },
  {
   "cell_type": "code",
   "execution_count": 2,
   "id": "71f5bea8-40fb-4b42-9207-4d94a08a338c",
   "metadata": {},
   "outputs": [
    {
     "name": "stdout",
     "output_type": "stream",
     "text": [
      "   product_id product_name  product_price manufacturing_date expiry_date\n",
      "0        P001    Product_1         120.50         2024-08-15  2026-02-15\n",
      "1        P002    Product_2         340.75         2025-01-10  2027-01-10\n",
      "2        P003    Product_3          99.90         2024-07-22  2026-01-22\n",
      "3        P004    Product_4         250.00         2024-09-30  2026-09-30\n",
      "4        P005    Product_5         180.60         2024-05-19  2026-05-19\n",
      "5        P006    Product_6         410.20         2025-02-01  2027-02-01\n",
      "6        P007    Product_7          75.45         2024-11-12  2026-11-12\n",
      "7        P008    Product_8         290.30         2024-10-05  2026-10-05\n",
      "8        P009    Product_9         315.99         2024-12-20  2026-12-20\n",
      "9        P010   Product_10         205.75         2024-06-25  2026-06-25\n",
      "10       P011   Product_11         455.60         2024-07-30  2026-07-30\n",
      "11       P012   Product_12         160.25         2025-01-01  2026-12-31\n",
      "12       P013   Product_13         370.10         2024-09-18  2026-09-18\n",
      "13       P014   Product_14          82.99         2024-08-07  2026-08-07\n",
      "14       P015   Product_15         299.49         2024-10-29  2026-10-29\n",
      "15       P016   Product_16         220.15         2024-05-21  2026-05-21\n",
      "16       P017   Product_17         460.30         2024-11-05  2026-11-05\n",
      "17       P018   Product_18         195.00         2024-12-15  2026-12-15\n",
      "18       P019   Product_19         135.70         2024-06-10  2026-06-10\n",
      "19       P020   Product_20         275.10         2024-09-01  2026-09-01\n"
     ]
    }
   ],
   "source": [
    "# load and  join sheets\n",
    "sheet1 = pd.read_excel(file_path, sheet_name=0)\n",
    "sheet2 = pd.read_excel(file_path, sheet_name=1)\n",
    "sheet3 = pd.read_excel(file_path, sheet_name=2)\n",
    "\n",
    "df= sheet1.merge(sheet2, on=\"product_id\", how=\"inner\") \\\n",
    "            .merge(sheet3, on=\"product_id\",how=\"inner\")\n",
    "print(df)"
   ]
  },
  {
   "cell_type": "code",
   "execution_count": 3,
   "id": "59849f23-ef02-45ac-8632-5891d9fc29ce",
   "metadata": {},
   "outputs": [],
   "source": [
    "# convert dates\n",
    "df[\"expiry_dates\"] = pd.to_datetime(df[\"expiry_date\"])\n",
    "df[\"manufacturing_date\"] = pd.to_datetime(df[\"manufacturing_date\"])\n",
    "                                   "
   ]
  },
  {
   "cell_type": "code",
   "execution_count": 4,
   "id": "eee6ffcd-af2a-4e7d-9126-57acdde6cc15",
   "metadata": {},
   "outputs": [],
   "source": [
    "df[\"product_upper\"] = df[\"product_name\"].str.upper()\n",
    "df[\"name_length\"] = df[\"product_name\"].str.len()"
   ]
  },
  {
   "cell_type": "code",
   "execution_count": 5,
   "id": "0c4e937b-5cc8-45d1-8eda-e1438d561786",
   "metadata": {},
   "outputs": [
    {
     "name": "stdout",
     "output_type": "stream",
     "text": [
      "   product_upper  name_length\n",
      "0      PRODUCT_1            9\n",
      "1      PRODUCT_2            9\n",
      "2      PRODUCT_3            9\n",
      "3      PRODUCT_4            9\n",
      "4      PRODUCT_5            9\n",
      "5      PRODUCT_6            9\n",
      "6      PRODUCT_7            9\n",
      "7      PRODUCT_8            9\n",
      "8      PRODUCT_9            9\n",
      "9     PRODUCT_10           10\n",
      "10    PRODUCT_11           10\n",
      "11    PRODUCT_12           10\n",
      "12    PRODUCT_13           10\n",
      "13    PRODUCT_14           10\n",
      "14    PRODUCT_15           10\n",
      "15    PRODUCT_16           10\n",
      "16    PRODUCT_17           10\n",
      "17    PRODUCT_18           10\n",
      "18    PRODUCT_19           10\n",
      "19    PRODUCT_20           10\n"
     ]
    }
   ],
   "source": [
    "print(df[[\"product_upper\",\"name_length\"]])"
   ]
  },
  {
   "cell_type": "code",
   "execution_count": 6,
   "id": "d2fff299-b1d1-4d69-9db1-499578509168",
   "metadata": {},
   "outputs": [
    {
     "name": "stdout",
     "output_type": "stream",
     "text": [
      "----Pivot Table-----\n",
      " expiry_date               2026     2027\n",
      "manufacturing_date                     \n",
      "2024                237.230588      NaN\n",
      "2025                160.250000  375.475 \n",
      "\n"
     ]
    }
   ],
   "source": [
    "# pivot table --- avg price manu year vs exp year\n",
    "pivot = df.pivot_table(\n",
    "    values=\"product_price\",\n",
    "    index = df[\"manufacturing_date\"].dt.year,\n",
    "    columns = df[\"expiry_date\"].dt.year,\n",
    "    aggfunc=\"mean\"\n",
    ")\n",
    "print(\"----Pivot Table-----\\n\", pivot,\"\\n\")"
   ]
  },
  {
   "cell_type": "code",
   "execution_count": 7,
   "id": "4b275206-a01e-4c62-a862-0df75ccb210f",
   "metadata": {},
   "outputs": [
    {
     "name": "stdout",
     "output_type": "stream",
     "text": [
      "-----Categorization------\n",
      "   product_name  product_price  category\n",
      "0    Product_1         120.50  Standard\n",
      "1    Product_2         340.75   Premium\n",
      "2    Product_3          99.90    Budget\n",
      "3    Product_4         250.00  Standard\n",
      "4    Product_5         180.60  Standard\n"
     ]
    }
   ],
   "source": [
    "# apply custom function(categorize product by price\n",
    "def categorize(price):\n",
    "    if price > 300:\n",
    "        return \"Premium\"\n",
    "    elif price > 100:\n",
    "        return \"Standard\"\n",
    "    else:\n",
    "        return \"Budget\"\n",
    "\n",
    "df[\"category\"] = df[\"product_price\"].apply(categorize)\n",
    "print(\"-----Categorization------\\n\", df[[\"product_name\",\"product_price\", \"category\"]].head())"
   ]
  },
  {
   "cell_type": "code",
   "execution_count": 8,
   "id": "33a9893b-57d9-4b4f-bdaa-1751d5f642d7",
   "metadata": {},
   "outputs": [
    {
     "name": "stdout",
     "output_type": "stream",
     "text": [
      "Requirement already satisfied: fuzzywuzzy in c:\\users\\anokh\\anaconda3\\lib\\site-packages (0.18.0)Note: you may need to restart the kernel to use updated packages.\n",
      "\n"
     ]
    }
   ],
   "source": [
    "pip install fuzzywuzzy"
   ]
  },
  {
   "cell_type": "code",
   "execution_count": 9,
   "id": "ad2c7697-2416-4cbb-a4e5-41cbcc2fd25c",
   "metadata": {},
   "outputs": [
    {
     "name": "stdout",
     "output_type": "stream",
     "text": [
      "Requirement already satisfied: python-Levenshtein in c:\\users\\anokh\\anaconda3\\lib\\site-packages (0.27.1)\n",
      "Requirement already satisfied: Levenshtein==0.27.1 in c:\\users\\anokh\\anaconda3\\lib\\site-packages (from python-Levenshtein) (0.27.1)\n",
      "Requirement already satisfied: rapidfuzz<4.0.0,>=3.9.0 in c:\\users\\anokh\\anaconda3\\lib\\site-packages (from Levenshtein==0.27.1->python-Levenshtein) (3.13.0)\n",
      "Note: you may need to restart the kernel to use updated packages.\n"
     ]
    }
   ],
   "source": [
    "pip install python-Levenshtein"
   ]
  },
  {
   "cell_type": "code",
   "execution_count": 10,
   "id": "664faa25-6d75-4447-bb1d-2adc9c913fca",
   "metadata": {},
   "outputs": [],
   "source": [
    "from fuzzywuzzy import process"
   ]
  },
  {
   "cell_type": "code",
   "execution_count": 11,
   "id": "725ebb51-e25b-470a-9743-c4a90d927e96",
   "metadata": {},
   "outputs": [
    {
     "name": "stdout",
     "output_type": "stream",
     "text": [
      "-----fuzzy match for Prodct 1-----\n",
      " ('Product_1', 94) \n",
      "\n"
     ]
    }
   ],
   "source": [
    "# simulating typo in product name)\n",
    "choices = df[\"product_name\"].tolist()\n",
    "match = process.extractOne(\"Prodct_1\", choices)\n",
    "print(\"-----fuzzy match for Prodct 1-----\\n\", match, \"\\n\")"
   ]
  },
  {
   "cell_type": "code",
   "execution_count": 12,
   "id": "5ad6718d-3eb5-473f-9cea-f0b51b0388db",
   "metadata": {},
   "outputs": [
    {
     "name": "stdout",
     "output_type": "stream",
     "text": [
      "-----exploding tags-------\n",
      "   product_id     tags\n",
      "0       P001      eco\n",
      "0       P001    cheap\n",
      "1       P002  premium\n",
      "1       P002  durable \n",
      "\n"
     ]
    }
   ],
   "source": [
    "# list into rows\n",
    "df2= pd.DataFrame({\n",
    "    \"product_id\":[\"P001\",\"P002\"],\n",
    "    \"tags\" : [[\"eco\",\"cheap\"],[\"premium\",\"durable\"]]\n",
    "})\n",
    "df2_exploded = df2.explode(\"tags\")\n",
    "print(\"-----exploding tags-------\\n\", df2_exploded,\"\\n\")"
   ]
  },
  {
   "cell_type": "code",
   "execution_count": 13,
   "id": "efce5abc-9fa4-4e8c-af9b-04063d00027a",
   "metadata": {},
   "outputs": [
    {
     "data": {
      "text/html": [
       "<div>\n",
       "<style scoped>\n",
       "    .dataframe tbody tr th:only-of-type {\n",
       "        vertical-align: middle;\n",
       "    }\n",
       "\n",
       "    .dataframe tbody tr th {\n",
       "        vertical-align: top;\n",
       "    }\n",
       "\n",
       "    .dataframe thead th {\n",
       "        text-align: right;\n",
       "    }\n",
       "</style>\n",
       "<table border=\"1\" class=\"dataframe\">\n",
       "  <thead>\n",
       "    <tr style=\"text-align: right;\">\n",
       "      <th></th>\n",
       "      <th>product_id</th>\n",
       "      <th>tags</th>\n",
       "    </tr>\n",
       "  </thead>\n",
       "  <tbody>\n",
       "    <tr>\n",
       "      <th>0</th>\n",
       "      <td>P001</td>\n",
       "      <td>[eco, cheap]</td>\n",
       "    </tr>\n",
       "    <tr>\n",
       "      <th>1</th>\n",
       "      <td>P002</td>\n",
       "      <td>[premium, durable]</td>\n",
       "    </tr>\n",
       "  </tbody>\n",
       "</table>\n",
       "</div>"
      ],
      "text/plain": [
       "  product_id                tags\n",
       "0       P001        [eco, cheap]\n",
       "1       P002  [premium, durable]"
      ]
     },
     "execution_count": 13,
     "metadata": {},
     "output_type": "execute_result"
    }
   ],
   "source": [
    "df2.head()"
   ]
  },
  {
   "cell_type": "code",
   "execution_count": 14,
   "id": "eae150b3-c05a-4432-a857-8201b358aec9",
   "metadata": {},
   "outputs": [
    {
     "name": "stdout",
     "output_type": "stream",
     "text": [
      "----------Rolling avg & cumsum-----\n",
      "   product_name  product_price  rolling_avg_price  cumulative_sum\n",
      "0    Product_1         120.50                NaN          120.50\n",
      "1    Product_2         340.75                NaN          461.25\n",
      "2    Product_3          99.90         187.050000          561.15\n",
      "3    Product_4         250.00         230.216667          811.15\n",
      "4    Product_5         180.60         176.833333          991.75 \n",
      "\n"
     ]
    }
   ],
   "source": [
    "# rooliing avg of price over 3 products\n",
    "df[\"rolling_avg_price\"] = df[\"product_price\"].rolling(3).mean()\n",
    "df[\"cumulative_sum\"]  = df[\"product_price\"].cumsum()\n",
    "print(\"----------Rolling avg & cumsum-----\\n\", df[[\"product_name\",\"product_price\",\"rolling_avg_price\", \"cumulative_sum\"]].head(),\"\\n\")"
   ]
  },
  {
   "cell_type": "markdown",
   "id": "9d251715-421d-442a-8b8f-bd777c9a632e",
   "metadata": {},
   "source": [
    "# Feature Engineering\n",
    "-- process of transforming raw data in meaningful feature, that improves performance of ml models\n",
    "good features--- higher accuracy, simpler model, better generalization\n"
   ]
  },
  {
   "cell_type": "code",
   "execution_count": 15,
   "id": "c861589f-f751-4dd6-8341-7519e8078d52",
   "metadata": {},
   "outputs": [
    {
     "name": "stdout",
     "output_type": "stream",
     "text": [
      "    Age   Salary      City Purchased\n",
      "0  25.0  50000.0     Delhi       Yes\n",
      "1   NaN  60000.0    Mumbai        No\n",
      "2  35.0      NaN     Delhi       Yes\n",
      "3  40.0  80000.0  Banglore        No\n",
      "4   NaN  90000.0       NaN       Yes\n"
     ]
    }
   ],
   "source": [
    "import numpy as np\n",
    "data = pd.DataFrame({\n",
    "    \"Age\": [25,np.nan,35,40,np.nan],\n",
    "    \"Salary\":[50000,60000,np.nan, 80000,90000],\n",
    "    \"City\" : ['Delhi','Mumbai','Delhi','Banglore',np.nan],\n",
    "    \"Purchased\":['Yes','No','Yes','No','Yes']\n",
    "})\n",
    "print(data)"
   ]
  },
  {
   "cell_type": "code",
   "execution_count": 16,
   "id": "e7ee168e-6283-42ef-98a6-2a08cee03475",
   "metadata": {},
   "outputs": [],
   "source": [
    "from sklearn.impute import SimpleImputer\n",
    "# create the imputer object for mean\n",
    "imputer_mean = SimpleImputer(strategy ='mean')\n",
    "\n",
    "# fill the imputer on the age column and transform it\n",
    "data[\"Age\"] = imputer_mean.fit_transform(data[[\"Age\"]])\n",
    "                             "
   ]
  },
  {
   "cell_type": "code",
   "execution_count": 17,
   "id": "fa0f529b-d963-42bd-aa60-d017adb8ff00",
   "metadata": {},
   "outputs": [
    {
     "name": "stdout",
     "output_type": "stream",
     "text": [
      "0    25.000000\n",
      "1    33.333333\n",
      "2    35.000000\n",
      "3    40.000000\n",
      "4    33.333333\n",
      "Name: Age, dtype: float64\n"
     ]
    }
   ],
   "source": [
    "print(data[\"Age\"])"
   ]
  },
  {
   "cell_type": "code",
   "execution_count": 18,
   "id": "cf97edfb-fac6-42fd-85d3-c41ab85bf8bb",
   "metadata": {},
   "outputs": [
    {
     "name": "stdout",
     "output_type": "stream",
     "text": [
      "         Age   Salary      City Purchased\n",
      "0  25.000000  50000.0     Delhi       Yes\n",
      "1  33.333333  60000.0    Mumbai        No\n",
      "2  35.000000  70000.0     Delhi       Yes\n",
      "3  40.000000  80000.0  Banglore        No\n",
      "4  33.333333  90000.0       NaN       Yes\n"
     ]
    }
   ],
   "source": [
    "imputer_median = SimpleImputer(strategy = 'median')\n",
    "data['Salary'] = imputer_median.fit_transform(data[['Salary']])\n",
    "print(data)"
   ]
  },
  {
   "cell_type": "markdown",
   "id": "56369dea-6622-4cbb-ab72-c23a45edd8c1",
   "metadata": {},
   "source": [
    "# 3 Tip\n",
    "use mean--- data is normally distributed\n",
    "use median ---- data is skewed or has outlliers"
   ]
  },
  {
   "cell_type": "code",
   "execution_count": 19,
   "id": "fe033bb9-30ad-4532-8701-69623ffe4246",
   "metadata": {},
   "outputs": [
    {
     "name": "stdout",
     "output_type": "stream",
     "text": [
      "         Age   Salary      City Purchased\n",
      "0  25.000000  50000.0     Delhi       Yes\n",
      "1  33.333333  60000.0    Mumbai        No\n",
      "2  35.000000  70000.0     Delhi       Yes\n",
      "3  40.000000  80000.0  Banglore        No\n",
      "4  33.333333  90000.0       NaN       Yes\n"
     ]
    }
   ],
   "source": [
    "from sklearn.impute import KNNImputer\n",
    "# create KNN imputer with 2 neighbors\n",
    "knn_imputer = KNNImputer(n_neighbors=2)\n",
    "# fit imputer on age and salary column and transform them\n",
    "data[[\"Age\",\"Salary\"]] == knn_imputer.fit_transform(data[[\"Age\",\"Salary\"]])\n",
    "print(data)"
   ]
  },
  {
   "cell_type": "code",
   "execution_count": 20,
   "id": "691f26c8-0862-4088-84cd-875ca96a0b0d",
   "metadata": {},
   "outputs": [
    {
     "name": "stdout",
     "output_type": "stream",
     "text": [
      "         Age   Salary      City Purchased  Purchased_Label\n",
      "0  25.000000  50000.0     Delhi       Yes                1\n",
      "1  33.333333  60000.0    Mumbai        No                0\n",
      "2  35.000000  70000.0     Delhi       Yes                1\n",
      "3  40.000000  80000.0  Banglore        No                0\n",
      "4  33.333333  90000.0       NaN       Yes                1\n"
     ]
    }
   ],
   "source": [
    "# Encoding Categorical Variables\n",
    "# Label Encoding\n",
    "from sklearn.preprocessing import LabelEncoder\n",
    "# create a label encoder object\n",
    "le = LabelEncoder()\n",
    "# Fit the encoder on purchase colum and transform it\n",
    "data[\"Purchased_Label\"] = le.fit_transform(data[\"Purchased\"])\n",
    "print(data)"
   ]
  },
  {
   "cell_type": "code",
   "execution_count": 21,
   "id": "ae4ea88f-c928-40f0-b837-78ac7a82865b",
   "metadata": {},
   "outputs": [
    {
     "name": "stdout",
     "output_type": "stream",
     "text": [
      "         Age   Salary Purchased  Purchased_Label  City_Banglore  City_Delhi  \\\n",
      "0  25.000000  50000.0       Yes                1          False        True   \n",
      "1  33.333333  60000.0        No                0          False       False   \n",
      "2  35.000000  70000.0       Yes                1          False        True   \n",
      "3  40.000000  80000.0        No                0           True       False   \n",
      "4  33.333333  90000.0       Yes                1          False       False   \n",
      "\n",
      "   City_Mumbai  \n",
      "0        False  \n",
      "1         True  \n",
      "2        False  \n",
      "3        False  \n",
      "4        False  \n"
     ]
    }
   ],
   "source": [
    "# One -hot encoding\n",
    "data = pd.get_dummies(data,columns=['City'],prefix='City')\n",
    "print(data)"
   ]
  },
  {
   "cell_type": "code",
   "execution_count": 22,
   "id": "297975c2-933c-4e3c-af70-e975f0aa7f45",
   "metadata": {},
   "outputs": [
    {
     "name": "stdout",
     "output_type": "stream",
     "text": [
      "  Purchased  Purchased_Ordinal\n",
      "0       Yes                1.0\n",
      "1        No                0.0\n",
      "2       Yes                1.0\n",
      "3        No                0.0\n",
      "4       Yes                1.0\n"
     ]
    }
   ],
   "source": [
    "from sklearn.preprocessing import OrdinalEncoder\n",
    "# create an ordinal Encoder with specified order\n",
    "ordinal_enc = OrdinalEncoder(categories=[['No','Yes']])\n",
    "\n",
    "data['Purchased_Ordinal'] = ordinal_enc.fit_transform(data[['Purchased']])\n",
    "print(data[['Purchased','Purchased_Ordinal']])"
   ]
  },
  {
   "cell_type": "code",
   "execution_count": 23,
   "id": "b3f58394-041c-4923-919f-d35ed4678c68",
   "metadata": {},
   "outputs": [
    {
     "data": {
      "text/html": [
       "<div>\n",
       "<style scoped>\n",
       "    .dataframe tbody tr th:only-of-type {\n",
       "        vertical-align: middle;\n",
       "    }\n",
       "\n",
       "    .dataframe tbody tr th {\n",
       "        vertical-align: top;\n",
       "    }\n",
       "\n",
       "    .dataframe thead th {\n",
       "        text-align: right;\n",
       "    }\n",
       "</style>\n",
       "<table border=\"1\" class=\"dataframe\">\n",
       "  <thead>\n",
       "    <tr style=\"text-align: right;\">\n",
       "      <th></th>\n",
       "      <th>Age</th>\n",
       "      <th>Salary</th>\n",
       "      <th>Purchased</th>\n",
       "      <th>Purchased_Label</th>\n",
       "      <th>City_Banglore</th>\n",
       "      <th>City_Delhi</th>\n",
       "      <th>City_Mumbai</th>\n",
       "      <th>Purchased_Ordinal</th>\n",
       "    </tr>\n",
       "  </thead>\n",
       "  <tbody>\n",
       "    <tr>\n",
       "      <th>0</th>\n",
       "      <td>25.000000</td>\n",
       "      <td>50000.0</td>\n",
       "      <td>Yes</td>\n",
       "      <td>1</td>\n",
       "      <td>False</td>\n",
       "      <td>True</td>\n",
       "      <td>False</td>\n",
       "      <td>1.0</td>\n",
       "    </tr>\n",
       "    <tr>\n",
       "      <th>1</th>\n",
       "      <td>33.333333</td>\n",
       "      <td>60000.0</td>\n",
       "      <td>No</td>\n",
       "      <td>0</td>\n",
       "      <td>False</td>\n",
       "      <td>False</td>\n",
       "      <td>True</td>\n",
       "      <td>0.0</td>\n",
       "    </tr>\n",
       "    <tr>\n",
       "      <th>2</th>\n",
       "      <td>35.000000</td>\n",
       "      <td>70000.0</td>\n",
       "      <td>Yes</td>\n",
       "      <td>1</td>\n",
       "      <td>False</td>\n",
       "      <td>True</td>\n",
       "      <td>False</td>\n",
       "      <td>1.0</td>\n",
       "    </tr>\n",
       "    <tr>\n",
       "      <th>3</th>\n",
       "      <td>40.000000</td>\n",
       "      <td>80000.0</td>\n",
       "      <td>No</td>\n",
       "      <td>0</td>\n",
       "      <td>True</td>\n",
       "      <td>False</td>\n",
       "      <td>False</td>\n",
       "      <td>0.0</td>\n",
       "    </tr>\n",
       "    <tr>\n",
       "      <th>4</th>\n",
       "      <td>33.333333</td>\n",
       "      <td>90000.0</td>\n",
       "      <td>Yes</td>\n",
       "      <td>1</td>\n",
       "      <td>False</td>\n",
       "      <td>False</td>\n",
       "      <td>False</td>\n",
       "      <td>1.0</td>\n",
       "    </tr>\n",
       "  </tbody>\n",
       "</table>\n",
       "</div>"
      ],
      "text/plain": [
       "         Age   Salary Purchased  Purchased_Label  City_Banglore  City_Delhi  \\\n",
       "0  25.000000  50000.0       Yes                1          False        True   \n",
       "1  33.333333  60000.0        No                0          False       False   \n",
       "2  35.000000  70000.0       Yes                1          False        True   \n",
       "3  40.000000  80000.0        No                0           True       False   \n",
       "4  33.333333  90000.0       Yes                1          False       False   \n",
       "\n",
       "   City_Mumbai  Purchased_Ordinal  \n",
       "0        False                1.0  \n",
       "1         True                0.0  \n",
       "2        False                1.0  \n",
       "3        False                0.0  \n",
       "4        False                1.0  "
      ]
     },
     "execution_count": 23,
     "metadata": {},
     "output_type": "execute_result"
    }
   ],
   "source": [
    "data.head()"
   ]
  },
  {
   "cell_type": "markdown",
   "id": "1b49fe6d-a162-413e-8d35-108200b2e818",
   "metadata": {},
   "source": [
    "### scaling & Normalization\n",
    "# it refers to changing the range of feature value without distorting differences in the ranges\n",
    "use case - KNN,K-means, SVM, Neural network\n",
    "## normalization\n",
    "refers to rescaling individual samples(rows) so that they have unit norm\n",
    "Use case -- care about direction rather than magnitude\n",
    "text classification(TF-IDF vectors), cosine similiarity, clustering based aon angles"
   ]
  },
  {
   "cell_type": "code",
   "execution_count": 24,
   "id": "117ccae2-0c8b-4770-b789-32225d7dc20c",
   "metadata": {},
   "outputs": [
    {
     "name": "stdout",
     "output_type": "stream",
     "text": [
      "         Age  Age_scaled\n",
      "0  25.000000   -1.725164\n",
      "1  33.333333    0.000000\n",
      "2  35.000000    0.345033\n",
      "3  40.000000    1.380131\n",
      "4  33.333333    0.000000\n"
     ]
    }
   ],
   "source": [
    "from sklearn.preprocessing import StandardScaler\n",
    "# create a StandardScaler obect\n",
    "scaler_std = StandardScaler()\n",
    "# fit the scaler on 'Age' and transform it\n",
    "data[['Age_scaled']] = scaler_std.fit_transform(data[[\"Age\"]])\n",
    "print(data[['Age','Age_scaled']])                                                      "
   ]
  },
  {
   "cell_type": "code",
   "execution_count": 25,
   "id": "d93582e9-6cf8-41f8-8c9f-143f9177ccf5",
   "metadata": {},
   "outputs": [
    {
     "name": "stdout",
     "output_type": "stream",
     "text": [
      "         Age   Salary Purchased  Purchased_Label  City_Banglore  City_Delhi  \\\n",
      "0  25.000000  50000.0       Yes                1          False        True   \n",
      "1  33.333333  60000.0        No                0          False       False   \n",
      "2  35.000000  70000.0       Yes                1          False        True   \n",
      "3  40.000000  80000.0        No                0           True       False   \n",
      "4  33.333333  90000.0       Yes                1          False       False   \n",
      "\n",
      "   City_Mumbai  Purchased_Ordinal  Age_scaled  Salary_scaled  \n",
      "0        False                1.0   -1.725164           0.00  \n",
      "1         True                0.0    0.000000           0.25  \n",
      "2        False                1.0    0.345033           0.50  \n",
      "3        False                0.0    1.380131           0.75  \n",
      "4        False                1.0    0.000000           1.00  \n"
     ]
    }
   ],
   "source": [
    "from sklearn.preprocessing import MinMaxScaler\n",
    "# createa minmaxscaler object\n",
    "scaler_minmax = MinMaxScaler()\n",
    "data[['Salary_scaled']] = scaler_minmax.fit_transform(data[['Salary']])\n",
    "print(data)"
   ]
  },
  {
   "cell_type": "code",
   "execution_count": 26,
   "id": "5712ef4e-8703-4ddd-bb26-5698585fff0b",
   "metadata": {},
   "outputs": [
    {
     "name": "stdout",
     "output_type": "stream",
     "text": [
      "         Age   Salary Purchased  Purchased_Label  City_Banglore  City_Delhi  \\\n",
      "0  25.000000  50000.0       Yes                1          False        True   \n",
      "1  33.333333  60000.0        No                0          False       False   \n",
      "2  35.000000  70000.0       Yes                1          False        True   \n",
      "3  40.000000  80000.0        No                0           True       False   \n",
      "4  33.333333  90000.0       Yes                1          False       False   \n",
      "\n",
      "   City_Mumbai  Purchased_Ordinal  Age_scaled  Salary_scaled  Salary_robust  \n",
      "0        False                1.0   -1.725164           0.00           -1.0  \n",
      "1         True                0.0    0.000000           0.25           -0.5  \n",
      "2        False                1.0    0.345033           0.50            0.0  \n",
      "3        False                0.0    1.380131           0.75            0.5  \n",
      "4        False                1.0    0.000000           1.00            1.0  \n"
     ]
    }
   ],
   "source": [
    "from sklearn.preprocessing import RobustScaler\n",
    "# create a robustScaler object\n",
    "scaler_robust = RobustScaler()\n",
    "# fit the scaler on salary column and transform it\n",
    "data[['Salary_robust']] = scaler_robust.fit_transform(data[['Salary']])\n",
    "print(data)"
   ]
  },
  {
   "cell_type": "markdown",
   "id": "0e08b21a-a1ec-4751-98d4-daa24509d6e9",
   "metadata": {},
   "source": [
    "## feature Transformation"
   ]
  },
  {
   "cell_type": "markdown",
   "id": "855132f4-617f-44e1-885c-0fdbd19d342e",
   "metadata": {},
   "source": [
    "need---\n",
    "handle skewed distribution\n",
    "reduce the effect of outliers\n",
    "make relationship linear\n"
   ]
  },
  {
   "cell_type": "code",
   "execution_count": 27,
   "id": "ae11e7bf-a86e-418f-a00f-771222d417f1",
   "metadata": {},
   "outputs": [
    {
     "name": "stdout",
     "output_type": "stream",
     "text": [
      "         Age   Salary Purchased  Purchased_Label  City_Banglore  City_Delhi  \\\n",
      "0  25.000000  50000.0       Yes                1          False        True   \n",
      "1  33.333333  60000.0        No                0          False       False   \n",
      "2  35.000000  70000.0       Yes                1          False        True   \n",
      "3  40.000000  80000.0        No                0           True       False   \n",
      "4  33.333333  90000.0       Yes                1          False       False   \n",
      "\n",
      "   City_Mumbai  Purchased_Ordinal  Age_scaled  Salary_scaled  Salary_robust  \\\n",
      "0        False                1.0   -1.725164           0.00           -1.0   \n",
      "1         True                0.0    0.000000           0.25           -0.5   \n",
      "2        False                1.0    0.345033           0.50            0.0   \n",
      "3        False                0.0    1.380131           0.75            0.5   \n",
      "4        False                1.0    0.000000           1.00            1.0   \n",
      "\n",
      "   Salary_log  \n",
      "0   10.819798  \n",
      "1   11.002117  \n",
      "2   11.156265  \n",
      "3   11.289794  \n",
      "4   11.407576  \n"
     ]
    }
   ],
   "source": [
    "# Log Transformation\n",
    "data['Salary_log'] = np.log1p(data['Salary'])\n",
    "print(data)"
   ]
  },
  {
   "cell_type": "code",
   "execution_count": 28,
   "id": "9cf8ac07-332c-4438-9d7a-a06d91c8072b",
   "metadata": {},
   "outputs": [
    {
     "name": "stdout",
     "output_type": "stream",
     "text": [
      "   Age  Salary   Age   Salary   Age^2  Age Salary      Salary^2\n",
      "0   22   20000  22.0  20000.0   484.0    440000.0  4.000000e+08\n",
      "1   25   30000  25.0  30000.0   625.0    750000.0  9.000000e+08\n",
      "2   47   40000  47.0  40000.0  2209.0   1880000.0  1.600000e+09\n",
      "3   52   60000  52.0  60000.0  2704.0   3120000.0  3.600000e+09\n"
     ]
    }
   ],
   "source": [
    "from sklearn.preprocessing import PolynomialFeatures\n",
    "\n",
    "## sample data\n",
    "df = pd.DataFrame({\n",
    "    'Age': [22,25,47,52],\n",
    "    'Salary': [20000, 30000, 40000, 60000]\n",
    "})\n",
    "\n",
    "poly = PolynomialFeatures(degree = 2, include_bias =False)\n",
    "poly_features = poly.fit_transform(df[['Age','Salary']])\n",
    "\n",
    "# get features name automatically(no need  to pass manually)\n",
    "poly_df = pd.DataFrame(poly_features, columns=poly.get_feature_names_out())\n",
    "\n",
    "df = pd.concat([df,poly_df], axis=1)\n",
    "print(df)\n",
    "\n"
   ]
  },
  {
   "cell_type": "code",
   "execution_count": 29,
   "id": "1f43626c-4660-45f4-bf32-391892b25a61",
   "metadata": {},
   "outputs": [
    {
     "name": "stdout",
     "output_type": "stream",
     "text": [
      "      Name  Age Age_bin\n",
      "0       Om   22   Young\n",
      "1     Rama   35  Middle\n",
      "2  Shubham   47  Middle\n",
      "3    David   55  Senior\n",
      "4     Vani   72  Senior\n"
     ]
    }
   ],
   "source": [
    "# binning - converting continuous numeric values into discrete\n",
    "\n",
    "d1 = pd.DataFrame({\n",
    "    'Name':['Om','Rama','Shubham','David','Vani'],\n",
    "    'Age': [22,35,47,55,72]\n",
    "})\n",
    "\n",
    "# correct binning\n",
    "d1['Age_bin'] = pd.cut(d1['Age'], bins=[0,30,50,100], labels=['Young','Middle','Senior'])\n",
    "print(d1)\n"
   ]
  },
  {
   "cell_type": "markdown",
   "id": "7004158c-b06e-426b-966c-56bec94a0d8b",
   "metadata": {},
   "source": [
    "# feature Extraction \n",
    "process of transforming raw data into new features that better represent underlying pattern\n"
   ]
  },
  {
   "cell_type": "code",
   "execution_count": 30,
   "id": "d41997ad-b88c-40dd-abea-c05e9eba3290",
   "metadata": {},
   "outputs": [
    {
     "name": "stdout",
     "output_type": "stream",
     "text": [
      "   Age  Salary        PCA1          PCA2\n",
      "0   22    2000 -2000.01748  7.999930e-01\n",
      "1   25    3000 -1000.01426 -7.999908e-01\n",
      "2   30    4000    -0.00184 -3.999958e-01\n",
      "3   35    5000  1000.01058 -7.359768e-07\n",
      "4   40    6000  2000.02300  3.999943e-01\n"
     ]
    }
   ],
   "source": [
    "from sklearn.decomposition import PCA\n",
    "# sample datset\n",
    "d2 = pd.DataFrame({\n",
    "    'Age':[22,25,30,35,40],\n",
    "    'Salary':[2000, 3000, 4000, 5000, 6000]\n",
    "})\n",
    "\n",
    "#Apply PCA\n",
    "pca = PCA(n_components = 2)\n",
    "pca_features = pca.fit_transform(d2[['Age','Salary']])\n",
    "\n",
    "#add PCA result to dataframe\n",
    "d2[['PCA1','PCA2']] = pca_features\n",
    "print(d2)"
   ]
  },
  {
   "cell_type": "code",
   "execution_count": null,
   "id": "9c4c1a56-a27f-4238-93d2-e9ba0a4ce0fe",
   "metadata": {},
   "outputs": [],
   "source": [
    "# time based features\n"
   ]
  },
  {
   "cell_type": "code",
   "execution_count": 31,
   "id": "8bd15b94-983b-42a2-b8fa-e40e1bdb2d7a",
   "metadata": {},
   "outputs": [
    {
     "name": "stdout",
     "output_type": "stream",
     "text": [
      "      Name  Age  Salary       Date  Year  Month  DayOfWeek\n",
      "0    Alice   22    2000 2021-05-01  2021      5          5\n",
      "1      Bob   25    3000 2021-05-02  2021      5          6\n",
      "2    Alina   30    4000 2021-06-15  2021      6          1\n",
      "3  Charlie   35    5000 2021-07-20  2021      7          1\n",
      "4    David   40    6000 2021-07-21  2021      7          2\n"
     ]
    }
   ],
   "source": [
    "# sample  dataset\n",
    "d3 = pd.DataFrame({\n",
    "    'Name': ['Alice','Bob','Alina','Charlie','David'],\n",
    "    'Age': [22,25,30,35,40],\n",
    "    'Salary':[2000,3000,4000,5000,6000]\n",
    "})\n",
    "\n",
    "# Add time based features\n",
    "dates = pd.to_datetime(['2021-05-01','2021-05-02','2021-06-15','2021-07-20','2021-07-21']) \n",
    "d3['Date'] = dates\n",
    "d3['Year'] = d3['Date'].dt.year\n",
    "d3['Month'] = d3['Date'].dt.month\n",
    "d3['DayOfWeek'] = d3['Date'].dt.dayofweek  # extracts day of the week (0-6) -Monday = 6, sunday = 6\n",
    "print(d3)"
   ]
  },
  {
   "cell_type": "code",
   "execution_count": null,
   "id": "687f5734-4a22-4122-87b1-dc85017ba219",
   "metadata": {},
   "outputs": [],
   "source": [
    "# feature creation"
   ]
  },
  {
   "cell_type": "code",
   "execution_count": null,
   "id": "4e99f342-1212-4012-bfab-0a6b0ad705e6",
   "metadata": {},
   "outputs": [],
   "source": [
    "-improves predictive power\n",
    "--new features can make patters easier for the model to learn\n",
    "--reduce complexity"
   ]
  },
  {
   "cell_type": "code",
   "execution_count": 32,
   "id": "62099efe-c264-40a0-987c-f24939617ca2",
   "metadata": {},
   "outputs": [
    {
     "name": "stdout",
     "output_type": "stream",
     "text": [
      "      Name  Age  Salary       Date  Year  Month  DayOfWeek  Income_per_Age\n",
      "0    Alice   22    2000 2021-05-01  2021      5          5       90.909091\n",
      "1      Bob   25    3000 2021-05-02  2021      5          6      120.000000\n",
      "2    Alina   30    4000 2021-06-15  2021      6          1      133.333333\n",
      "3  Charlie   35    5000 2021-07-20  2021      7          1      142.857143\n",
      "4    David   40    6000 2021-07-21  2021      7          2      150.000000\n"
     ]
    }
   ],
   "source": [
    "# ratios\n",
    "d3['Income_per_Age'] = d3['Salary'] / d3['Age']\n",
    "print(d3)"
   ]
  },
  {
   "cell_type": "code",
   "execution_count": 33,
   "id": "c72c5e4d-c44f-4e06-ac11-06193a912003",
   "metadata": {},
   "outputs": [
    {
     "name": "stdout",
     "output_type": "stream",
     "text": [
      "      Name  Age  Salary       Date  Year  Month  DayOfWeek  Income_per_Age  \\\n",
      "0    Alice   22    2000 2021-05-01  2021      5          5       90.909091   \n",
      "1      Bob   25    3000 2021-05-02  2021      5          6      120.000000   \n",
      "2    Alina   30    4000 2021-06-15  2021      6          1      133.333333   \n",
      "3  Charlie   35    5000 2021-07-20  2021      7          1      142.857143   \n",
      "4    David   40    6000 2021-07-21  2021      7          2      150.000000   \n",
      "\n",
      "   Salary_diff  \n",
      "0          NaN  \n",
      "1       1000.0  \n",
      "2       1000.0  \n",
      "3       1000.0  \n",
      "4       1000.0  \n"
     ]
    }
   ],
   "source": [
    "## differences\n",
    "d3['Salary_diff'] = d3['Salary'] - d3['Salary'].shift(1)\n",
    "print(d3)"
   ]
  },
  {
   "cell_type": "code",
   "execution_count": 34,
   "id": "94cf5636-ce10-4874-a6d6-e67f6e8de72c",
   "metadata": {},
   "outputs": [
    {
     "name": "stdout",
     "output_type": "stream",
     "text": [
      "      Name  Age  Salary       Date  Year  Month  DayOfWeek  Income_per_Age  \\\n",
      "0    Alice   22    2000 2021-05-01  2021      5          5       90.909091   \n",
      "1      Bob   25    3000 2021-05-02  2021      5          6      120.000000   \n",
      "2    Alina   30    4000 2021-06-15  2021      6          1      133.333333   \n",
      "3  Charlie   35    5000 2021-07-20  2021      7          1      142.857143   \n",
      "4    David   40    6000 2021-07-21  2021      7          2      150.000000   \n",
      "\n",
      "   Salary_diff  Salary_rolling_mean  \n",
      "0          NaN                  NaN  \n",
      "1       1000.0               2500.0  \n",
      "2       1000.0               3500.0  \n",
      "3       1000.0               4500.0  \n",
      "4       1000.0               5500.0  \n"
     ]
    }
   ],
   "source": [
    "# Aggregation(rolling)\n",
    "d3['Salary_rolling_mean'] = d3['Salary'].rolling(window=2).mean()\n",
    "print(d3)"
   ]
  },
  {
   "cell_type": "code",
   "execution_count": null,
   "id": "a4b7347b-9f23-42ed-82a7-cdade908d0fd",
   "metadata": {},
   "outputs": [],
   "source": [
    "## Feature selection"
   ]
  },
  {
   "cell_type": "code",
   "execution_count": 42,
   "id": "f010b8fb-c714-4267-80ef-002c83d0af3f",
   "metadata": {},
   "outputs": [
    {
     "name": "stdout",
     "output_type": "stream",
     "text": [
      "Selected Fetures [chi square]: ['Salary']\n"
     ]
    }
   ],
   "source": [
    "# createa custom dataset\n",
    "from sklearn.feature_selection import SelectKBest, chi2, RFE\n",
    "from sklearn.preprocessing import MinMaxScaler\n",
    "\n",
    "data = {\n",
    "    'Age': [22,25,47,52,46,56,55,60],\n",
    "    'Salary':[20000,22000,50000,48000,51000,60000,58000,62000],\n",
    "     'Purchased_Label': [0,0,1,1,1,1,0,1] # target variable\n",
    "}\n",
    "df = pd.DataFrame(data)\n",
    "\n",
    "x = df[['Age', 'Salary']]\n",
    "y = df[['Purchased_Label']]\n",
    "\n",
    "# filter method--- chi2 test\n",
    "scaler = MinMaxScaler()\n",
    "x_scaled = scaler.fit_transform(x)\n",
    "\n",
    "chi2_selector =SelectKBest(score_func=chi2, k=1)\n",
    "x_chi2 = chi2_selector.fit_transform(x_scaled,y)\n",
    "\n",
    "# get selected fearture name\n",
    "chi2_features = x.columns[chi2_selector.get_support()]\n",
    "print('Selected Fetures [chi square]:', list(chi2_features))"
   ]
  },
  {
   "cell_type": "code",
   "execution_count": null,
   "id": "7340d09b-a92e-44b5-a0e5-3480d24895f8",
   "metadata": {},
   "outputs": [],
   "source": []
  },
  {
   "cell_type": "code",
   "execution_count": null,
   "id": "0b8ced68-f0d1-4ef9-8d97-af3e4e97f34f",
   "metadata": {},
   "outputs": [],
   "source": []
  },
  {
   "cell_type": "code",
   "execution_count": null,
   "id": "f3d8de2b-12a1-4707-9794-3df639c62abb",
   "metadata": {},
   "outputs": [],
   "source": []
  },
  {
   "cell_type": "code",
   "execution_count": null,
   "id": "4db523c0-f55a-4f09-981b-236818f6a566",
   "metadata": {},
   "outputs": [],
   "source": []
  },
  {
   "cell_type": "code",
   "execution_count": null,
   "id": "8191d114-875a-440e-b965-901f01863cd3",
   "metadata": {},
   "outputs": [],
   "source": []
  },
  {
   "cell_type": "code",
   "execution_count": null,
   "id": "3a07c3b2-5bc8-4032-8669-b66a4a590a95",
   "metadata": {},
   "outputs": [],
   "source": []
  },
  {
   "cell_type": "code",
   "execution_count": null,
   "id": "6a82e500-300c-4ef8-8b57-926ab3ab5e2e",
   "metadata": {},
   "outputs": [],
   "source": []
  },
  {
   "cell_type": "code",
   "execution_count": null,
   "id": "cd76e275-11a9-40d6-8270-20e3da4a1d80",
   "metadata": {},
   "outputs": [],
   "source": []
  }
 ],
 "metadata": {
  "kernelspec": {
   "display_name": "Python 3 (ipykernel)",
   "language": "python",
   "name": "python3"
  },
  "language_info": {
   "codemirror_mode": {
    "name": "ipython",
    "version": 3
   },
   "file_extension": ".py",
   "mimetype": "text/x-python",
   "name": "python",
   "nbconvert_exporter": "python",
   "pygments_lexer": "ipython3",
   "version": "3.13.5"
  }
 },
 "nbformat": 4,
 "nbformat_minor": 5
}
