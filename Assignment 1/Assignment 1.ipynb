{
 "cells": [
  {
   "cell_type": "markdown",
   "id": "c3371a66",
   "metadata": {},
   "source": [
    "Section 1: Lists\n",
    "Q1. Create a list of 5 of your favorite fruits:"
   ]
  },
  {
   "cell_type": "code",
   "execution_count": 2,
   "id": "1369d495",
   "metadata": {},
   "outputs": [
    {
     "name": "stdout",
     "output_type": "stream",
     "text": [
      "Original list: ['Apple', 'Banana', 'Orange', 'Mango', 'Strawberry']\n",
      "After adding Pineapple: ['Apple', 'Banana', 'Orange', 'Mango', 'Strawberry', 'Pineapple']\n",
      "Removed Banana from the list: ['Apple', 'Orange', 'Mango', 'Strawberry', 'Pineapple']\n",
      "Length of the list: 5\n",
      "Sorted list: ['Apple', 'Mango', 'Orange', 'Pineapple', 'Strawberry']\n"
     ]
    }
   ],
   "source": [
    "# Q1: Lists Exercise\n",
    "\n",
    "# Create a list of 5 favorite fruits\n",
    "fruits = ['Apple', 'Banana', 'Orange', 'Mango', 'Strawberry']\n",
    "\n",
    "# Print the list\n",
    "print(\"Original list:\", fruits)\n",
    "\n",
    "# Add a new fruit to the list\n",
    "fruits.append('Pineapple')\n",
    "print(\"After adding Pineapple:\", fruits)\n",
    "\n",
    "# Remove the 2nd item from the list (index 1)\n",
    "removed_fruit = fruits.pop(1)\n",
    "print(f\"Removed {removed_fruit} from the list:\", fruits)\n",
    "\n",
    "# Print the length of the list\n",
    "print(\"Length of the list:\", len(fruits))\n",
    "\n",
    "# Sort the list alphabetically\n",
    "fruits.sort()\n",
    "print(\"Sorted list:\", fruits)"
   ]
  },
  {
   "cell_type": "markdown",
   "id": "33a79388",
   "metadata": {},
   "source": [
    "Section 2: Tuples\n",
    "Q2. Create a tuple of 4 of your favorite movies:"
   ]
  },
  {
   "cell_type": "code",
   "execution_count": 3,
   "id": "38511463",
   "metadata": {},
   "outputs": [
    {
     "name": "stdout",
     "output_type": "stream",
     "text": [
      "Movies tuple: ('The Shawshank Redemption', 'The Godfather', 'Pulp Fiction', 'Inception')\n",
      "Error: 'tuple' object does not support item assignment\n",
      "Explanation: Tuples are immutable, meaning their elements cannot be changed after creation.\n",
      "Last movie using negative indexing: Inception\n",
      "Second to last movie: Pulp Fiction\n",
      "Third to last movie: The Godfather\n"
     ]
    }
   ],
   "source": [
    "# Q2: Tuples Exercise\n",
    "\n",
    "# Create a tuple of 4 favorite movies\n",
    "movies = ('The Shawshank Redemption', 'The Godfather', 'Pulp Fiction', 'Inception')\n",
    "\n",
    "# Print the tuple\n",
    "print(\"Movies tuple:\", movies)\n",
    "\n",
    "# Try changing one element (this will cause an error)\n",
    "try:\n",
    "    movies[0] = 'New Movie'\n",
    "except TypeError as e:\n",
    "    print(f\"Error: {e}\")\n",
    "    print(\"Explanation: Tuples are immutable, meaning their elements cannot be changed after creation.\")\n",
    "\n",
    "# Access the last movie using negative indexing\n",
    "last_movie = movies[-1]\n",
    "print(f\"Last movie using negative indexing: {last_movie}\")\n",
    "\n",
    "# Also show other negative indices\n",
    "print(f\"Second to last movie: {movies[-2]}\")\n",
    "print(f\"Third to last movie: {movies[-3]}\")"
   ]
  },
  {
   "cell_type": "markdown",
   "id": "2a02bfc6",
   "metadata": {},
   "source": [
    "Section 3: Sets\n",
    "Q3. Create a set of 5 unique colors:"
   ]
  },
  {
   "cell_type": "code",
   "execution_count": 4,
   "id": "8fd6c589",
   "metadata": {},
   "outputs": [
    {
     "name": "stdout",
     "output_type": "stream",
     "text": [
      "Original colors set: {'Purple', 'Green', 'Yellow', 'Red', 'Blue'}\n",
      "After adding Orange: {'Purple', 'Green', 'Yellow', 'Orange', 'Red', 'Blue'}\n",
      "After trying to add duplicate 'Red': {'Purple', 'Green', 'Yellow', 'Orange', 'Red', 'Blue'}\n",
      "Note: Sets only store unique values, so duplicates are ignored.\n",
      "After removing Yellow: {'Purple', 'Green', 'Orange', 'Red', 'Blue'}\n",
      "'Blue' is in the set\n",
      "'Pink' is not in the set\n"
     ]
    }
   ],
   "source": [
    "# Q3: Sets Exercise\n",
    "\n",
    "# Create a set of 5 unique colors\n",
    "colors = {'Red', 'Blue', 'Green', 'Yellow', 'Purple'}\n",
    "print(\"Original colors set:\", colors)\n",
    "\n",
    "# Add a new color to the set\n",
    "colors.add('Orange')\n",
    "print(\"After adding Orange:\", colors)\n",
    "\n",
    "# Try adding a duplicate color (observe what happens)\n",
    "colors.add('Red')\n",
    "print(\"After trying to add duplicate 'Red':\", colors)\n",
    "print(\"Note: Sets only store unique values, so duplicates are ignored.\")\n",
    "\n",
    "# Remove a color from the set\n",
    "colors.remove('Yellow')\n",
    "print(\"After removing Yellow:\", colors)\n",
    "\n",
    "# Check if a specific color is in the set\n",
    "check_color = 'Blue'\n",
    "if check_color in colors:\n",
    "    print(f\"'{check_color}' is in the set\")\n",
    "else:\n",
    "    print(f\"'{check_color}' is not in the set\")\n",
    "\n",
    "# Check another color\n",
    "check_color2 = 'Pink'\n",
    "if check_color2 in colors:\n",
    "    print(f\"'{check_color2}' is in the set\")\n",
    "else:\n",
    "    print(f\"'{check_color2}' is not in the set\")"
   ]
  },
  {
   "cell_type": "markdown",
   "id": "557186c7",
   "metadata": {},
   "source": [
    "Section 4: Dictionaries\n",
    "Q4. Create a dictionary with student names and marks:"
   ]
  },
  {
   "cell_type": "code",
   "execution_count": 5,
   "id": "01b855ce",
   "metadata": {},
   "outputs": [
    {
     "name": "stdout",
     "output_type": "stream",
     "text": [
      "Student marks:\n",
      "Alice: 85\n",
      "Bob: 92\n",
      "Charlie: 78\n",
      "\n",
      "After adding David: {'Alice': 85, 'Bob': 92, 'Charlie': 78, 'David': 88}\n",
      "After updating Alice's marks: {'Alice': 90, 'Bob': 92, 'Charlie': 78, 'David': 88}\n",
      "After deleting Charlie: {'Alice': 90, 'Bob': 92, 'David': 88}\n",
      "\n",
      "David is a student in the dictionary\n",
      "Charlie is not a student in the dictionary\n"
     ]
    }
   ],
   "source": [
    "# Q4: Dictionaries Exercise\n",
    "\n",
    "# Create a dictionary with student names and marks\n",
    "student_marks = {'Alice': 85, 'Bob': 92, 'Charlie': 78}\n",
    "\n",
    "# Print all keys and values\n",
    "print(\"Student marks:\")\n",
    "for student, mark in student_marks.items():\n",
    "    print(f\"{student}: {mark}\")\n",
    "\n",
    "# Add a new student to the dictionary\n",
    "student_marks['David'] = 88\n",
    "print(\"\\nAfter adding David:\", student_marks)\n",
    "\n",
    "# Update marks of an existing student\n",
    "student_marks['Alice'] = 90\n",
    "print(\"After updating Alice's marks:\", student_marks)\n",
    "\n",
    "# Delete one student from the dictionary\n",
    "del student_marks['Charlie']\n",
    "print(\"After deleting Charlie:\", student_marks)\n",
    "\n",
    "# Check if 'David' is a student in the dictionary\n",
    "if 'David' in student_marks:\n",
    "    print(\"\\nDavid is a student in the dictionary\")\n",
    "else:\n",
    "    print(\"\\nDavid is not a student in the dictionary\")\n",
    "\n",
    "# Check if 'Charlie' is a student (after deletion)\n",
    "if 'Charlie' in student_marks:\n",
    "    print(\"Charlie is a student in the dictionary\")\n",
    "else:\n",
    "    print(\"Charlie is not a student in the dictionary\")"
   ]
  },
  {
   "cell_type": "markdown",
   "id": "a9d52b67",
   "metadata": {},
   "source": [
    "Section 5: Conditional Statements\n",
    "Q5. Number analysis program:"
   ]
  },
  {
   "cell_type": "code",
   "execution_count": 6,
   "id": "32214d3d",
   "metadata": {},
   "outputs": [
    {
     "name": "stdout",
     "output_type": "stream",
     "text": [
      "123.0 is positive\n",
      "123 is odd\n"
     ]
    }
   ],
   "source": [
    "# Q5: Number Analysis Program\n",
    "\n",
    "# Accept a number from the user\n",
    "try:\n",
    "    number = float(input(\"Enter a number: \"))\n",
    "    \n",
    "    # Check if the number is positive, negative, or zero\n",
    "    if number > 0:\n",
    "        print(f\"{number} is positive\")\n",
    "    elif number < 0:\n",
    "        print(f\"{number} is negative\")\n",
    "    else:\n",
    "        print(f\"{number} is zero\")\n",
    "    \n",
    "    # Check if the number is even or odd (only for integers)\n",
    "    if number == int(number):  # Check if it's an integer\n",
    "        if int(number) % 2 == 0:\n",
    "            print(f\"{int(number)} is even\")\n",
    "        else:\n",
    "            print(f\"{int(number)} is odd\")\n",
    "    else:\n",
    "        print(f\"{number} is not an integer, so it's neither even nor odd\")\n",
    "        \n",
    "except ValueError:\n",
    "    print(\"Please enter a valid number!\")"
   ]
  },
  {
   "cell_type": "markdown",
   "id": "737206f2",
   "metadata": {},
   "source": [
    "Q6. Pass/Fail checker:"
   ]
  },
  {
   "cell_type": "code",
   "execution_count": 7,
   "id": "69eb17c9",
   "metadata": {},
   "outputs": [
    {
     "name": "stdout",
     "output_type": "stream",
     "text": [
      "Fail\n"
     ]
    }
   ],
   "source": [
    "# Q6: Pass/Fail Checker\n",
    "\n",
    "try:\n",
    "    marks = float(input(\"Enter student marks: \"))\n",
    "    \n",
    "    if marks >= 40:\n",
    "        print(\"Pass\")\n",
    "    else:\n",
    "        print(\"Fail\")\n",
    "        \n",
    "except ValueError:\n",
    "    print(\"Please enter a valid number!\")"
   ]
  },
  {
   "cell_type": "markdown",
   "id": "b250ec57",
   "metadata": {},
   "source": [
    "Q7. Grading system:"
   ]
  },
  {
   "cell_type": "code",
   "execution_count": 8,
   "id": "bf7e4ea4",
   "metadata": {},
   "outputs": [
    {
     "name": "stdout",
     "output_type": "stream",
     "text": [
      "Grade: D\n"
     ]
    }
   ],
   "source": [
    "# Q7: Grading System\n",
    "\n",
    "try:\n",
    "    marks = float(input(\"Enter student marks: \"))\n",
    "    \n",
    "    if 90 <= marks <= 100:\n",
    "        grade = 'A'\n",
    "    elif 75 <= marks < 90:\n",
    "        grade = 'B'\n",
    "    elif 50 <= marks < 75:\n",
    "        grade = 'C'\n",
    "    elif 40 <= marks < 50:\n",
    "        grade = 'D'\n",
    "    elif 0 <= marks < 40:\n",
    "        grade = 'F'\n",
    "    else:\n",
    "        grade = 'Invalid'\n",
    "    \n",
    "    if grade == 'Invalid':\n",
    "        print(\"Invalid marks! Marks should be between 0 and 100.\")\n",
    "    else:\n",
    "        print(f\"Grade: {grade}\")\n",
    "        \n",
    "except ValueError:\n",
    "    print(\"Please enter a valid number!\")"
   ]
  },
  {
   "cell_type": "markdown",
   "id": "2745a41f",
   "metadata": {},
   "source": [
    "Q8. Product price lookup (Bonus):"
   ]
  },
  {
   "cell_type": "code",
   "execution_count": 9,
   "id": "939dc413",
   "metadata": {},
   "outputs": [
    {
     "name": "stdout",
     "output_type": "stream",
     "text": [
      "Available products:\n",
      "- Laptop\n",
      "- Mouse\n",
      "- Keyboard\n",
      "- Monitor\n",
      "- Headphones\n",
      "Price of Laptop: $999.99\n"
     ]
    }
   ],
   "source": [
    "# Q8: Product Price Lookup\n",
    "\n",
    "# Store product names and prices in a dictionary\n",
    "products = {\n",
    "    'Laptop': 999.99,\n",
    "    'Mouse': 25.50,\n",
    "    'Keyboard': 75.00,\n",
    "    'Monitor': 299.99,\n",
    "    'Headphones': 89.99\n",
    "}\n",
    "\n",
    "print(\"Available products:\")\n",
    "for product in products.keys():\n",
    "    print(f\"- {product}\")\n",
    "\n",
    "# Ask user to input a product name\n",
    "product_name = input(\"\\nEnter a product name: \")\n",
    "\n",
    "# Display its price if it exists\n",
    "if product_name in products:\n",
    "    print(f\"Price of {product_name}: ${products[product_name]:.2f}\")\n",
    "else:\n",
    "    print(\"Product not found\")"
   ]
  },
  {
   "cell_type": "markdown",
   "id": "c139415d",
   "metadata": {},
   "source": [
    "Section 6: Loops in Python\n",
    "Q9. For loop with animals list:"
   ]
  },
  {
   "cell_type": "code",
   "execution_count": 10,
   "id": "bccfffdd",
   "metadata": {},
   "outputs": [
    {
     "name": "stdout",
     "output_type": "stream",
     "text": [
      "My favorite animals:\n",
      "- Lion\n",
      "- Elephant\n",
      "- Giraffe\n",
      "- Tiger\n",
      "- Penguin\n"
     ]
    }
   ],
   "source": [
    "# Q9: For loop with animals list\n",
    "\n",
    "animals = ['Lion', 'Elephant', 'Giraffe', 'Tiger', 'Penguin']\n",
    "\n",
    "print(\"My favorite animals:\")\n",
    "for animal in animals:\n",
    "    print(f\"- {animal}\")"
   ]
  },
  {
   "cell_type": "markdown",
   "id": "2c9689d8",
   "metadata": {},
   "source": [
    "Q10. For loop to print numbers 1 to 10:"
   ]
  },
  {
   "cell_type": "code",
   "execution_count": 11,
   "id": "015dbec1",
   "metadata": {},
   "outputs": [
    {
     "name": "stdout",
     "output_type": "stream",
     "text": [
      "Numbers from 1 to 10:\n",
      "1 2 3 4 5 6 7 8 9 10 \n"
     ]
    }
   ],
   "source": [
    "# Q10: For loop to print numbers 1 to 10\n",
    "\n",
    "print(\"Numbers from 1 to 10:\")\n",
    "for i in range(1, 11):\n",
    "    print(i, end=\" \")\n",
    "print()  # New line at the end"
   ]
  },
  {
   "cell_type": "markdown",
   "id": "b211b387",
   "metadata": {},
   "source": [
    "Q11. While loop to print numbers 5 to 1 in reverse:"
   ]
  },
  {
   "cell_type": "code",
   "execution_count": 12,
   "id": "4ffeb11f",
   "metadata": {},
   "outputs": [
    {
     "name": "stdout",
     "output_type": "stream",
     "text": [
      "Numbers from 5 to 1 in reverse:\n",
      "5 4 3 2 1 \n"
     ]
    }
   ],
   "source": [
    "# Q11: While loop to print numbers 5 to 1 in reverse\n",
    "\n",
    "print(\"Numbers from 5 to 1 in reverse:\")\n",
    "num = 5\n",
    "while num >= 1:\n",
    "    print(num, end=\" \")\n",
    "    num -= 1\n",
    "print()  # New line at the end"
   ]
  },
  {
   "cell_type": "markdown",
   "id": "dbd2e8c9",
   "metadata": {},
   "source": [
    "Q12. For loop to print even numbers between 1 and 20:"
   ]
  },
  {
   "cell_type": "code",
   "execution_count": 13,
   "id": "64eb1b3f",
   "metadata": {},
   "outputs": [
    {
     "name": "stdout",
     "output_type": "stream",
     "text": [
      "Even numbers between 1 and 20:\n",
      "2 4 6 8 10 12 14 16 18 20 \n"
     ]
    }
   ],
   "source": [
    "# Q12: For loop to print even numbers between 1 and 20\n",
    "\n",
    "print(\"Even numbers between 1 and 20:\")\n",
    "for i in range(2, 21, 2):  # Start at 2, go up to 20, step by 2\n",
    "    print(i, end=\" \")\n",
    "print()  # New line at the end"
   ]
  },
  {
   "cell_type": "markdown",
   "id": "cf2c8c06",
   "metadata": {},
   "source": [
    "Q13. Loop with continue to skip number 5:"
   ]
  },
  {
   "cell_type": "code",
   "execution_count": 14,
   "id": "cfd7d117",
   "metadata": {},
   "outputs": [
    {
     "name": "stdout",
     "output_type": "stream",
     "text": [
      "Numbers 1 to 10, skipping 5:\n",
      "1 2 3 4 6 7 8 9 10 \n"
     ]
    }
   ],
   "source": [
    "# Q13: Loop with continue to skip number 5\n",
    "\n",
    "print(\"Numbers 1 to 10, skipping 5:\")\n",
    "for i in range(1, 11):\n",
    "    if i == 5:\n",
    "        continue  # Skip the number 5\n",
    "    print(i, end=\" \")\n",
    "print()  # New line at the end"
   ]
  },
  {
   "cell_type": "markdown",
   "id": "0501e4c9",
   "metadata": {},
   "source": [
    "Q14. Loop with break when reaching number 7:"
   ]
  },
  {
   "cell_type": "code",
   "execution_count": 15,
   "id": "cc777747",
   "metadata": {},
   "outputs": [
    {
     "name": "stdout",
     "output_type": "stream",
     "text": [
      "Numbers until 7 (breaking at 7):\n",
      "1 2 3 4 5 6 \n",
      "Loop ended because we reached 7\n"
     ]
    }
   ],
   "source": [
    "# Q14: Loop with break when reaching number 7\n",
    "\n",
    "print(\"Numbers until 7 (breaking at 7):\")\n",
    "for i in range(1, 11):\n",
    "    if i == 7:\n",
    "        break  # Exit the loop when reaching 7\n",
    "    print(i, end=\" \")\n",
    "print()  # New line at the end\n",
    "print(\"Loop ended because we reached 7\")"
   ]
  },
  {
   "cell_type": "markdown",
   "id": "9cd6989c",
   "metadata": {},
   "source": [
    "Q15. Loop with pass statement:"
   ]
  },
  {
   "cell_type": "code",
   "execution_count": 16,
   "id": "08abcd0f",
   "metadata": {},
   "outputs": [
    {
     "name": "stdout",
     "output_type": "stream",
     "text": [
      "Using pass in a loop from 1 to 3:\n",
      "Processing 1\n",
      "Passed over 2\n",
      "Processing 3\n",
      "\n",
      "Note: 'pass' is a null operation - it does nothing when executed.\n"
     ]
    }
   ],
   "source": [
    "# Q15: Loop with pass statement\n",
    "\n",
    "print(\"Using pass in a loop from 1 to 3:\")\n",
    "for i in range(1, 4):\n",
    "    if i == 2:\n",
    "        pass  # Do nothing when i is 2\n",
    "        print(f\"Passed over {i}\")\n",
    "    else:\n",
    "        print(f\"Processing {i}\")\n",
    "\n",
    "print(\"\\nNote: 'pass' is a null operation - it does nothing when executed.\")"
   ]
  },
  {
   "cell_type": "markdown",
   "id": "15173a07",
   "metadata": {},
   "source": [
    "Q16. Continuous number input with sum calculation (Bonus):"
   ]
  },
  {
   "cell_type": "code",
   "execution_count": 18,
   "id": "258fa2a7",
   "metadata": {},
   "outputs": [
    {
     "name": "stdout",
     "output_type": "stream",
     "text": [
      "Enter numbers continuously. Enter 0 to stop.\n",
      "Please enter a valid number!\n",
      "\n",
      "You entered 24 numbers.\n",
      "Sum of all numbers (excluding 0): 1752.0\n",
      "Average: 73.00\n"
     ]
    }
   ],
   "source": [
    "# Q16: Continuous number input with sum calculation\n",
    "\n",
    "print(\"Enter numbers continuously. Enter 0 to stop.\")\n",
    "\n",
    "total = 0\n",
    "count = 0\n",
    "\n",
    "while True:\n",
    "    try:\n",
    "        number = float(input(f\"Enter number {count + 1}: \"))\n",
    "        \n",
    "        if number == 0:\n",
    "            break  # Exit the loop when user enters 0\n",
    "        \n",
    "        total += number\n",
    "        count += 1\n",
    "        \n",
    "    except ValueError:\n",
    "        print(\"Please enter a valid number!\")\n",
    "\n",
    "print(f\"\\nYou entered {count} numbers.\")\n",
    "print(f\"Sum of all numbers (excluding 0): {total}\")\n",
    "if count > 0:\n",
    "    print(f\"Average: {total/count:.2f}\")"
   ]
  }
 ],
 "metadata": {
  "kernelspec": {
   "display_name": "Python 3",
   "language": "python",
   "name": "python3"
  },
  "language_info": {
   "codemirror_mode": {
    "name": "ipython",
    "version": 3
   },
   "file_extension": ".py",
   "mimetype": "text/x-python",
   "name": "python",
   "nbconvert_exporter": "python",
   "pygments_lexer": "ipython3",
   "version": "3.12.0"
  }
 },
 "nbformat": 4,
 "nbformat_minor": 5
}
