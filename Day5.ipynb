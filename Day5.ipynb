{
 "cells": [
  {
   "cell_type": "code",
   "execution_count": null,
   "id": "d44667e9-66d5-40af-8050-940eae7ee290",
   "metadata": {},
   "outputs": [],
   "source": [
    "# File Handling"
   ]
  },
  {
   "cell_type": "code",
   "execution_count": 2,
   "id": "02de01f8-6422-4dca-b941-5cbc33b5d8c6",
   "metadata": {},
   "outputs": [
    {
     "name": "stdout",
     "output_type": "stream",
     "text": [
      "Artificial Intelligence (AI) is the simulation of human intelligence by machines.\n",
      "It enables computers to learn from data, make decisions, and solve problems.\n",
      "AI is used in various fields such as healthcare, finance, transportation, and education.\n",
      "Virtual assistants like Siri and Alexa are common examples of AI in daily life.\n",
      "Machine Learning (ML), a subset of AI, allows systems to improve over time without explicit programming.\n",
      "AI helps doctors diagnose diseases more accurately and efficiently.\n",
      "In the business world, AI powers chatbots, fraud detection, and customer insights.\n",
      "Self-driving cars are a futuristic yet rapidly advancing application of AI.\n",
      "While AI offers many benefits, it also raises ethical concerns and job displacement issues.\n",
      "The future of AI depends on how responsibly and creatively we use it.\n"
     ]
    }
   ],
   "source": [
    "file_path = r\"C:\\Users\\anokh\\OneDrive\\Desktop\\samplefile.txt\"\n",
    "\n",
    "with open(file_path, \"r\") as f:\n",
    "    print(f.read())"
   ]
  },
  {
   "cell_type": "code",
   "execution_count": 3,
   "id": "3176ba3f-e7d0-4536-8c24-1842d98c2221",
   "metadata": {},
   "outputs": [],
   "source": [
    "file_path = r\"C:\\Users\\anokh\\OneDrive\\Desktop\\samplefile.txt\"\n",
    "\n",
    "# step 1 , Read current content\n",
    "with open(file_path, \"r\", encoding=\"utf-8\") as f:\n",
    "    lines = f.readlines()\n",
    "\n",
    "# step 2 modify (e.g a, add line number)\n",
    "new_lines = [f\"{i+1}:  {line}\" for i, line in enumerate(lines)]\n",
    "\n",
    "# step 3 : write modified content block\n",
    "with open(file_path, \"w\", encoding=\"utf-8\") as f:\n",
    "    f.writelines(new_lines)\n",
    "     "
   ]
  },
  {
   "cell_type": "code",
   "execution_count": 4,
   "id": "15aae73d-48ce-4f55-9ac7-3bf1b5222a22",
   "metadata": {},
   "outputs": [
    {
     "name": "stdout",
     "output_type": "stream",
     "text": [
      "1:  Artificial Intelligence (AI) is the simulation of human intelligence by machines.\n",
      "2:  It enables computers to learn from data, make decisions, and solve problems.\n",
      "3:  AI is used in various fields such as healthcare, finance, transportation, and education.\n",
      "4:  Virtual assistants like Siri and Alexa are common examples of AI in daily life.\n",
      "5:  Machine Learning (ML), a subset of AI, allows systems to improve over time without explicit programming.\n",
      "6:  AI helps doctors diagnose diseases more accurately and efficiently.\n",
      "7:  In the business world, AI powers chatbots, fraud detection, and customer insights.\n",
      "8:  Self-driving cars are a futuristic yet rapidly advancing application of AI.\n",
      "9:  While AI offers many benefits, it also raises ethical concerns and job displacement issues.\n",
      "10:  The future of AI depends on how responsibly and creatively we use it.\n"
     ]
    }
   ],
   "source": [
    "file_path = r\"C:\\Users\\anokh\\OneDrive\\Desktop\\samplefile.txt\"\n",
    "\n",
    "with open(file_path, \"r\") as f:\n",
    "    print(f.read())"
   ]
  },
  {
   "cell_type": "code",
   "execution_count": 5,
   "id": "95689454-4cc9-4be0-bf65-37117b48cdff",
   "metadata": {},
   "outputs": [],
   "source": [
    "file_path = r\"C:\\Users\\anokh\\OneDrive\\Desktop\\samplefile.txt\"\n",
    "\n",
    "with open(file_path,\"r\", encoding=\"utf-8\") as f:\n",
    "    lines = f.readlines()\n",
    "\n",
    "# replace line 2  # (index 1, since indexing starts 0)\n",
    "if len(lines) >= 2:\n",
    "    lines[1] = \"This is the new second line.\\n\"\n",
    "\n",
    "#write lines back\n",
    "with open(file_path, \"w\", encoding=\"utf-8\") as f:\n",
    "    f.writelines(lines)"
   ]
  },
  {
   "cell_type": "code",
   "execution_count": 6,
   "id": "1c04a946-6ed8-4540-be03-b68d99bad18e",
   "metadata": {},
   "outputs": [
    {
     "name": "stdout",
     "output_type": "stream",
     "text": [
      "1:  Artificial Intelligence (AI) is the simulation of human intelligence by machines.\n",
      "This is the new second line.\n",
      "3:  AI is used in various fields such as healthcare, finance, transportation, and education.\n",
      "4:  Virtual assistants like Siri and Alexa are common examples of AI in daily life.\n",
      "5:  Machine Learning (ML), a subset of AI, allows systems to improve over time without explicit programming.\n",
      "6:  AI helps doctors diagnose diseases more accurately and efficiently.\n",
      "7:  In the business world, AI powers chatbots, fraud detection, and customer insights.\n",
      "8:  Self-driving cars are a futuristic yet rapidly advancing application of AI.\n",
      "9:  While AI offers many benefits, it also raises ethical concerns and job displacement issues.\n",
      "10:  The future of AI depends on how responsibly and creatively we use it.\n"
     ]
    }
   ],
   "source": [
    "file_path = r\"C:\\Users\\anokh\\OneDrive\\Desktop\\samplefile.txt\"\n",
    "\n",
    "with open(file_path, \"r\") as f:\n",
    "    print(f.read())"
   ]
  },
  {
   "cell_type": "code",
   "execution_count": null,
   "id": "93dff115-9ce8-4133-b004-ed32356acbe7",
   "metadata": {},
   "outputs": [],
   "source": [
    "#Exceptional Handling"
   ]
  },
  {
   "cell_type": "code",
   "execution_count": 7,
   "id": "85011085-f0bd-4d60-b069-6102e0dd707d",
   "metadata": {},
   "outputs": [
    {
     "name": "stdout",
     "output_type": "stream",
     "text": [
      "An exception occurred\n"
     ]
    }
   ],
   "source": [
    "#try - lets you test block of code for error\n",
    "try:\n",
    "    print(x)\n",
    "except:\n",
    "    print(\"An exception occurred\")\n"
   ]
  },
  {
   "cell_type": "code",
   "execution_count": 8,
   "id": "61391737-7c43-414b-b17a-0b73c92d16aa",
   "metadata": {},
   "outputs": [
    {
     "name": "stdout",
     "output_type": "stream",
     "text": [
      "variable is not defined\n"
     ]
    }
   ],
   "source": [
    "# Many exception\n",
    "try:\n",
    "    print(x)\n",
    "except NameError:\n",
    "    print(\"variable is not defined\")\n",
    "except:\n",
    "    print(\"somethimng else went wrong\")"
   ]
  },
  {
   "cell_type": "code",
   "execution_count": 9,
   "id": "350450b2-7267-4bbf-b892-a933eb8300da",
   "metadata": {},
   "outputs": [
    {
     "name": "stdin",
     "output_type": "stream",
     "text": [
      "Enter a number: 20\n"
     ]
    },
    {
     "name": "stdout",
     "output_type": "stream",
     "text": [
      "10 divided by 20 is 0.5\n",
      "No exception occured.\n",
      "This block always runs.\n"
     ]
    }
   ],
   "source": [
    "# use the else keyword \n",
    "try: \n",
    "    num = int(input(\"Enter a number:\"))\n",
    "    print(\"10 divided by\", num, \"is\", 10 / num)\n",
    "except ZeroDivisionError:\n",
    "    print(\"can't divided by zero.\")\n",
    "except ValueError:\n",
    "    print(\"Invalid number.\")\n",
    "else:\n",
    "    print(\"No exception occured.\")\n",
    "finally:\n",
    "    print(\"This block always runs.\")"
   ]
  },
  {
   "cell_type": "code",
   "execution_count": null,
   "id": "a1fb5500-a0da-4651-9037-b4a0ce851f66",
   "metadata": {},
   "outputs": [],
   "source": []
  }
 ],
 "metadata": {
  "kernelspec": {
   "display_name": "Python 3 (ipykernel)",
   "language": "python",
   "name": "python3"
  },
  "language_info": {
   "codemirror_mode": {
    "name": "ipython",
    "version": 3
   },
   "file_extension": ".py",
   "mimetype": "text/x-python",
   "name": "python",
   "nbconvert_exporter": "python",
   "pygments_lexer": "ipython3",
   "version": "3.13.5"
  }
 },
 "nbformat": 4,
 "nbformat_minor": 5
}
