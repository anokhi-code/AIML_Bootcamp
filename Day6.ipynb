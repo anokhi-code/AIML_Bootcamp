{
 "cells": [
  {
   "cell_type": "code",
   "execution_count": null,
   "id": "d6498185-eb97-412b-af51-02ec28300b59",
   "metadata": {},
   "outputs": [],
   "source": [
    "#  Array - special variable which can hold more than one value at a time"
   ]
  },
  {
   "cell_type": "code",
   "execution_count": 8,
   "id": "090189c5-05a5-47eb-b980-68c7377b7b5b",
   "metadata": {},
   "outputs": [
    {
     "name": "stdout",
     "output_type": "stream",
     "text": [
      "Array: array('i', [10, 20, 30, 40, 50])\n",
      "First element: 10\n",
      "Last element: 50\n",
      "After append: array('i', [10, 20, 30, 40, 50, 60])\n",
      "After insert: array('i', [10, 20, 25, 30, 40, 50, 60])\n",
      "After remove: array('i', [10, 20, 25, 30, 50, 60])\n",
      "Iterating over array:\n",
      "10\n",
      "20\n",
      "25\n",
      "30\n",
      "50\n",
      "60\n"
     ]
    }
   ],
   "source": [
    "import array\n",
    " # create an integer array\n",
    "arr = array.array('i', [10,20,30,40,50])\n",
    "print(\"Array:\", arr)\n",
    "\n",
    "# Access elemnet by index\n",
    "print(\"First element:\", arr[0])\n",
    "print(\"Last element:\", arr[-1])\n",
    "\n",
    "# append a new elemnt at the ned of the array\n",
    "arr.append(60)\n",
    "print(\"After append:\", arr)\n",
    "\n",
    "#Insert a new value 25 at index position 2\n",
    "arr.insert(2,25)\n",
    "print(\"After insert:\", arr)\n",
    "\n",
    "# remove the first occurence of the value 40 from the array\n",
    "arr.remove(40)\n",
    "print(\"After remove:\", arr)\n",
    "\n",
    "# iterate over the array element and print them one by one\n",
    "print(\"Iterating over array:\")\n",
    "for num in arr:\n",
    "    print(num)"
   ]
  },
  {
   "cell_type": "code",
   "execution_count": null,
   "id": "50deba46-c91c-468a-8df8-24186c2ad11f",
   "metadata": {},
   "outputs": [],
   "source": [
    "#  NumPy Library- open source python Library, contain multidiminensional array as data structure. used for numerical calculation and statistical calc."
   ]
  },
  {
   "cell_type": "code",
   "execution_count": 10,
   "id": "31340d30-562f-4ed5-a14d-b5c17075942d",
   "metadata": {},
   "outputs": [],
   "source": [
    "# how to import numpy\n",
    "import numpy as np"
   ]
  },
  {
   "cell_type": "code",
   "execution_count": 11,
   "id": "5ca83206-726f-4000-92e1-0cfbf6e9e811",
   "metadata": {},
   "outputs": [
    {
     "name": "stdout",
     "output_type": "stream",
     "text": [
      "[1 2 3 4 5]\n",
      "<class 'numpy.ndarray'>\n"
     ]
    }
   ],
   "source": [
    "arr = np.array([1,2,3,4,5]) # create a Numpy arrray from a python list\n",
    "\n",
    "print(arr)\n",
    "print(type(arr))"
   ]
  },
  {
   "cell_type": "code",
   "execution_count": 12,
   "id": "7afcc631-81e7-46cd-a8a9-aca5c9c94612",
   "metadata": {},
   "outputs": [
    {
     "name": "stdout",
     "output_type": "stream",
     "text": [
      "[[1 2]\n",
      " [3 4]]\n"
     ]
    }
   ],
   "source": [
    "# create 2-D array\n",
    "arr2d = np.array([[1,2],[3,4]])\n",
    "print(arr2d)"
   ]
  },
  {
   "cell_type": "code",
   "execution_count": 13,
   "id": "dca2e637-6bbf-421f-a502-f056fe968905",
   "metadata": {},
   "outputs": [
    {
     "data": {
      "text/plain": [
       "array([[0., 0., 0., 0.],\n",
       "       [0., 0., 0., 0.],\n",
       "       [0., 0., 0., 0.]])"
      ]
     },
     "execution_count": 13,
     "metadata": {},
     "output_type": "execute_result"
    }
   ],
   "source": [
    "# np.zeros()- \n",
    "np.zeros((3,4))"
   ]
  },
  {
   "cell_type": "code",
   "execution_count": 14,
   "id": "82909240-8f1c-434c-a709-3790cd101e24",
   "metadata": {},
   "outputs": [
    {
     "data": {
      "text/plain": [
       "array([[1., 1.],\n",
       "       [1., 1.]])"
      ]
     },
     "execution_count": 14,
     "metadata": {},
     "output_type": "execute_result"
    }
   ],
   "source": [
    "#  np.ones()\n",
    "np.ones((2,2))"
   ]
  },
  {
   "cell_type": "code",
   "execution_count": 15,
   "id": "45450ac8-3fae-4020-9378-2ba6e7db98cc",
   "metadata": {},
   "outputs": [
    {
     "data": {
      "text/plain": [
       "array([[7, 7, 7],\n",
       "       [7, 7, 7]])"
      ]
     },
     "execution_count": 15,
     "metadata": {},
     "output_type": "execute_result"
    }
   ],
   "source": [
    "# np.full()\n",
    "np.full((2,3),7)"
   ]
  },
  {
   "cell_type": "code",
   "execution_count": 16,
   "id": "ea206a52-ad5c-4a9f-b7f9-298964042e80",
   "metadata": {},
   "outputs": [
    {
     "data": {
      "text/plain": [
       "array([[1., 0., 0.],\n",
       "       [0., 1., 0.],\n",
       "       [0., 0., 1.]])"
      ]
     },
     "execution_count": 16,
     "metadata": {},
     "output_type": "execute_result"
    }
   ],
   "source": [
    "# np.eye\n",
    "np.eye(3)"
   ]
  },
  {
   "cell_type": "code",
   "execution_count": 18,
   "id": "69cfafc0-b2d6-47eb-9f8f-1a4fe9b2087c",
   "metadata": {},
   "outputs": [
    {
     "data": {
      "text/plain": [
       "array([0, 2, 4, 6, 8])"
      ]
     },
     "execution_count": 18,
     "metadata": {},
     "output_type": "execute_result"
    }
   ],
   "source": [
    "# np.arrange(start, stop, step)function\n",
    "np.arange(0,10,2)"
   ]
  },
  {
   "cell_type": "code",
   "execution_count": 19,
   "id": "93e195dc-0e22-48cb-901d-494ee2795099",
   "metadata": {},
   "outputs": [
    {
     "name": "stdout",
     "output_type": "stream",
     "text": [
      "1\n"
     ]
    }
   ],
   "source": [
    "# Indexing\n",
    "arr = np.array([1,2,3,4])\n",
    "print(arr[0])"
   ]
  },
  {
   "cell_type": "code",
   "execution_count": 20,
   "id": "ac1e8a7f-c630-46d6-8e25-15e9a8fad665",
   "metadata": {},
   "outputs": [
    {
     "name": "stdout",
     "output_type": "stream",
     "text": [
      "15\n"
     ]
    }
   ],
   "source": [
    "arr = np.array([5,6,7,8])\n",
    "print(arr[2] + arr[3])"
   ]
  },
  {
   "cell_type": "code",
   "execution_count": 22,
   "id": "cce8e11f-10df-41de-9589-31dc908abc37",
   "metadata": {},
   "outputs": [
    {
     "name": "stdout",
     "output_type": "stream",
     "text": [
      "5th element on 2nd row: 10\n"
     ]
    }
   ],
   "source": [
    "# access fron 2d array\n",
    "arr = np.array([[1,2,3,4,5],[6,7,8,9,10]])\n",
    "print(\"5th element on 2nd row:\", arr[1,4])"
   ]
  },
  {
   "cell_type": "code",
   "execution_count": null,
   "id": "15713466-229f-450c-a757-96ff9a430fd7",
   "metadata": {},
   "outputs": [],
   "source": [
    "# Slicing in aarrays \n",
    "we pass slice instead of index like this: [start:end]"
   ]
  },
  {
   "cell_type": "code",
   "execution_count": 23,
   "id": "ccfc011f-ae87-4e23-82c1-99d98f894931",
   "metadata": {},
   "outputs": [
    {
     "name": "stdout",
     "output_type": "stream",
     "text": [
      "[2 3 4 5]\n"
     ]
    }
   ],
   "source": [
    "# elemnts from index 1 to index 5\n",
    "arr = np.array([1,2,3,4,5,6,7])\n",
    "print(arr[1:5])"
   ]
  },
  {
   "cell_type": "code",
   "execution_count": 24,
   "id": "1a05a8b6-c571-4fc8-9a7d-d1a468b78f41",
   "metadata": {},
   "outputs": [
    {
     "name": "stdout",
     "output_type": "stream",
     "text": [
      "[1 2 3 4]\n"
     ]
    }
   ],
   "source": [
    "arr = np.array([1,2,3,4,5,6,7])\n",
    "print(arr[:4]) # elemnts from the begining to index 4"
   ]
  },
  {
   "cell_type": "code",
   "execution_count": 25,
   "id": "6aab9f65-e6d6-402e-bfc0-97ecaf800942",
   "metadata": {},
   "outputs": [
    {
     "name": "stdout",
     "output_type": "stream",
     "text": [
      "[5 6 7]\n"
     ]
    }
   ],
   "source": [
    "arr = np.array([1,2,3,4,5,6,7])\n",
    "print(arr[4:])"
   ]
  },
  {
   "cell_type": "code",
   "execution_count": 26,
   "id": "b5d7ae03-7f7b-402b-b45e-7a9acb214c3a",
   "metadata": {},
   "outputs": [
    {
     "name": "stdout",
     "output_type": "stream",
     "text": [
      "[7 8 9]\n"
     ]
    }
   ],
   "source": [
    "# slicing 2d array\n",
    "arr = np.array([[1,2,3,4,5],[6,7,8,9,10]])\n",
    "print(arr[1,1:4])"
   ]
  },
  {
   "cell_type": "code",
   "execution_count": 27,
   "id": "d0ebcdec-0236-49e2-a450-9814018adbdc",
   "metadata": {},
   "outputs": [
    {
     "name": "stdout",
     "output_type": "stream",
     "text": [
      "[1 2 3]\n",
      "int32\n"
     ]
    }
   ],
   "source": [
    "# astype() - change thge data type from float to integer\n",
    "\n",
    "arr = np.array([1.1,2.1,3.1])\n",
    "newarr = arr.astype('i')\n",
    "print(newarr)\n",
    "print(newarr.dtype)"
   ]
  },
  {
   "cell_type": "code",
   "execution_count": null,
   "id": "a408346c-4d47-4e52-bd06-297b5e4d2f17",
   "metadata": {},
   "outputs": [],
   "source": [
    "# Copy & View\n",
    "copy owns the data and any changes made to copy willnot affect original array, and any changes made to the original array will not affect the copy\n",
    "view does not own data and any changes made to the view will affect the original array, and any changes made to the original array will affect the view"
   ]
  },
  {
   "cell_type": "code",
   "execution_count": 28,
   "id": "7c67bcd6-2b93-466b-b41f-187234764ab5",
   "metadata": {},
   "outputs": [
    {
     "name": "stdout",
     "output_type": "stream",
     "text": [
      "[55  2  3  4  5]\n",
      "[1 2 3 4 5]\n"
     ]
    }
   ],
   "source": [
    "# make a copy , change the original array and display both arrays\n",
    "\n",
    "arr = np.array([1,2,3,4,5])\n",
    "\n",
    "# make an independent copy of array\n",
    "x= arr.copy() \n",
    "\n",
    "# change the first element of arr to 55\n",
    "arr[0] = 55\n",
    "\n",
    "print(arr) # arr after modification\n",
    "print(x) # print x to confirm it is unaffected by changes arr"
   ]
  },
  {
   "cell_type": "code",
   "execution_count": 29,
   "id": "c66c7abf-8d43-4e3c-8623-2fab2609a4a6",
   "metadata": {},
   "outputs": [
    {
     "name": "stdout",
     "output_type": "stream",
     "text": [
      "[62  2  3  4  5]\n",
      "[62  2  3  4  5]\n"
     ]
    }
   ],
   "source": [
    "# make a view, change the original array, and display both arrays\n",
    "\n",
    "arr = np.array([1,2,3,4,5])\n",
    "\n",
    "# create a new view- view() does not  create a seprate copy - it shares the same data in memory\n",
    "x = arr.view()\n",
    "\n",
    "arr[0] = 62\n",
    "\n",
    "print(arr)\n",
    "print(x)\n"
   ]
  },
  {
   "cell_type": "code",
   "execution_count": 30,
   "id": "dbca5161-031c-4abb-94c9-69cfcd6be172",
   "metadata": {},
   "outputs": [
    {
     "name": "stdout",
     "output_type": "stream",
     "text": [
      "(2, 3)\n"
     ]
    }
   ],
   "source": [
    "# shape of array\n",
    "arr = np.array([[1,2,3],[4,5,6]])\n",
    "print(arr.shape)"
   ]
  },
  {
   "cell_type": "code",
   "execution_count": 31,
   "id": "3cc181ba-96ec-45fe-8af9-b31c05c54b93",
   "metadata": {},
   "outputs": [
    {
     "name": "stdout",
     "output_type": "stream",
     "text": [
      "[[ 1  2  3]\n",
      " [ 4  5  6]\n",
      " [ 7  8  9]\n",
      " [10 11 12]]\n"
     ]
    }
   ],
   "source": [
    "# reshape array\n",
    "\n",
    "arr = np.array([1, 2,3,4,5,6,7,8,9,10,11,12])\n",
    "\n",
    "newarr = arr.reshape(4,3)\n",
    "\n",
    "print(newarr)"
   ]
  },
  {
   "cell_type": "code",
   "execution_count": 32,
   "id": "7fd4fb8a-11f6-4d8e-9124-76eccad7e08a",
   "metadata": {},
   "outputs": [
    {
     "name": "stdout",
     "output_type": "stream",
     "text": [
      "[1 2 3 4 5 6]\n"
     ]
    }
   ],
   "source": [
    "# join array\n",
    "\n",
    "arr1 = np.array([1,2,3])\n",
    "arr2 = np.array([4,5,6])\n",
    "\n",
    "arr = np.concatenate((arr1, arr2))\n",
    "\n",
    "print(arr)"
   ]
  },
  {
   "cell_type": "code",
   "execution_count": 33,
   "id": "ea07d7b6-efe6-4931-a068-9cf714e93e19",
   "metadata": {},
   "outputs": [
    {
     "name": "stdout",
     "output_type": "stream",
     "text": [
      "[[1 2 5 6]\n",
      " [3 4 7 8]]\n"
     ]
    }
   ],
   "source": [
    "# Join 2d array along rows(axis= 1)\n",
    "\n",
    "arr1 = np.array([[1,2],[3,4]])\n",
    "\n",
    "arr2 = np.array([[5,6],[7,8]])\n",
    "\n",
    "arr = np.concatenate((arr1,arr2), axis = 1)\n",
    "#axis =0 - join along rows(vertically)\n",
    "# axis = 1 - join along columns(horizontally)\n",
    "\n",
    "\n",
    "print(arr)"
   ]
  },
  {
   "cell_type": "code",
   "execution_count": 34,
   "id": "f3f0a280-4a5c-4c6a-9503-10ed3a7f58f0",
   "metadata": {},
   "outputs": [
    {
     "name": "stdout",
     "output_type": "stream",
     "text": [
      "[[1 4]\n",
      " [2 5]\n",
      " [3 6]]\n"
     ]
    }
   ],
   "source": [
    "# stack() function - join two array\n",
    "arr1 = np.array([1,2,3])\n",
    "\n",
    "arr2 = np.array([4,5,6])\n",
    "\n",
    "arr = np.stack((arr1,arr2),axis=1)\n",
    "\n",
    "print(arr)"
   ]
  },
  {
   "cell_type": "code",
   "execution_count": 36,
   "id": "b9197c48-cc31-415e-be3d-deb1e3cd16e7",
   "metadata": {},
   "outputs": [
    {
     "name": "stdout",
     "output_type": "stream",
     "text": [
      "[[1 2 3]\n",
      " [4 5 6]]\n"
     ]
    }
   ],
   "source": [
    "#np.hstack()- horizontal stack- stack along rows\n",
    "# np.vstack() - vertical stack- aloong column\n",
    "arr1 = np.array([1,2,3])\n",
    "\n",
    "arr2 = np.array([4,5,6])\n",
    "\n",
    "#arr = np.hstack((arr1,arr2))\n",
    "arr = np.vstack((arr1,arr2))\n",
    "\n",
    "print(arr)"
   ]
  },
  {
   "cell_type": "code",
   "execution_count": 43,
   "id": "a408f03f-df1e-4c5f-b24f-1abf52cebe65",
   "metadata": {},
   "outputs": [
    {
     "name": "stdout",
     "output_type": "stream",
     "text": [
      "[array([1, 2]), array([3, 4]), array([5, 6])]\n"
     ]
    }
   ],
   "source": [
    "# array split()- reverse operation of joining\n",
    "arr = np.array([1,2,3,4,5,6])\n",
    "newarr = np.array_split(arr,3)\n",
    "print(newarr)"
   ]
  },
  {
   "cell_type": "code",
   "execution_count": 39,
   "id": "bd885277-68c2-4f9c-acc2-6b8e9f575109",
   "metadata": {},
   "outputs": [
    {
     "name": "stdout",
     "output_type": "stream",
     "text": [
      "(array([3, 5, 6]),)\n"
     ]
    }
   ],
   "source": [
    "# Where() method - search an array for a certain value, and return the index that get a match\n",
    "\n",
    "arr = np.array([1,2,3,4,5,4,4])\n",
    "\n",
    "x= np.where(arr == 4)\n",
    "\n",
    "print(x)"
   ]
  },
  {
   "cell_type": "code",
   "execution_count": 40,
   "id": "2bfbe33d-4018-4e77-9d1e-de265102f32a",
   "metadata": {},
   "outputs": [
    {
     "name": "stdout",
     "output_type": "stream",
     "text": [
      "[0 1 5 8]\n"
     ]
    }
   ],
   "source": [
    "# sort() array - putting element in ordered sequence\n",
    "\n",
    "arr = np.array([8,5,0,1])\n",
    "print(np.sort(arr))"
   ]
  },
  {
   "cell_type": "code",
   "execution_count": 41,
   "id": "29b36142-c83c-4188-afcd-40c8bc3994b4",
   "metadata": {},
   "outputs": [
    {
     "name": "stdout",
     "output_type": "stream",
     "text": [
      "['alto' 'benz' 'ford']\n"
     ]
    }
   ],
   "source": [
    "arr = np.array(['benz', 'ford', 'alto'])\n",
    "print(np.sort(arr))"
   ]
  },
  {
   "cell_type": "code",
   "execution_count": 44,
   "id": "b6b1f49e-f264-4b10-9999-aba43384a0b5",
   "metadata": {},
   "outputs": [
    {
     "name": "stdout",
     "output_type": "stream",
     "text": [
      "[[4 6 9]\n",
      " [0 1 3]]\n"
     ]
    }
   ],
   "source": [
    "# sort 2d array\n",
    "arr = np.array([[9,6,4],[3,0,1]])\n",
    "print(np.sort(arr))"
   ]
  },
  {
   "cell_type": "code",
   "execution_count": null,
   "id": "c8b48bae-5d60-446a-ad14-8f87e3a7d8cf",
   "metadata": {},
   "outputs": [],
   "source": []
  }
 ],
 "metadata": {
  "kernelspec": {
   "display_name": "Python 3 (ipykernel)",
   "language": "python",
   "name": "python3"
  },
  "language_info": {
   "codemirror_mode": {
    "name": "ipython",
    "version": 3
   },
   "file_extension": ".py",
   "mimetype": "text/x-python",
   "name": "python",
   "nbconvert_exporter": "python",
   "pygments_lexer": "ipython3",
   "version": "3.13.5"
  }
 },
 "nbformat": 4,
 "nbformat_minor": 5
}
