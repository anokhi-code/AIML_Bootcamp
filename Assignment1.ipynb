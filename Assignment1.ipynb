{
  "metadata": {
    "kernelspec": {
      "display_name": "Python (Pyodide)",
      "language": "python",
      "name": "python"
    },
    "language_info": {
      "codemirror_mode": {
        "name": "python",
        "version": 3
      },
      "file_extension": ".py",
      "mimetype": "text/x-python",
      "name": "python",
      "nbconvert_exporter": "python",
      "pygments_lexer": "ipython3",
      "version": "3.8"
    }
  },
  "nbformat_minor": 5,
  "nbformat": 4,
  "cells": [
    {
      "id": "d595f0c5-2a09-4994-8d2a-1ea9d6f71b6e",
      "cell_type": "code",
      "source": "#Q1",
      "metadata": {
        "trusted": true
      },
      "outputs": [],
      "execution_count": null
    },
    {
      "id": "0b19aa64-e2fa-4726-8de7-38939b43b47e",
      "cell_type": "code",
      "source": "fav_fruit = ['mango','strawberry','blueberry','acai','watermelon']\nprint(fav_fruit)",
      "metadata": {
        "trusted": true
      },
      "outputs": [
        {
          "name": "stdout",
          "output_type": "stream",
          "text": "['mango', 'strawberry', 'blueberry', 'acai', 'watermelon']\n"
        }
      ],
      "execution_count": 2
    },
    {
      "id": "d7ae272c-0ecc-4da7-bfa6-47798936b14a",
      "cell_type": "code",
      "source": "fav_fruit.append('banana')\nfav_fruit",
      "metadata": {
        "trusted": true
      },
      "outputs": [
        {
          "execution_count": 3,
          "output_type": "execute_result",
          "data": {
            "text/plain": "['mango', 'strawberry', 'blueberry', 'acai', 'watermelon', 'banana']"
          },
          "metadata": {}
        }
      ],
      "execution_count": 3
    },
    {
      "id": "0252a7cb-44dd-47d0-83c9-5e418335d64c",
      "cell_type": "code",
      "source": "fav_fruit.remove('banana')\nfav_fruit",
      "metadata": {
        "trusted": true
      },
      "outputs": [
        {
          "execution_count": 4,
          "output_type": "execute_result",
          "data": {
            "text/plain": "['mango', 'strawberry', 'blueberry', 'acai', 'watermelon']"
          },
          "metadata": {}
        }
      ],
      "execution_count": 4
    },
    {
      "id": "232e100f-1e19-4377-b6a3-df9527f725e8",
      "cell_type": "code",
      "source": "len(fav_fruit)",
      "metadata": {
        "trusted": true
      },
      "outputs": [
        {
          "execution_count": 5,
          "output_type": "execute_result",
          "data": {
            "text/plain": "5"
          },
          "metadata": {}
        }
      ],
      "execution_count": 5
    },
    {
      "id": "244022bc-1616-423f-b454-003f68450973",
      "cell_type": "code",
      "source": "fav_fruit.sort()\nfav_fruit",
      "metadata": {
        "trusted": true
      },
      "outputs": [
        {
          "execution_count": 6,
          "output_type": "execute_result",
          "data": {
            "text/plain": "['acai', 'blueberry', 'mango', 'strawberry', 'watermelon']"
          },
          "metadata": {}
        }
      ],
      "execution_count": 6
    },
    {
      "id": "c95e1b19-3af4-4cb8-93e2-b797a75917b6",
      "cell_type": "code",
      "source": "#Q2",
      "metadata": {
        "trusted": true
      },
      "outputs": [],
      "execution_count": null
    },
    {
      "id": "8460dc17-e888-4b0a-8201-295c187a56f6",
      "cell_type": "code",
      "source": "mov_tuple =('Materialists','Anora','Babygirl','Titanic')\nmov_tuple",
      "metadata": {
        "trusted": true
      },
      "outputs": [
        {
          "execution_count": 7,
          "output_type": "execute_result",
          "data": {
            "text/plain": "('Materialists', 'Anora', 'Babygirl', 'Titanic')"
          },
          "metadata": {}
        }
      ],
      "execution_count": 7
    },
    {
      "id": "a7908374-f218-4aa9-95d8-3783bc5260a6",
      "cell_type": "code",
      "source": "mov_tuple['Anora']= 'Twilight'",
      "metadata": {
        "trusted": true
      },
      "outputs": [
        {
          "ename": "<class 'TypeError'>",
          "evalue": "'tuple' object does not support item assignment",
          "traceback": [
            "\u001b[0;31m---------------------------------------------------------------------------\u001b[0m",
            "\u001b[0;31mTypeError\u001b[0m                                 Traceback (most recent call last)",
            "Cell \u001b[0;32mIn[8], line 1\u001b[0m\n\u001b[0;32m----> 1\u001b[0m \u001b[43mmov_tuple\u001b[49m\u001b[43m[\u001b[49m\u001b[38;5;124;43m'\u001b[39;49m\u001b[38;5;124;43mAnora\u001b[39;49m\u001b[38;5;124;43m'\u001b[39;49m\u001b[43m]\u001b[49m\u001b[38;5;241m=\u001b[39m \u001b[38;5;124m'\u001b[39m\u001b[38;5;124mTwilight\u001b[39m\u001b[38;5;124m'\u001b[39m\n",
            "\u001b[0;31mTypeError\u001b[0m: 'tuple' object does not support item assignment"
          ],
          "output_type": "error"
        }
      ],
      "execution_count": 8
    },
    {
      "id": "9fae5004-6758-4160-87bd-0aa306b7da12",
      "cell_type": "code",
      "source": "#Tuple is immutable that is why we can not change elements",
      "metadata": {
        "trusted": true
      },
      "outputs": [],
      "execution_count": null
    },
    {
      "id": "ea64b97b-7f96-43ee-851d-1743a6036824",
      "cell_type": "code",
      "source": "mov_tuple[-1]",
      "metadata": {
        "trusted": true
      },
      "outputs": [
        {
          "execution_count": 10,
          "output_type": "execute_result",
          "data": {
            "text/plain": "'Titanic'"
          },
          "metadata": {}
        }
      ],
      "execution_count": 10
    },
    {
      "id": "7269d29d-5940-4178-afaf-e8e24e009ddc",
      "cell_type": "code",
      "source": "#Q3",
      "metadata": {
        "trusted": true
      },
      "outputs": [],
      "execution_count": null
    },
    {
      "id": "0152e94b-a6d1-45e8-8ebf-8cd34cc38a7c",
      "cell_type": "code",
      "source": "colorset ={\"coral\",\"cerulean\",\"ivory\",\"crimson\",\"Citrine\"}\ncolorset.add(\"violet\")\ncolorset",
      "metadata": {
        "trusted": true
      },
      "outputs": [
        {
          "execution_count": 12,
          "output_type": "execute_result",
          "data": {
            "text/plain": "{'Citrine', 'cerulean', 'coral', 'crimson', 'ivory', 'violet'}"
          },
          "metadata": {}
        }
      ],
      "execution_count": 12
    },
    {
      "id": "47465fde-45fd-4ffc-bac1-d6d7af59b89a",
      "cell_type": "code",
      "source": "colorset.add(\"violet\")\ncolorset",
      "metadata": {
        "trusted": true
      },
      "outputs": [
        {
          "execution_count": 14,
          "output_type": "execute_result",
          "data": {
            "text/plain": "{'Citrine', 'cerulean', 'coral', 'crimson', 'ivory', 'violet'}"
          },
          "metadata": {}
        }
      ],
      "execution_count": 14
    },
    {
      "id": "6adcd4f7-fc36-4a50-b3ad-8ad384edbc5c",
      "cell_type": "code",
      "source": "#no change when we add the same value",
      "metadata": {
        "trusted": true
      },
      "outputs": [],
      "execution_count": null
    },
    {
      "id": "e91ae403-d5b7-49dd-b616-ed3ae099da39",
      "cell_type": "code",
      "source": "colorset.remove(\"violet\")\ncolorset",
      "metadata": {
        "trusted": true
      },
      "outputs": [
        {
          "execution_count": 15,
          "output_type": "execute_result",
          "data": {
            "text/plain": "{'Citrine', 'cerulean', 'coral', 'crimson', 'ivory'}"
          },
          "metadata": {}
        }
      ],
      "execution_count": 15
    },
    {
      "id": "b36f6282-741d-4f79-a0ea-75d076112e36",
      "cell_type": "code",
      "source": "print(\"coral\" in colorset)",
      "metadata": {
        "trusted": true
      },
      "outputs": [
        {
          "name": "stdout",
          "output_type": "stream",
          "text": "True\n"
        }
      ],
      "execution_count": 16
    },
    {
      "id": "9b535286-1310-41d2-b3b1-ff90cce363d8",
      "cell_type": "code",
      "source": "#Q4",
      "metadata": {
        "trusted": true
      },
      "outputs": [],
      "execution_count": null
    },
    {
      "id": "6fa93f54-7c68-438a-8d6d-a480daffc1db",
      "cell_type": "code",
      "source": "student_marks = {'Alice': 85, 'Bob': 92, 'Charlie': 78, 'Damon':62, 'Edith': 55}",
      "metadata": {
        "trusted": true
      },
      "outputs": [],
      "execution_count": 17
    },
    {
      "id": "dbf4e66f-327d-4b06-9375-c3854592eb73",
      "cell_type": "code",
      "source": "x= student_marks.keys()\nx",
      "metadata": {
        "trusted": true
      },
      "outputs": [
        {
          "execution_count": 18,
          "output_type": "execute_result",
          "data": {
            "text/plain": "dict_keys(['Alice', 'Bob', 'Charlie', 'Damon', 'Edith'])"
          },
          "metadata": {}
        }
      ],
      "execution_count": 18
    },
    {
      "id": "f157b5df-1a1a-4389-a01f-8b82c03d4165",
      "cell_type": "code",
      "source": "y=student_marks.values()\ny",
      "metadata": {
        "trusted": true
      },
      "outputs": [
        {
          "execution_count": 19,
          "output_type": "execute_result",
          "data": {
            "text/plain": "dict_values([85, 92, 78, 62, 55])"
          },
          "metadata": {}
        }
      ],
      "execution_count": 19
    },
    {
      "id": "09df9d18-5635-4646-8eb7-821ccae618c1",
      "cell_type": "code",
      "source": "student_marks.update({'Fiona':77})\nstudent_marks",
      "metadata": {
        "trusted": true
      },
      "outputs": [
        {
          "execution_count": 20,
          "output_type": "execute_result",
          "data": {
            "text/plain": "{'Alice': 85, 'Bob': 92, 'Charlie': 78, 'Damon': 62, 'Edith': 55, 'Fiona': 77}"
          },
          "metadata": {}
        }
      ],
      "execution_count": 20
    },
    {
      "id": "d7e1bb41-903f-4a7b-9e4f-6cc6050e8274",
      "cell_type": "code",
      "source": "student_marks.update({'Fiona':88})\nstudent_marks",
      "metadata": {
        "trusted": true
      },
      "outputs": [
        {
          "execution_count": 21,
          "output_type": "execute_result",
          "data": {
            "text/plain": "{'Alice': 85, 'Bob': 92, 'Charlie': 78, 'Damon': 62, 'Edith': 55, 'Fiona': 88}"
          },
          "metadata": {}
        }
      ],
      "execution_count": 21
    },
    {
      "id": "53fa567b-d8fb-45e7-9c7b-08ce62447513",
      "cell_type": "code",
      "source": "student_marks.pop(\"Fiona\")\nstudent_marks",
      "metadata": {
        "trusted": true
      },
      "outputs": [
        {
          "execution_count": 23,
          "output_type": "execute_result",
          "data": {
            "text/plain": "{'Alice': 85, 'Bob': 92, 'Charlie': 78, 'Damon': 62, 'Edith': 55}"
          },
          "metadata": {}
        }
      ],
      "execution_count": 23
    },
    {
      "id": "2b2b48af-d278-4a9f-ab68-f7b67c744d9d",
      "cell_type": "code",
      "source": "name = \"David\"\n\nif name in student_marks.keys():\n    print(f\" {name} is a student \")\nelse:\n    print(f\"{name} is not a student \")",
      "metadata": {
        "trusted": true
      },
      "outputs": [
        {
          "name": "stdout",
          "output_type": "stream",
          "text": "David is not a student \n"
        }
      ],
      "execution_count": 27
    },
    {
      "id": "fb876050-305b-48e0-be3e-ff0e938b5237",
      "cell_type": "code",
      "source": "#Q5",
      "metadata": {
        "trusted": true
      },
      "outputs": [],
      "execution_count": null
    },
    {
      "id": "898ef11d-cb7f-4d7a-bda0-ad9380277a1f",
      "cell_type": "code",
      "source": "number= input(\"Enter a number:\")\n",
      "metadata": {
        "trusted": true
      },
      "outputs": [
        {
          "output_type": "stream",
          "name": "stdin",
          "text": "Enter a number: 10\n"
        }
      ],
      "execution_count": 40
    },
    {
      "id": "bba6e8e1-bdbf-4212-a5b7-81b3b27b3655",
      "cell_type": "code",
      "source": "number = float(input(\"Enter a number: \"))\n\nif number > 0:\n    print(f\"The number {number} is positive.\")\nelif number < 0:\n    print(f\"The number {number} is negative.\")\nelse:\n    print(f\"The number {number} is zero.\")\n\n",
      "metadata": {
        "trusted": true
      },
      "outputs": [
        {
          "output_type": "stream",
          "name": "stdin",
          "text": "Enter a number:  10\n"
        },
        {
          "name": "stdout",
          "output_type": "stream",
          "text": "The number 10.0 is positive.\n"
        }
      ],
      "execution_count": 43
    },
    {
      "id": "c3b19f96-c8ce-47d6-965c-c614b6c10e93",
      "cell_type": "code",
      "source": "number = int(input(\"Enter a number: \"))\n\nif number % 2 == 0:\n    print(f\"The number {number} is even\")\nelse:\n    print(f\"The number {number} is odd\")\n",
      "metadata": {
        "trusted": true
      },
      "outputs": [
        {
          "output_type": "stream",
          "name": "stdin",
          "text": "Enter a number:  5\n"
        },
        {
          "name": "stdout",
          "output_type": "stream",
          "text": "The number 5 is odd\n"
        }
      ],
      "execution_count": 45
    },
    {
      "id": "ae45d9f5-8c32-49fc-a9cc-d522e3a9f6ab",
      "cell_type": "code",
      "source": "#Q6",
      "metadata": {
        "trusted": true
      },
      "outputs": [],
      "execution_count": null
    },
    {
      "id": "5f892cef-4927-4fe2-b5f7-f90b4a6c7eb5",
      "cell_type": "code",
      "source": "marks = float(input(\"Enter the student's marks:\"))\n       \nif marks >= 40:\n    print(\"Pass\")\nelse:\n    print(\"Fail\")\n",
      "metadata": {
        "trusted": true
      },
      "outputs": [
        {
          "output_type": "stream",
          "name": "stdin",
          "text": "Enter the student's marks: 35\n"
        },
        {
          "name": "stdout",
          "output_type": "stream",
          "text": "Fail\n"
        }
      ],
      "execution_count": 48
    },
    {
      "id": "549d1d38-234c-4a58-bb4f-0d27b1176995",
      "cell_type": "code",
      "source": "#Q7",
      "metadata": {
        "trusted": true
      },
      "outputs": [],
      "execution_count": null
    },
    {
      "id": "54355929-0f89-4758-b5d5-bd922ab74462",
      "cell_type": "code",
      "source": "def grade(marks):\n    if 90 <= marks <= 100:\n        return 'A'\n    elif 75 <= marks <= 89:\n        return 'B'\n    elif 50 <= marks <= 74:\n        return 'C'\n    elif 40 <= marks <= 49:\n        return 'D'\n    else:\n        return 'F'\n\nmarks = float(input(\"Enter student marks (0-100): \"))\ngrade = grade(marks)\nprint(f\"The student's grade is: {grade}\")\n",
      "metadata": {
        "trusted": true
      },
      "outputs": [
        {
          "output_type": "stream",
          "name": "stdin",
          "text": "Enter student marks (0-100):  50\n"
        },
        {
          "name": "stdout",
          "output_type": "stream",
          "text": "The student's grade is: C\n"
        }
      ],
      "execution_count": 55
    },
    {
      "id": "2ad3a7b7-146d-47dd-9382-12a07bf47d9e",
      "cell_type": "code",
      "source": "#Q8",
      "metadata": {
        "trusted": true
      },
      "outputs": [],
      "execution_count": null
    },
    {
      "id": "b446d135-94c3-4b5b-ab3b-519029a9004f",
      "cell_type": "code",
      "source": "products = {\n    \"Dishwasher\": 1200,\n    \"Microwave\": 75,\n    \"Espresso Machine\": 300,\n    \"Smart Speaker\": 150\n}\n\nproduct_name = input(\"Enter the product name: \")\n\nif product_name in products:\n    price = products[product_name]\n    print(f\"The price of {product_name} is ${price}\")\nelse:\n    print(\"Product not found\")",
      "metadata": {
        "trusted": true
      },
      "outputs": [
        {
          "output_type": "stream",
          "name": "stdin",
          "text": "Enter the product name:  Espresso Machine\n"
        },
        {
          "name": "stdout",
          "output_type": "stream",
          "text": "The price of Espresso Machine is $300\n"
        }
      ],
      "execution_count": 60
    },
    {
      "id": "3676ba95-59db-4fb4-af00-7a32abaeb4b2",
      "cell_type": "code",
      "source": "#Q9",
      "metadata": {
        "trusted": true
      },
      "outputs": [],
      "execution_count": null
    },
    {
      "id": "fca9cf3d-5972-497c-b254-7f85a0f710c3",
      "cell_type": "code",
      "source": "fav_animal = [\"Panda\", \"Penguin\", \"Lion\", \"Dolphin\", \"Bear\"]\n\nfor animal in fav_animal:\n    print(animal)\n",
      "metadata": {
        "trusted": true
      },
      "outputs": [
        {
          "name": "stdout",
          "output_type": "stream",
          "text": "Panda\nPenguin\nLion\nDolphin\nBear\n"
        }
      ],
      "execution_count": 61
    },
    {
      "id": "e1e2a59e-ed57-43fd-90af-8fe9be814a89",
      "cell_type": "code",
      "source": "#Q10",
      "metadata": {
        "trusted": true
      },
      "outputs": [],
      "execution_count": null
    },
    {
      "id": "f56ea479-93bd-4a43-9144-c57f0285e2df",
      "cell_type": "code",
      "source": "for i in range(1, 11):\n    print(i)",
      "metadata": {
        "trusted": true
      },
      "outputs": [
        {
          "name": "stdout",
          "output_type": "stream",
          "text": "1\n2\n3\n4\n5\n6\n7\n8\n9\n10\n"
        }
      ],
      "execution_count": 1
    },
    {
      "id": "f4cc06ac-dd0f-4661-95ef-4d23a8ec4c4c",
      "cell_type": "code",
      "source": "#Q11",
      "metadata": {
        "trusted": true
      },
      "outputs": [],
      "execution_count": null
    },
    {
      "id": "80779c23-8a0e-4f58-b72a-28428d192017",
      "cell_type": "code",
      "source": "count=5\nwhile count>0:\n    print(count)\n    count -= 1",
      "metadata": {
        "trusted": true
      },
      "outputs": [
        {
          "name": "stdout",
          "output_type": "stream",
          "text": "5\n4\n3\n2\n1\n"
        }
      ],
      "execution_count": 2
    },
    {
      "id": "b51090e4-1e47-4b21-9cb8-45351e3a6ec3",
      "cell_type": "code",
      "source": "#Q12",
      "metadata": {
        "trusted": true
      },
      "outputs": [],
      "execution_count": null
    },
    {
      "id": "6ba20283-e9f2-4b6e-9b8c-0955309b3c7d",
      "cell_type": "code",
      "source": "for num in range(2, 21, 2):\n    print(num)",
      "metadata": {
        "trusted": true
      },
      "outputs": [
        {
          "name": "stdout",
          "output_type": "stream",
          "text": "2\n4\n6\n8\n10\n12\n14\n16\n18\n20\n"
        }
      ],
      "execution_count": 5
    },
    {
      "id": "be99fb60-5fc7-4a16-a6bf-ef2f17952520",
      "cell_type": "code",
      "source": "#Q13",
      "metadata": {
        "trusted": true
      },
      "outputs": [],
      "execution_count": null
    },
    {
      "id": "cf9f16c6-2c2b-4ca0-bb8f-ad358c0bf4b5",
      "cell_type": "code",
      "source": "for i in range(1, 11):  \n    if i == 5:\n        continue  \n    print(i)\n",
      "metadata": {
        "trusted": true
      },
      "outputs": [
        {
          "name": "stdout",
          "output_type": "stream",
          "text": "1\n2\n3\n4\n6\n7\n8\n9\n10\n"
        }
      ],
      "execution_count": 6
    },
    {
      "id": "bdb12d95-5337-4f94-9a27-00be11c5f0f1",
      "cell_type": "code",
      "source": "#Q14",
      "metadata": {
        "trusted": true
      },
      "outputs": [],
      "execution_count": null
    },
    {
      "id": "d46985f6-671a-45ad-a316-8bcb936cc26e",
      "cell_type": "code",
      "source": "for i in range(1, 8):  \n    if i == 7:\n        break  \n    print(i)\n",
      "metadata": {
        "trusted": true
      },
      "outputs": [
        {
          "name": "stdout",
          "output_type": "stream",
          "text": "1\n2\n3\n4\n5\n6\n"
        }
      ],
      "execution_count": 7
    },
    {
      "id": "e99ebd21-2f6d-4da4-a8c9-21bd215a2fcb",
      "cell_type": "code",
      "source": "#Q15",
      "metadata": {
        "trusted": true
      },
      "outputs": [],
      "execution_count": null
    },
    {
      "id": "7b90c945-ea84-4337-ab1e-e73ed9fd79de",
      "cell_type": "code",
      "source": "for i in range(1, 4): \n    if i == 2:\n        pass  \n    print(i)",
      "metadata": {
        "trusted": true
      },
      "outputs": [
        {
          "name": "stdout",
          "output_type": "stream",
          "text": "1\n2\n3\n"
        }
      ],
      "execution_count": 8
    },
    {
      "id": "93121efa-b24e-47e9-823c-7cccba728fb4",
      "cell_type": "code",
      "source": "#Q16",
      "metadata": {
        "trusted": true
      },
      "outputs": [],
      "execution_count": null
    },
    {
      "id": "4604e95d-5356-46ff-9769-32fb3f4d5076",
      "cell_type": "code",
      "source": "total_sum = 0\n\nwhile True:\n        number = int(input(\"Enter a number (enter 0 to stop): \"))\n        if number == 0:\n            break\n        total_sum += number\n    \nprint(f\"The sum of all entered numbers (excluding 0) is: {total_sum}\")",
      "metadata": {
        "trusted": true
      },
      "outputs": [
        {
          "output_type": "stream",
          "name": "stdin",
          "text": "Enter a number (enter 0 to stop):  6\nEnter a number (enter 0 to stop):  4\nEnter a number (enter 0 to stop):  8\nEnter a number (enter 0 to stop):  2\nEnter a number (enter 0 to stop):  0\n"
        },
        {
          "name": "stdout",
          "output_type": "stream",
          "text": "The sum of all entered numbers (excluding 0) is: 20\n"
        }
      ],
      "execution_count": 10
    },
    {
      "id": "1699787d-438e-4cf0-8421-4a9d8578d6a6",
      "cell_type": "code",
      "source": "",
      "metadata": {
        "trusted": true
      },
      "outputs": [],
      "execution_count": null
    }
  ]
}