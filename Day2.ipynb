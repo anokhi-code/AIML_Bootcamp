{
 "cells": [
  {
   "cell_type": "markdown",
   "id": "24cc3aed-d317-43fe-bad1-1085530b6429",
   "metadata": {},
   "source": [
    "## Today Agenda\n",
    "# remaining operation tuples\n",
    "# Set\n",
    "# dictionary"
   ]
  },
  {
   "cell_type": "code",
   "execution_count": 1,
   "id": "0ea106d7-dea9-4750-97d3-7af9bcb9005b",
   "metadata": {},
   "outputs": [
    {
     "name": "stdout",
     "output_type": "stream",
     "text": [
      "('red', 'blue', 'green', 'white')\n"
     ]
    }
   ],
   "source": [
    "# add items in tuple\n",
    "#1st approach\n",
    "thistuple =(\"red\",\"blue\",\"green\")\n",
    "y = list(thistuple) # convert into a list\n",
    "y.append(\"white\")\n",
    "thistuple = tuple(y) # convert it back into a tuple\n",
    "print(thistuple)"
   ]
  },
  {
   "cell_type": "code",
   "execution_count": 2,
   "id": "0e273901-4bc1-4a08-8957-54c5f413ac56",
   "metadata": {},
   "outputs": [
    {
     "name": "stdout",
     "output_type": "stream",
     "text": [
      "('red', 'blue', 'green', 'white')\n"
     ]
    }
   ],
   "source": [
    "# 2nd approach - create a new tuple with the item and add it to the existing tuple\n",
    "thistuple =(\"red\",\"blue\",\"green\")\n",
    "y = (\"white\",)\n",
    "thistuple += y\n",
    "print(thistuple)"
   ]
  },
  {
   "cell_type": "code",
   "execution_count": 3,
   "id": "4ab89c0a-0e14-4668-a598-02326677c7b3",
   "metadata": {},
   "outputs": [
    {
     "data": {
      "text/plain": [
       "('b', 'c')"
      ]
     },
     "execution_count": 3,
     "metadata": {},
     "output_type": "execute_result"
    }
   ],
   "source": [
    "#remove items from tuple\n",
    "#1st approach\n",
    "thistuple = (\"a\",\"b\",\"c\")\n",
    "y =list(thistuple)\n",
    "y.remove(\"a\")\n",
    "thistuple=tuple(y)\n",
    "thistuple"
   ]
  },
  {
   "cell_type": "code",
   "execution_count": 4,
   "id": "dd3932cc-23ed-4c78-bc8a-c8dd1662d29a",
   "metadata": {},
   "outputs": [
    {
     "ename": "NameError",
     "evalue": "name 'thistuple' is not defined",
     "output_type": "error",
     "traceback": [
      "\u001b[1;31m---------------------------------------------------------------------------\u001b[0m",
      "\u001b[1;31mNameError\u001b[0m                                 Traceback (most recent call last)",
      "Cell \u001b[1;32mIn[4], line 4\u001b[0m\n\u001b[0;32m      2\u001b[0m thistuple\u001b[38;5;241m=\u001b[39m(\u001b[38;5;124m\"\u001b[39m\u001b[38;5;124ma\u001b[39m\u001b[38;5;124m\"\u001b[39m,\u001b[38;5;124m\"\u001b[39m\u001b[38;5;124mb\u001b[39m\u001b[38;5;124m\"\u001b[39m,\u001b[38;5;124m\"\u001b[39m\u001b[38;5;124mc\u001b[39m\u001b[38;5;124m\"\u001b[39m)\n\u001b[0;32m      3\u001b[0m \u001b[38;5;28;01mdel\u001b[39;00m thistuple\n\u001b[1;32m----> 4\u001b[0m \u001b[38;5;28mprint\u001b[39m(thistuple)\n",
      "\u001b[1;31mNameError\u001b[0m: name 'thistuple' is not defined"
     ]
    }
   ],
   "source": [
    "#2nd approach - use del keyword\n",
    "thistuple=(\"a\",\"b\",\"c\")\n",
    "del thistuple\n",
    "print(thistuple) # this will raise an error because the tuple no longer exists"
   ]
  },
  {
   "cell_type": "code",
   "execution_count": 5,
   "id": "1e63e49c-80d0-4c2b-a285-a50f57c597bf",
   "metadata": {},
   "outputs": [
    {
     "data": {
      "text/plain": [
       "('apple', 'orange', 'banana')"
      ]
     },
     "execution_count": 5,
     "metadata": {},
     "output_type": "execute_result"
    }
   ],
   "source": [
    "# Packing a tuple- creat a tuple , assign values to it\n",
    "fruits =(\"apple\",\"orange\",\"banana\")\n",
    "fruits"
   ]
  },
  {
   "cell_type": "code",
   "execution_count": 6,
   "id": "1825e1d4-512e-4ac6-87d7-2829a4c5c6a2",
   "metadata": {},
   "outputs": [
    {
     "name": "stdout",
     "output_type": "stream",
     "text": [
      "apple\n",
      "orange\n",
      "banana\n"
     ]
    }
   ],
   "source": [
    "# unpacking - allowed to extract the values back into variables\n",
    "fruits =(\"apple\",\"orange\",\"banana\")\n",
    "(x,y,z) = fruits\n",
    "print(x)\n",
    "print(y)\n",
    "print(z)"
   ]
  },
  {
   "cell_type": "code",
   "execution_count": 7,
   "id": "7df0735d-00d8-488a-821d-8ba7353770bb",
   "metadata": {},
   "outputs": [
    {
     "name": "stdout",
     "output_type": "stream",
     "text": [
      "('x', 'y', 'z', 1, 2, 3)\n"
     ]
    }
   ],
   "source": [
    "# Join two tuple - use + operator\n",
    "tuple1 =(\"x\",\"y\",\"z\")\n",
    "tuple2 = (1,2,3)\n",
    "tuple3= tuple1 + tuple2\n",
    "print(tuple3)"
   ]
  },
  {
   "cell_type": "code",
   "execution_count": 8,
   "id": "9e66bb6b-6e04-4f93-bd58-07a93ec92376",
   "metadata": {},
   "outputs": [
    {
     "name": "stdout",
     "output_type": "stream",
     "text": [
      "('red', 'green', 'blue', 'red', 'green', 'blue')\n"
     ]
    }
   ],
   "source": [
    "# multiply tuples - use* operator\n",
    "color = (\"red\",\"green\",\"blue\")\n",
    "mytuple = color * 2\n",
    "print(mytuple)"
   ]
  },
  {
   "cell_type": "markdown",
   "id": "54126c81-b9b4-42c6-b38e-9240822c9db8",
   "metadata": {},
   "source": [
    "# Set\n",
    "# unordered colllection of unique items\n",
    "# does not allow duplicates\n",
    "# Mutable ( can add or remove items)\n",
    "# Not accessed by index\n",
    "# Defined using curly braces : {1,2,3}"
   ]
  },
  {
   "cell_type": "code",
   "execution_count": 11,
   "id": "b9496710-052a-4894-80db-cd75683bbf66",
   "metadata": {},
   "outputs": [
    {
     "name": "stdout",
     "output_type": "stream",
     "text": [
      "{'white', 'a', 'green', 'c', 'red', 'blue', 'b'}\n"
     ]
    }
   ],
   "source": [
    "# create a set\n",
    "#myset ={\"red\",\"blue\",\"green\"}\n",
    "#myset.add(\"white\")\n",
    "newset ={\"a\",\"b\",\"c\"}\n",
    "myset.update(newset)\n",
    "print(myset)"
   ]
  },
  {
   "cell_type": "code",
   "execution_count": 13,
   "id": "32ce5de0-0de7-475a-a256-80f13ad158c8",
   "metadata": {},
   "outputs": [
    {
     "name": "stdout",
     "output_type": "stream",
     "text": [
      "{'orange', 'kiwi', 'banana', 'cherry', 'apple'}\n"
     ]
    }
   ],
   "source": [
    "# add elemnts of a list to set\n",
    "fruits = {\"apple\",\"banana\",\"cherry\"}\n",
    "mylist = [\"kiwi\",\"orange\"]\n",
    "fruits.update(mylist)\n",
    "print(fruits)"
   ]
  },
  {
   "cell_type": "code",
   "execution_count": 18,
   "id": "bcba2f2d-0261-4b77-b954-36b8ea22da11",
   "metadata": {},
   "outputs": [
    {
     "name": "stdout",
     "output_type": "stream",
     "text": [
      "{'poor', 'bad', 'good'}\n"
     ]
    }
   ],
   "source": [
    "# remove () and discard() method\n",
    "myset ={\"good\",\"bad\",\"poor\"}\n",
    "#myset.remove(\"poor\")\n",
    "#myset.remove(\"average\") # it will raise error , if item not exist in set\n",
    "#myset.discard(\"poor\")\n",
    "myset.discard(\"average\") # discard will not raise an error, if items not present in set\n",
    "print(myset)"
   ]
  },
  {
   "cell_type": "code",
   "execution_count": 19,
   "id": "083c0ff4-e4be-4077-b06e-2326aa52680e",
   "metadata": {},
   "outputs": [
    {
     "name": "stdout",
     "output_type": "stream",
     "text": [
      "banana\n",
      "{'apple', 'cherry'}\n"
     ]
    }
   ],
   "source": [
    "# pop () method - remove random item, we cannot sure what items that get removed\n",
    "fruits = {\"apple\",\"banana\",\"cherry\"}\n",
    "x = fruits.pop()\n",
    "print(x) # removed item\n",
    "print(fruits) # set after removal"
   ]
  },
  {
   "cell_type": "code",
   "execution_count": 20,
   "id": "29209d62-4126-4cc7-9077-3abf44bf8cc8",
   "metadata": {},
   "outputs": [
    {
     "name": "stdout",
     "output_type": "stream",
     "text": [
      "set()\n"
     ]
    }
   ],
   "source": [
    "#clear() -empties the set\n",
    "color = {\"red\",\"blue\"}\n",
    "color.clear()\n",
    "print(color)"
   ]
  },
  {
   "cell_type": "code",
   "execution_count": 21,
   "id": "d8d17378-45af-44c6-946b-a3322153f564",
   "metadata": {},
   "outputs": [
    {
     "ename": "NameError",
     "evalue": "name 'myset' is not defined",
     "output_type": "error",
     "traceback": [
      "\u001b[1;31m---------------------------------------------------------------------------\u001b[0m",
      "\u001b[1;31mNameError\u001b[0m                                 Traceback (most recent call last)",
      "Cell \u001b[1;32mIn[21], line 4\u001b[0m\n\u001b[0;32m      2\u001b[0m myset \u001b[38;5;241m=\u001b[39m {\u001b[38;5;124m\"\u001b[39m\u001b[38;5;124mgood\u001b[39m\u001b[38;5;124m\"\u001b[39m,\u001b[38;5;124m\"\u001b[39m\u001b[38;5;124mbad\u001b[39m\u001b[38;5;124m\"\u001b[39m}\n\u001b[0;32m      3\u001b[0m \u001b[38;5;28;01mdel\u001b[39;00m myset\n\u001b[1;32m----> 4\u001b[0m \u001b[38;5;28mprint\u001b[39m(myset)\n",
      "\u001b[1;31mNameError\u001b[0m: name 'myset' is not defined"
     ]
    }
   ],
   "source": [
    "# del keyword - delete set completely\n",
    "myset = {\"good\",\"bad\"}\n",
    "del myset\n",
    "print(myset) # raise an error coz set no longer exist"
   ]
  },
  {
   "cell_type": "markdown",
   "id": "03444531-a4fc-4f1d-86f5-9f0aabb2de20",
   "metadata": {},
   "source": [
    "# Join Sets\n",
    "# union() and update() methods - join all items from both sets\n",
    "# intersection() method - keeps only the duplicates\n",
    "# difference () method - keep the items from the first set that are not in the other set\n",
    "# Symmetric_difference() method- keeps all items except duplicates"
   ]
  },
  {
   "cell_type": "code",
   "execution_count": 23,
   "id": "96b6ef59-ec13-408d-9b27-2eb4a03dc690",
   "metadata": {},
   "outputs": [
    {
     "name": "stdout",
     "output_type": "stream",
     "text": [
      "{1, 2, 3, 'c', 'a', 'b'}\n"
     ]
    }
   ],
   "source": [
    "# Union() and \"|\" operator - both gives same result\n",
    "set1 = {\"a\",\"b\",\"c\"}\n",
    "set2 = {1,2,3}\n",
    "#set3 = set1.union(set2)\n",
    "set3 = set1 | set2\n",
    "print(set3)"
   ]
  },
  {
   "cell_type": "code",
   "execution_count": 25,
   "id": "f3e73dca-c045-4abf-9b84-a28324fd9c9e",
   "metadata": {},
   "outputs": [
    {
     "name": "stdout",
     "output_type": "stream",
     "text": [
      "{1, 2, 3, 'green', 'c', 'red', 'b', 'blue', 'jack', 'a', 'alina'}\n"
     ]
    }
   ],
   "source": [
    "# join multiple set\n",
    "set1  ={\"a\",\"b\",\"c\"}\n",
    "set2 = {1,2,3}\n",
    "set3 = {\"alina\",\"jack\"}\n",
    "set4 = {\"red\",\"green\",\"blue\"}\n",
    "#myset = set1.union(set2,set3,set4)\n",
    "myset = set1 | set2 | set3 | set4\n",
    "print(myset)"
   ]
  },
  {
   "cell_type": "code",
   "execution_count": 28,
   "id": "ec103151-4fae-4548-af0e-7ebb48089a98",
   "metadata": {},
   "outputs": [
    {
     "name": "stdout",
     "output_type": "stream",
     "text": [
      "{'apple'}\n"
     ]
    }
   ],
   "source": [
    "# intersection()\n",
    "set1 = {\"apple\",\"banana\",\"cherry\"}\n",
    "set2 = {\"google\",\"microsoft\", \"apple\"}\n",
    "#set3 = set1.intersection(set2)\n",
    "#set3 = set1 & set2\n",
    "#print(set3)\n",
    "set1.intersection_update(set2) # keep duplicates, change the original set instead of returning a new set\n",
    "print(set1)"
   ]
  },
  {
   "cell_type": "code",
   "execution_count": 29,
   "id": "c5160c9e-b4ca-4adf-b811-6f840f2039cf",
   "metadata": {},
   "outputs": [
    {
     "name": "stdout",
     "output_type": "stream",
     "text": [
      "{False, 1, 'a'}\n"
     ]
    }
   ],
   "source": [
    "# True and 1 are considered the same values same goes for False and 0\n",
    "set1 = {\"a\",1,\"b\",0,\"c\"}\n",
    "set2 = {False, \"x\",1,\"a\",2,True}\n",
    "set3 = set1.intersection(set2)\n",
    "print(set3)"
   ]
  },
  {
   "cell_type": "code",
   "execution_count": 32,
   "id": "06048653-5c0f-4ba0-97a0-8854db0c0120",
   "metadata": {},
   "outputs": [
    {
     "name": "stdout",
     "output_type": "stream",
     "text": [
      "{'banana', 'cherry'}\n"
     ]
    }
   ],
   "source": [
    "# difference() method and \"-\" operator\n",
    "set1 = {\"apple\",\"banana\",\"cherry\"}\n",
    "set2 = {\"google\",\"microsoft\",\"apple\"}\n",
    "#set3 = set1.difference(set2)\n",
    "#set3 = set1 - set2\n",
    "#print(set3)\n",
    "set1.difference_update(set2)\n",
    "print(set1)"
   ]
  },
  {
   "cell_type": "code",
   "execution_count": 35,
   "id": "b26cba0e-b86a-417b-987f-5406c352e70b",
   "metadata": {},
   "outputs": [
    {
     "name": "stdout",
     "output_type": "stream",
     "text": [
      "{'microsoft', 'banana', 'google', 'cherry'}\n"
     ]
    }
   ],
   "source": [
    "# symmetric_difference() method and \"^\" operator\n",
    "set1 = {\"apple\",\"banana\",\"cherry\"}\n",
    "set2 = {\"google\",\"microsoft\",\"apple\"}\n",
    "#set3 = set1.symmetric_difference(set2)\n",
    "#set3 = set1 ^ set2\n",
    "#print(set3)\n",
    "set1.symmetric_difference_update(set2)\n",
    "print(set1)"
   ]
  },
  {
   "cell_type": "markdown",
   "id": "65c58487-0890-42ce-b8fa-51c2a9223f3f",
   "metadata": {},
   "source": [
    "# Dictionary\n",
    "# stores key-value pairs\n",
    "# ordered \n",
    "# key must be unique\n",
    "# mutable\n",
    "# Accessed using keys\n",
    "# defined using curly {} braces"
   ]
  },
  {
   "cell_type": "code",
   "execution_count": 47,
   "id": "51c96748-93d6-43ea-bec7-dc468e7d9d7d",
   "metadata": {},
   "outputs": [
    {
     "name": "stdout",
     "output_type": "stream",
     "text": [
      "dict_items([('brand', 'Ford'), ('model', 'Mustang'), ('year', 1964)])\n"
     ]
    }
   ],
   "source": [
    "# create dict\n",
    "dict={\"brand\": \"Ford\",\"model\": \"Mustang\",\"year\": 1964}\n",
    "#print(dict)\n",
    "#print(dict[\"brand\"]) # print brand value from dict\n",
    "#x = dict[\"model\"] #access the item by its key name\n",
    "#x = dict.get(\"model\")\n",
    "#x = dict.keys()\n",
    "#x = dict.values()\n",
    "x = dict.items() #return each item in dict, as a tuple in list\n",
    "print(x)"
   ]
  },
  {
   "cell_type": "code",
   "execution_count": 48,
   "id": "6471a880-bc1e-4e97-a0e2-fff90daa1081",
   "metadata": {},
   "outputs": [
    {
     "name": "stdout",
     "output_type": "stream",
     "text": [
      "{'brand': 'Ford', 'model': 'Mustang', 'year': 2020}\n"
     ]
    }
   ],
   "source": [
    "# duplicate value overwrite the existing values\n",
    "dict = {\"brand\":\"Ford\",\"model\":\"Mustang\",\"year\":1964,\"year\":2020}\n",
    "print(dict)"
   ]
  },
  {
   "cell_type": "code",
   "execution_count": 50,
   "id": "ebc7a645-7b49-401a-973d-d103777804a4",
   "metadata": {},
   "outputs": [
    {
     "name": "stdout",
     "output_type": "stream",
     "text": [
      "{'brand': 'Ford', 'model': 'Mustang', 'year': 2018}\n"
     ]
    }
   ],
   "source": [
    "# change the value of a specific item by referring to its key name\n",
    "dict = {\"brand\":\"Ford\",\"model\":\"Mustang\",\"year\":1964}\n",
    "#dict[\"year\"] = 2020\n",
    "dict.update({\"year\":2018})\n",
    "print(dict)"
   ]
  },
  {
   "cell_type": "code",
   "execution_count": 52,
   "id": "dcd13072-555e-4cf7-ada6-2d55d93fbb93",
   "metadata": {},
   "outputs": [
    {
     "name": "stdout",
     "output_type": "stream",
     "text": [
      "{'brand': 'Ford', 'model': 'Mustang', 'year': 1964, 'color': 'white'}\n"
     ]
    }
   ],
   "source": [
    "# add dictionary item\n",
    "dict = {\"brand\":\"Ford\",\"model\":\"Mustang\",\"year\":1964}\n",
    "#dict[\"color\"] = \"blue\"\n",
    "dict.update({\"color\":\"white\"})\n",
    "print(dict)"
   ]
  },
  {
   "cell_type": "code",
   "execution_count": 55,
   "id": "1640841c-e292-4636-a75a-5d6a03acc3df",
   "metadata": {},
   "outputs": [
    {
     "name": "stdout",
     "output_type": "stream",
     "text": [
      "{}\n"
     ]
    }
   ],
   "source": [
    "# remove dictionary item\n",
    "dict = {\"brand\":\"Ford\",\"model\":\"Mustang\",\"year\":1964}\n",
    "#dict.pop(\"model\") # removes the item with the specified key name\n",
    "#dict.popitem() #removes the last inserted item\n",
    "dict.clear() # empties the dict\n",
    "print(dict)"
   ]
  },
  {
   "cell_type": "code",
   "execution_count": 56,
   "id": "99f9845b-df34-42d5-8d74-9592a86021f6",
   "metadata": {},
   "outputs": [
    {
     "data": {
      "text/plain": [
       "{'101': {'name': 'Alice', 'age': 20, 'marks': 85},\n",
       " '102': {'name': 'Bob', 'age': 21, 'marks': 90},\n",
       " '103': {'name': 'Jack', 'age': 19, 'marks': 72}}"
      ]
     },
     "execution_count": 56,
     "metadata": {},
     "output_type": "execute_result"
    }
   ],
   "source": [
    "# nested dictionary\n",
    "students = {\"101\":{\"name\":\"Alice\",\"age\":20,\"marks\":85},\"102\":{\"name\":\"Bob\",\"age\":21,\"marks\":90},\"103\":{\"name\":\"Jack\",\"age\":19,\"marks\":72}}\n",
    "students"
   ]
  }
 ],
 "metadata": {
  "kernelspec": {
   "display_name": "Python 3 (ipykernel)",
   "language": "python",
   "name": "python3"
  },
  "language_info": {
   "codemirror_mode": {
    "name": "ipython",
    "version": 3
   },
   "file_extension": ".py",
   "mimetype": "text/x-python",
   "name": "python",
   "nbconvert_exporter": "python",
   "pygments_lexer": "ipython3",
   "version": "3.13.5"
  }
 },
 "nbformat": 4,
 "nbformat_minor": 5
}
