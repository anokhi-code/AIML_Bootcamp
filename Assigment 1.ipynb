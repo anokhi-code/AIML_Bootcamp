{
 "cells": [
  {
   "cell_type": "code",
   "execution_count": 6,
   "id": "3e47e1c3",
   "metadata": {},
   "outputs": [
    {
     "name": "stdout",
     "output_type": "stream",
     "text": [
      "['apple', 'orange', 'cherry', 'kiwi', 'banana']\n"
     ]
    }
   ],
   "source": [
    "#Q1. Create a list of 5 of your favorite fruits and:\n",
    "#- Print the list.\n",
    "#- Add a new fruit to the list.\n",
    " # Remove the 2nd item from the list.\n",
    "#- Print the length of the list.\n",
    "\n",
    "\n",
    "#- Sort the list alphabetically.\n",
    "\n",
    "my_list=['apple','orange','cherry','kiwi','banana']\n",
    "print(my_list)\n"
   ]
  },
  {
   "cell_type": "code",
   "execution_count": 7,
   "id": "739883fe",
   "metadata": {},
   "outputs": [
    {
     "data": {
      "text/plain": [
       "['apple', 'cherry', 'kiwi', 'banana']"
      ]
     },
     "execution_count": 7,
     "metadata": {},
     "output_type": "execute_result"
    }
   ],
   "source": [
    "last=my_list.pop(1)\n",
    "my_list"
   ]
  },
  {
   "cell_type": "code",
   "execution_count": 8,
   "id": "99e2729f",
   "metadata": {},
   "outputs": [
    {
     "data": {
      "text/plain": [
       "4"
      ]
     },
     "execution_count": 8,
     "metadata": {},
     "output_type": "execute_result"
    }
   ],
   "source": [
    "len(my_list)"
   ]
  },
  {
   "cell_type": "code",
   "execution_count": 9,
   "id": "06e6f604",
   "metadata": {},
   "outputs": [
    {
     "data": {
      "text/plain": [
       "['apple', 'banana', 'cherry', 'kiwi']"
      ]
     },
     "execution_count": 9,
     "metadata": {},
     "output_type": "execute_result"
    }
   ],
   "source": [
    "my_list.sort()\n",
    "my_list"
   ]
  },
  {
   "cell_type": "code",
   "execution_count": 11,
   "id": "ccbf330f",
   "metadata": {},
   "outputs": [
    {
     "name": "stdout",
     "output_type": "stream",
     "text": [
      "('conjuring', 'f1', 'puspa', 'kgf')\n"
     ]
    }
   ],
   "source": [
    "#Q2. Create a tuple of 4 of your favorite movies.\n",
    "#- Print the tuple.\n",
    "#- Try changing one element (observe the error and explain why).\n",
    "#- Access the last movie using negative indexing.\n",
    "\n",
    "my_tuple=('conjuring','f1','puspa','kgf')\n",
    "print(my_tuple)"
   ]
  },
  {
   "cell_type": "code",
   "execution_count": 14,
   "id": "8456dc53",
   "metadata": {},
   "outputs": [
    {
     "ename": "TypeError",
     "evalue": "'tuple' object does not support item assignment",
     "output_type": "error",
     "traceback": [
      "\u001b[1;31m---------------------------------------------------------------------------\u001b[0m",
      "\u001b[1;31mTypeError\u001b[0m                                 Traceback (most recent call last)",
      "\u001b[1;32mC:\\Users\\MYPC~1\\AppData\\Local\\Temp/ipykernel_10648/1724397054.py\u001b[0m in \u001b[0;36m<module>\u001b[1;34m\u001b[0m\n\u001b[1;32m----> 1\u001b[1;33m \u001b[0mmy_tuple\u001b[0m\u001b[1;33m[\u001b[0m\u001b[1;34m'f1'\u001b[0m\u001b[1;33m]\u001b[0m\u001b[1;33m=\u001b[0m\u001b[1;34m'kgf2'\u001b[0m\u001b[1;33m\u001b[0m\u001b[1;33m\u001b[0m\u001b[0m\n\u001b[0m",
      "\u001b[1;31mTypeError\u001b[0m: 'tuple' object does not support item assignment"
     ]
    }
   ],
   "source": [
    "my_tuple['f1']='kgf2' #immutability the reason it can be changed becuase in tuple once a value is created it can be changed or modified."
   ]
  },
  {
   "cell_type": "code",
   "execution_count": 15,
   "id": "001b9c13",
   "metadata": {},
   "outputs": [
    {
     "data": {
      "text/plain": [
       "'kgf'"
      ]
     },
     "execution_count": 15,
     "metadata": {},
     "output_type": "execute_result"
    }
   ],
   "source": [
    "my_tuple[-1]"
   ]
  },
  {
   "cell_type": "code",
   "execution_count": null,
   "id": "c227c2ad",
   "metadata": {},
   "outputs": [],
   "source": [
    "#Section 3: Sets\n",
    "    #Q3. Create a set of 5 unique colors.\n",
    "#- Add a new color to the set.\n",
    "#- Try adding a duplicate color (observe what happens).\n",
    "#- Remove a color from the set.\n",
    "#- Check if a specific color (e.g., \"Blue\") is in the set."
   ]
  },
  {
   "cell_type": "code",
   "execution_count": 16,
   "id": "d304e3e3",
   "metadata": {},
   "outputs": [
    {
     "data": {
      "text/plain": [
       "{'green', 'ornage', 'purple', 'red', 'white'}"
      ]
     },
     "execution_count": 16,
     "metadata": {},
     "output_type": "execute_result"
    }
   ],
   "source": [
    "my_set={'purple','white','green','ornage','red'}\n",
    "my_set"
   ]
  },
  {
   "cell_type": "code",
   "execution_count": 18,
   "id": "eb6f80ee",
   "metadata": {},
   "outputs": [
    {
     "data": {
      "text/plain": [
       "{'green', 'ornage', 'pink', 'purple', 'red', 'white'}"
      ]
     },
     "execution_count": 18,
     "metadata": {},
     "output_type": "execute_result"
    }
   ],
   "source": [
    "my_set.add('pink')\n",
    "my_set"
   ]
  },
  {
   "cell_type": "code",
   "execution_count": 20,
   "id": "4d6853ac",
   "metadata": {},
   "outputs": [
    {
     "data": {
      "text/plain": [
       "{'green', 'ornage', 'pink', 'purple', 'red', 'white'}"
      ]
     },
     "execution_count": 20,
     "metadata": {},
     "output_type": "execute_result"
    }
   ],
   "source": [
    "my_set.add('red')\n",
    "my_set# trying adding existing color but it doesnt show any error it allows to run but doesnt show the error their was on effect of add function in on the set"
   ]
  },
  {
   "cell_type": "code",
   "execution_count": 21,
   "id": "66e8156d",
   "metadata": {},
   "outputs": [
    {
     "name": "stdout",
     "output_type": "stream",
     "text": [
      "no\n"
     ]
    }
   ],
   "source": [
    "if 'blue' in my_set:\n",
    "    print('Yes it is their')\n",
    "else:\n",
    "    print('no')"
   ]
  },
  {
   "cell_type": "code",
   "execution_count": 58,
   "id": "0f642cac",
   "metadata": {},
   "outputs": [
    {
     "name": "stdout",
     "output_type": "stream",
     "text": [
      "{'Alice': 85, 'Bob': 92, 'Charlie': 78}\n",
      "dict_keys(['Alice', 'Bob', 'Charlie'])\n",
      "dict_values([85, 92, 78])\n"
     ]
    }
   ],
   "source": [
    "#Section 4: Dictionaries\n",
    "#Q4. Create a dictionary with student names as keys and their marks as values. Example:\n",
    "#student_marks = {'Alice': 85, 'Bob': 92, 'Charlie': 78}\n",
    "#- Print all keys and values.\n",
    "#- Add a new student to the dictionary.\n",
    "#- Update marks of an existing student.\n",
    "#- Delete one student from the dictionary.\n",
    "#- Check if 'David' is a student in the dictionary.\n",
    "\n",
    "student_marks= {'Alice': 85, \n",
    "                'Bob': 92, \n",
    "                'Charlie': 78}\n",
    "print(student_marks)\n",
    "\n",
    "\n",
    "x = student_marks.keys()\n",
    "print(x)\n",
    "\n",
    "x=dict.values()\n",
    "print(x)"
   ]
  },
  {
   "cell_type": "code",
   "execution_count": 59,
   "id": "66187236",
   "metadata": {},
   "outputs": [
    {
     "name": "stdout",
     "output_type": "stream",
     "text": [
      "{'Alice': 85, 'Bob': 92, 'Charlie': 78, 'Ryan': 86}\n",
      "{'Alice': 76, 'Bob': 92, 'Charlie': 78, 'Ryan': 86}\n"
     ]
    }
   ],
   "source": [
    "student_marks.update({'Ryan':86})\n",
    "print(student_marks)\n",
    "\n",
    "student_marks.update({'Alice':76})\n",
    "print(student_marks)"
   ]
  },
  {
   "cell_type": "code",
   "execution_count": 60,
   "id": "6bc8e141",
   "metadata": {},
   "outputs": [
    {
     "name": "stdout",
     "output_type": "stream",
     "text": [
      "{'Bob': 92, 'Charlie': 78, 'Ryan': 86}\n"
     ]
    }
   ],
   "source": [
    "student_marks.pop('Alice')\n",
    "print(student_marks)"
   ]
  },
  {
   "cell_type": "code",
   "execution_count": 61,
   "id": "887e76b1",
   "metadata": {},
   "outputs": [
    {
     "name": "stdout",
     "output_type": "stream",
     "text": [
      "Their is no one with name david\n"
     ]
    }
   ],
   "source": [
    "if 'David' in student_marks:\n",
    "    Print('Yes their is a student')\n",
    "    \n",
    "else:\n",
    "    print(\"Their is no one with name david\")"
   ]
  },
  {
   "cell_type": "code",
   "execution_count": 67,
   "id": "7c91bf9d",
   "metadata": {},
   "outputs": [
    {
     "name": "stdout",
     "output_type": "stream",
     "text": [
      "Enter the number: 8.5\n",
      "It is positive\n",
      "it is odd number\n"
     ]
    }
   ],
   "source": [
    "#Section 5: Conditional Statements\n",
    "#Q5. Write a Python program that:\n",
    "#- Accepts a number from the user.\n",
    "#- Checks if the number is positive, negative, or zero.\n",
    "#- Prints whether the number is even or odd.\n",
    "\n",
    "Number=float(input(\"Enter the number: \"))\n",
    "\n",
    "if Number>0:\n",
    "    print(\"It is positive\")\n",
    "    \n",
    "elif Number<0:\n",
    "        print(\"It is negative\")\n",
    "        \n",
    "else:\n",
    "    print(\"It is zero\")\n",
    "    \n",
    "if Number %2==0:\n",
    "    print('it is even number')\n",
    "    \n",
    "else:\n",
    "    print('it is odd number')"
   ]
  },
  {
   "cell_type": "code",
   "execution_count": 68,
   "id": "16bde535",
   "metadata": {},
   "outputs": [
    {
     "name": "stdout",
     "output_type": "stream",
     "text": [
      "Enter the marks for the student:36\n",
      "student is fall\n"
     ]
    }
   ],
   "source": [
    "#Q6. Write a program to check if a student has passed or failed:\n",
    "#- Input marks from the user.\n",
    "#- If marks >= 40, print \"Pass\", else print \"Fail\".\n",
    "\n",
    "\n",
    "Marks=float(input('Enter the marks for the student:'))\n",
    "\n",
    "if Marks>=40:\n",
    "    print(\"Student is pass\")\n",
    "else:\n",
    "    print(\"student is fall\")\n",
    "    "
   ]
  },
  {
   "cell_type": "code",
   "execution_count": 78,
   "id": "21c2c167",
   "metadata": {},
   "outputs": [
    {
     "name": "stdout",
     "output_type": "stream",
     "text": [
      "Enter the marks:39\n",
      "Student is getting F\n"
     ]
    }
   ],
   "source": [
    "#Q7. Create a simple grading system:\n",
    "#- Take marks as input.\n",
    "#- Use the following grading logic:\n",
    "#Marks Range | Grade\n",
    "#------------|-------\n",
    "#90 - 100 | A\n",
    "#75 - 89 | B\n",
    "#50 - 74 | C\n",
    "#40 - 49 | D\n",
    "#Below 40 | F\n",
    "#Bonus Challenge:\n",
    "\n",
    "\n",
    "Mark= float(input(\"Enter the marks:\"))\n",
    "\n",
    "if Mark>=90:\n",
    "    print('Student is getting A ')\n",
    "    \n",
    "elif Mark>=75:\n",
    "    print('Student is getting B ')\n",
    "    \n",
    "elif Mark>=50:\n",
    "    print('Student is getting C')\n",
    "\n",
    "elif Mark>=40:\n",
    "    print('Student is getting D')\n",
    "\n",
    "else:\n",
    "        print('Student is getting F')"
   ]
  },
  {
   "cell_type": "code",
   "execution_count": 91,
   "id": "e5c526a4",
   "metadata": {},
   "outputs": [
    {
     "name": "stdout",
     "output_type": "stream",
     "text": [
      "Enter product name:Pen\n",
      "Price of Pen is 10\n"
     ]
    }
   ],
   "source": [
    "#Q8. Write a program to:\n",
    "#- Store product names and prices in a dictionary.\n",
    "#- Ask user to input a product name.\n",
    "#- Display its price if it exists.\n",
    "#- If not, display \"Product not found\".\n",
    "\n",
    "Inventory= {'Pen': 10, \n",
    "            'Book': 20, \n",
    "            'Map': 25}\n",
    "#print(Inventory)\n",
    "\n",
    "Product=input(\"Enter product name:\")\n",
    "\n",
    "if Product in Inventory:\n",
    "    print(\"Price of\",Product, \"is\", Inventory[Product])\n",
    "else:\n",
    "    print('product didnot found')"
   ]
  },
  {
   "cell_type": "code",
   "execution_count": 93,
   "id": "f603b78d",
   "metadata": {},
   "outputs": [
    {
     "name": "stdout",
     "output_type": "stream",
     "text": [
      "Dog\n",
      "Horse\n",
      "Cow\n",
      "cat\n",
      "lion\n"
     ]
    }
   ],
   "source": [
    "#Q9. Use a for loop to print all elements of a list containing your 5 favorite animal.\n",
    "\n",
    "list_animal=['Dog','Horse','Cow','cat','lion']\n",
    "\n",
    "\n",
    "for list_animal in list_animal:\n",
    "    print(list_animal)"
   ]
  },
  {
   "cell_type": "code",
   "execution_count": 98,
   "id": "998bd349",
   "metadata": {},
   "outputs": [
    {
     "name": "stdout",
     "output_type": "stream",
     "text": [
      "1\n",
      "2\n",
      "3\n",
      "4\n",
      "5\n",
      "6\n",
      "7\n",
      "8\n",
      "9\n",
      "10\n"
     ]
    }
   ],
   "source": [
    "#Q10. Write a program using a for loop to print numbers from 1 to 10.\n",
    "for i in range(1,11):\n",
    "    print(i)\n",
    "    "
   ]
  },
  {
   "cell_type": "code",
   "execution_count": 103,
   "id": "4a9c9c31",
   "metadata": {},
   "outputs": [
    {
     "name": "stdout",
     "output_type": "stream",
     "text": [
      "Reverse number: 5\n",
      "Reverse number: 4\n",
      "Reverse number: 3\n",
      "Reverse number: 2\n",
      "Reverse number: 1\n"
     ]
    }
   ],
   "source": [
    "#Q11. Write a program using a while loop to print the numbers from 5 to 1 in reverse.\n",
    "\n",
    "Number= 5\n",
    "\n",
    "while Number>0:\n",
    "    print('Reverse number:',Number)\n",
    "    Number-=1"
   ]
  },
  {
   "cell_type": "code",
   "execution_count": 111,
   "id": "d9d53d2c",
   "metadata": {},
   "outputs": [
    {
     "name": "stdout",
     "output_type": "stream",
     "text": [
      "2\n",
      "4\n",
      "6\n",
      "8\n",
      "10\n",
      "12\n",
      "14\n",
      "16\n",
      "18\n",
      "20\n"
     ]
    }
   ],
   "source": [
    "#Q12. Use a for loop with range() to print even numbers between 1 and 20.\n",
    "\n",
    "for i in range(2,21,2):\n",
    "    print(i)"
   ]
  },
  {
   "cell_type": "code",
   "execution_count": 114,
   "id": "1af29f18",
   "metadata": {},
   "outputs": [
    {
     "name": "stdout",
     "output_type": "stream",
     "text": [
      "1\n",
      "2\n",
      "3\n",
      "4\n",
      "6\n",
      "7\n",
      "8\n",
      "9\n",
      "10\n"
     ]
    }
   ],
   "source": [
    "#Q13. Write a loop that iterates through numbers 1 to 10, but skips the number 5 using 'continue'.\n",
    "\n",
    "for i in range(1,11):\n",
    "    if i == 5:\n",
    "        continue\n",
    "    print(i)\n",
    "    "
   ]
  },
  {
   "cell_type": "code",
   "execution_count": 115,
   "id": "7781cbb3",
   "metadata": {},
   "outputs": [
    {
     "name": "stdout",
     "output_type": "stream",
     "text": [
      "1\n",
      "2\n",
      "3\n",
      "4\n",
      "5\n",
      "6\n"
     ]
    }
   ],
   "source": [
    "#Q14. Write a loop that breaks when it reaches the number 7, but prints all other numbers before it.\n",
    "for i in range(1,11):\n",
    "    if i == 7:\n",
    "        break\n",
    "    print(i)"
   ]
  },
  {
   "cell_type": "code",
   "execution_count": null,
   "id": "dfff5c76",
   "metadata": {},
   "outputs": [],
   "source": [
    "#Write a program that uses 'pass' in a for loop going from 1 to 3. "
   ]
  },
  {
   "cell_type": "code",
   "execution_count": null,
   "id": "3cc47235",
   "metadata": {},
   "outputs": [],
   "source": [
    "#Ask the user to enter numbers continuously using a while loop. Stop asking when the user\n",
    "#enters 0. Then print the sum of all entered numbers (excluding 0).\n",
    "\n"
   ]
  }
 ],
 "metadata": {
  "kernelspec": {
   "display_name": "Python 3 (ipykernel)",
   "language": "python",
   "name": "python3"
  },
  "language_info": {
   "codemirror_mode": {
    "name": "ipython",
    "version": 3
   },
   "file_extension": ".py",
   "mimetype": "text/x-python",
   "name": "python",
   "nbconvert_exporter": "python",
   "pygments_lexer": "ipython3",
   "version": "3.9.7"
  }
 },
 "nbformat": 4,
 "nbformat_minor": 5
}
