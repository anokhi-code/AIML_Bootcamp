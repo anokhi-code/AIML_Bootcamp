{
 "cells": [
  {
   "cell_type": "code",
   "execution_count": null,
   "id": "3c5051da-704e-4bb3-89bb-1c068e8aa7ef",
   "metadata": {},
   "outputs": [],
   "source": [
    "# Functions\n",
    "# Classes\n",
    "# inheritence \n",
    "# encapsulation"
   ]
  },
  {
   "cell_type": "code",
   "execution_count": null,
   "id": "306f10ee-5f11-4a53-9933-ec6510d0dfba",
   "metadata": {},
   "outputs": [],
   "source": [
    "# Function - block of statement that does a specific task\n",
    "# Benefits\n",
    "code reuse\n",
    "reduceed code length\n",
    "increased readability of code"
   ]
  },
  {
   "cell_type": "code",
   "execution_count": 1,
   "id": "b48da1b8-efe6-458d-8c79-99921bd69648",
   "metadata": {},
   "outputs": [
    {
     "name": "stdout",
     "output_type": "stream",
     "text": [
      "Hello, welcome to Python!\n"
     ]
    }
   ],
   "source": [
    "# simple function(no parameter)\n",
    "def greet():\n",
    "    print(\"Hello, welcome to Python!\")\n",
    "\n",
    "greet() # calling the function"
   ]
  },
  {
   "cell_type": "code",
   "execution_count": 2,
   "id": "4ff7c2ef-042b-4423-9bad-c1016fbf1f1b",
   "metadata": {},
   "outputs": [
    {
     "name": "stdout",
     "output_type": "stream",
     "text": [
      "Sum: 8\n"
     ]
    }
   ],
   "source": [
    "# Function with Parameter\n",
    "def add(a,b):\n",
    "    return a + b\n",
    "\n",
    "result = add(5,3)\n",
    "print(\"Sum:\" , result)"
   ]
  },
  {
   "cell_type": "code",
   "execution_count": 4,
   "id": "b5c0a2aa-7cd8-4e57-b348-32e6a3dc45a5",
   "metadata": {},
   "outputs": [
    {
     "name": "stdout",
     "output_type": "stream",
     "text": [
      "Hello,Alice!\n",
      "Hello,Guest!\n"
     ]
    }
   ],
   "source": [
    "# Function with default parameter\n",
    "def greet(name=\"Guest\"):\n",
    "    print(f\"Hello,{name}!\")\n",
    "greet(\"Alice\")\n",
    "greet()"
   ]
  },
  {
   "cell_type": "code",
   "execution_count": 5,
   "id": "6e3b1388-43de-4a3e-8655-f74a16de9a62",
   "metadata": {},
   "outputs": [
    {
     "name": "stdout",
     "output_type": "stream",
     "text": [
      "16\n"
     ]
    }
   ],
   "source": [
    "# Function with Return Value\n",
    "def square(x):\n",
    "    return x * x\n",
    "\n",
    "print(square(4))"
   ]
  },
  {
   "cell_type": "code",
   "execution_count": 6,
   "id": "018f1664-4c31-4d7c-ad19-6ad3e1f33f69",
   "metadata": {},
   "outputs": [
    {
     "name": "stdout",
     "output_type": "stream",
     "text": [
      "120\n"
     ]
    }
   ],
   "source": [
    "# Recursive function - function that calls itself to solve a smaller version of the problem, until it reaches a base case\n",
    "def factorial(n):\n",
    "    if n == 0 or n == 1:\n",
    "        return 1 #base case\n",
    "    else:\n",
    "        return n * factorial(n-1) # recursive call\n",
    "# calling the function\n",
    "print(factorial(5))"
   ]
  },
  {
   "cell_type": "code",
   "execution_count": null,
   "id": "2f86c868-f747-4e3a-b21f-7c3a83cc0fdb",
   "metadata": {},
   "outputs": [],
   "source": [
    "# Lambda function - used for short & simple operation, defined using the lambda keyword\n",
    "#It can have any number of arguments but only one expression"
   ]
  },
  {
   "cell_type": "code",
   "execution_count": 7,
   "id": "a2230478-419e-4d81-992e-0819954849c5",
   "metadata": {},
   "outputs": [
    {
     "name": "stdout",
     "output_type": "stream",
     "text": [
      "Tax Deducted: 8000.0\n"
     ]
    }
   ],
   "source": [
    "# use lambda to calculate tax deduction at 10 %\n",
    "tax_deduction = lambda salary: salary * 0.10\n",
    "\n",
    "salary = 80000\n",
    "tax = tax_deduction(salary)\n",
    "\n",
    "print(f\"Tax Deducted: {tax}\")"
   ]
  },
  {
   "cell_type": "code",
   "execution_count": null,
   "id": "89259367-50b1-4183-90ac-6b97d6ef843b",
   "metadata": {},
   "outputs": [],
   "source": [
    "#*args(Arguments)\n",
    "1.used to pass a variable number of positional arguments to a function\n",
    "2. inside the function, *args is received as tuple"
   ]
  },
  {
   "cell_type": "code",
   "execution_count": 9,
   "id": "647da3e4-5432-4254-8ac2-b40d9c127b8d",
   "metadata": {},
   "outputs": [
    {
     "name": "stdout",
     "output_type": "stream",
     "text": [
      "6\n",
      "100\n"
     ]
    }
   ],
   "source": [
    "def add_numbers(*args):\n",
    "    total = 0\n",
    "    for num in args:\n",
    "        total += num\n",
    "    return total\n",
    "\n",
    "print(add_numbers(1, 2, 3))\n",
    "print(add_numbers(10,20,40,30))"
   ]
  },
  {
   "cell_type": "code",
   "execution_count": null,
   "id": "719039a3-7188-4966-9b7a-6c20907a1519",
   "metadata": {},
   "outputs": [],
   "source": [
    "**kwargs (keyword argument\n",
    "1. **kwargs is used to pass a variable number of keyword arguments to a function\n",
    "2. Inside the function, kwargs is recieved as a dictionary"
   ]
  },
  {
   "cell_type": "code",
   "execution_count": 10,
   "id": "c0ed8e3c-7036-4b6f-bf0f-4f06d373d95f",
   "metadata": {},
   "outputs": [
    {
     "name": "stdout",
     "output_type": "stream",
     "text": [
      "name: Harry\n",
      "age: 21\n",
      "city: New York\n"
     ]
    }
   ],
   "source": [
    "def print_profile(**kwargs):\n",
    "    for key, value in kwargs.items():\n",
    "        print(f\"{key}: {value}\")\n",
    "print_profile(name= \"Harry\", age=21, city=\"New York\")"
   ]
  },
  {
   "cell_type": "code",
   "execution_count": 11,
   "id": "665e1641-9646-4144-9d13-5a77d4e6fffd",
   "metadata": {},
   "outputs": [
    {
     "name": "stdout",
     "output_type": "stream",
     "text": [
      "Positional arguments: (1, 2, 3)\n",
      "Keyword arguments: {'name': 'Harry', 'job': 'Engineer'}\n"
     ]
    }
   ],
   "source": [
    "# combine both *args & **kwargs\n",
    "\n",
    "def show_details(*args, **kwargs):\n",
    "    print(\"Positional arguments:\", args)\n",
    "    print(\"Keyword arguments:\", kwargs)\n",
    "\n",
    "show_details(1, 2, 3, name=\"Harry\", job=\"Engineer\")"
   ]
  },
  {
   "cell_type": "code",
   "execution_count": null,
   "id": "3171faa5-0d5c-43c8-b858-ba7acaaca93c",
   "metadata": {},
   "outputs": [],
   "source": [
    "# Classes\n",
    "1. key part of OOP\n",
    "2. essential for building scalable , maintainable and reusable code\n",
    "3. enables oops concept like inheritance and encapsulation"
   ]
  },
  {
   "cell_type": "code",
   "execution_count": 14,
   "id": "88c8944e-6518-4dd4-8f80-8ab3afe7bc10",
   "metadata": {},
   "outputs": [
    {
     "name": "stdout",
     "output_type": "stream",
     "text": [
      "AI\n"
     ]
    }
   ],
   "source": [
    "# define class\n",
    "class Student:\n",
    "    batch = \"AI\" # class attribute\n",
    "    \n",
    "# create object for student class\n",
    "student1 = Student()\n",
    "\n",
    "# Access the class attribute\n",
    "print(student1.batch)\n"
   ]
  },
  {
   "cell_type": "code",
   "execution_count": 16,
   "id": "bc1d687a-093e-43c4-8c46-31545cf03f2a",
   "metadata": {},
   "outputs": [
    {
     "name": "stdout",
     "output_type": "stream",
     "text": [
      "Hi, I am Harry and I am 21 years old.\n"
     ]
    }
   ],
   "source": [
    "# __init__ Constructor - it is automatically called when you create an object of a class\n",
    "\n",
    "class Person:\n",
    "    def __init__(self, name, age): # constructor\n",
    "        self.name = name\n",
    "        self.age = age\n",
    "\n",
    "    def greet(self):\n",
    "        print(f\"Hi, I am {self.name} and I am {self.age} years old.\")\n",
    "\n",
    "# creating an object\n",
    "p1 = Person(\"Harry\", 21)\n",
    "\n",
    "#calling method\n",
    "p1.greet()"
   ]
  },
  {
   "cell_type": "code",
   "execution_count": 19,
   "id": "996303e1-0066-4def-8fb4-4e64a71301c0",
   "metadata": {},
   "outputs": [
    {
     "name": "stdout",
     "output_type": "stream",
     "text": [
      "Person(name=Alice, age=30)\n",
      "Person(name=Alice, age=30)\n"
     ]
    }
   ],
   "source": [
    "#__str__ method - used to define how an object should be represented as a string when:\n",
    "#1. Printed with print()\n",
    "#2. converted to a string using str()\n",
    "\n",
    "class Person:\n",
    "    def __init__(self, name, age):\n",
    "        self.name = name\n",
    "        self.age = age\n",
    "\n",
    "    def __str__(self):\n",
    "        return f\"Person(name={self.name}, age={self.age})\"\n",
    "\n",
    "#creating an object\n",
    "p = Person(\"Alice\", 30)\n",
    "\n",
    "print(p)  # calls __str__()\n",
    "print(str(p))  "
   ]
  },
  {
   "cell_type": "code",
   "execution_count": null,
   "id": "5b498b3b-793b-4df5-bb77-d82505669de1",
   "metadata": {},
   "outputs": [],
   "source": [
    "# pass statement - class definition caanot be empty, but if you for some reason have a  class definition with no content, put in the pass statement to avoid getting an error\n",
    "class Person:\n",
    "    pass"
   ]
  },
  {
   "cell_type": "code",
   "execution_count": 20,
   "id": "54e24155-5e3d-4b28-8612-bbe1c63cd299",
   "metadata": {},
   "outputs": [
    {
     "name": "stdout",
     "output_type": "stream",
     "text": [
      "===Manager Details===\n",
      "Name: Nancy\n",
      "Employee ID: 101\n",
      "Salary: 90000\n",
      "Department: HR\n"
     ]
    }
   ],
   "source": [
    "#Inheritance - one class can inherit properties and methods from another class\n",
    "\n",
    "# Parent class\n",
    "class Employee: \n",
    "    def __init__(self, name, emp_id, salary): # constructor method with 3 parameter\n",
    "        self.name = name # assign name to the instance variable\n",
    "        self.emp_id = emp_id \n",
    "        self.salary = salary\n",
    "\n",
    "    def show_details(self): # method to  display employee details\n",
    "        print(f\"Name: {self.name}\")\n",
    "        print(f\"Employee ID: {self.emp_id}\")\n",
    "        print(f\"Salary: {self.salary}\")\n",
    "\n",
    "# child class\n",
    "class Manager(Employee): # define a child class Manager that inherits from employee\n",
    "    def __init__(self, name, emp_id, salary, department):\n",
    "        super().__init__(name, emp_id, salary) # call the parent class constructor using super()\n",
    "        self.department = department # store department in an instance variable\n",
    "\n",
    "    def show_details(self): # override the parent show_details method\n",
    "        super().show_details()  # first call  the paren's method to print basic details\n",
    "        print(f\"Department: {self.department}\") # then print the manager specific department\n",
    "\n",
    "# creating an instance of the manager class\n",
    "mgr = Manager(\"Nancy\", 101, 90000, \"HR\")\n",
    "\n",
    "#print a heading before showing the manager details\n",
    "print(\"===Manager Details===\")\n",
    "\n",
    "# call the show_details method of the manager object\n",
    "mgr.show_details()"
   ]
  },
  {
   "cell_type": "code",
   "execution_count": null,
   "id": "d8799fad-9c4a-4b2c-8bb9-78912fd782f3",
   "metadata": {},
   "outputs": [],
   "source": [
    "# Encapsulation - hiding internal details\n",
    "# goals of encapsulation\n",
    "1. control access to internal data\n",
    "2. protect data from being modified accidentally\n",
    "3. Improve security and maintainability\n",
    "\n",
    "# Getter - used to access (read) the value of a private attribute\n",
    "# setter - used to update or set the value of a private attribute\n"
   ]
  },
  {
   "cell_type": "code",
   "execution_count": 23,
   "id": "bdfbc9e5-0817-469d-8260-84ceb6aa1fd1",
   "metadata": {},
   "outputs": [
    {
     "name": "stdout",
     "output_type": "stream",
     "text": [
      "Name: Kritika\n",
      "Age: 25\n",
      "25\n",
      "30\n"
     ]
    }
   ],
   "source": [
    "class Person:\n",
    "    def __init__(self, name, age):\n",
    "        self.name = name # public attribbute\n",
    "        self.__age = age   # private attribute\n",
    "\n",
    "    def show_info(self):\n",
    "        print(f\"Name: {self.name}\")\n",
    "        print(f\"Age: {self.__age}\")  # Accessing private variable inside the class\n",
    "\n",
    "    def set_age(self, new_age):\n",
    "        if new_age > 0:\n",
    "            self.__age = new_age # setter method to update private variable\n",
    "        else:\n",
    "            print(\"Invalid age\")\n",
    "\n",
    "    def get_age(self):\n",
    "        return self.__age   # getter method to accss private variable\n",
    "\n",
    "p = Person(\"Kritika\", 25)\n",
    "\n",
    "p.show_info()    # prints name and age\n",
    "print(p.get_age())  # access age using getter\n",
    "\n",
    "p.set_age(30)  # update age using setter\n",
    "print(p.get_age()) # age updated\n",
    "\n",
    "    "
   ]
  },
  {
   "cell_type": "code",
   "execution_count": null,
   "id": "7f1f26c8-d930-4a93-acec-7d70e481deae",
   "metadata": {},
   "outputs": [],
   "source": []
  },
  {
   "cell_type": "code",
   "execution_count": null,
   "id": "05ab8696-eb1b-400e-aba2-c5ac72fecb09",
   "metadata": {},
   "outputs": [],
   "source": []
  }
 ],
 "metadata": {
  "kernelspec": {
   "display_name": "Python 3 (ipykernel)",
   "language": "python",
   "name": "python3"
  },
  "language_info": {
   "codemirror_mode": {
    "name": "ipython",
    "version": 3
   },
   "file_extension": ".py",
   "mimetype": "text/x-python",
   "name": "python",
   "nbconvert_exporter": "python",
   "pygments_lexer": "ipython3",
   "version": "3.13.5"
  }
 },
 "nbformat": 4,
 "nbformat_minor": 5
}
