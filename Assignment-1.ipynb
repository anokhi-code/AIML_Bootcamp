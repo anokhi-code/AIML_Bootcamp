{
 "cells": [
  {
   "cell_type": "markdown",
   "id": "b13fdf52-84d4-4acf-897f-08e1af9cea3a",
   "metadata": {},
   "source": [
    "# Section 1:List"
   ]
  },
  {
   "cell_type": "markdown",
   "id": "6250ed79-c103-4ce9-b36c-506edb3c4564",
   "metadata": {},
   "source": [
    "**1. Create a list of 5 of your favorite**"
   ]
  },
  {
   "cell_type": "code",
   "execution_count": 2,
   "id": "7a8c5304-310b-46e9-b3b9-a3ab96d47928",
   "metadata": {},
   "outputs": [
    {
     "name": "stdout",
     "output_type": "stream",
     "text": [
      "['apple', 'banana', 'orange']\n"
     ]
    }
   ],
   "source": [
    "Fruits = ['apple','banana','orange']\n",
    "print(Fruits)"
   ]
  },
  {
   "cell_type": "markdown",
   "id": "7d468954-7265-469c-8f10-2b589f12dbf6",
   "metadata": {},
   "source": [
    "#adding a fruit to the list\n",
    "Fruits.append('watermelon')\n",
    "Fruits"
   ]
  },
  {
   "cell_type": "code",
   "execution_count": 6,
   "id": "13df38ae-207b-4ce3-a420-25c3bf5918da",
   "metadata": {},
   "outputs": [
    {
     "data": {
      "text/plain": [
       "['apple', 'orange', 'watermelon']"
      ]
     },
     "execution_count": 6,
     "metadata": {},
     "output_type": "execute_result"
    }
   ],
   "source": [
    "#Removing the 2nd item from the list\n",
    "Fruits.remove('banana')\n",
    "Fruits"
   ]
  },
  {
   "cell_type": "code",
   "execution_count": 7,
   "id": "6ac66ffb-f250-4333-abe3-0883e473900a",
   "metadata": {},
   "outputs": [
    {
     "data": {
      "text/plain": [
       "3"
      ]
     },
     "execution_count": 7,
     "metadata": {},
     "output_type": "execute_result"
    }
   ],
   "source": [
    "#length of the list.\n",
    "len(Fruits)"
   ]
  },
  {
   "cell_type": "code",
   "execution_count": 11,
   "id": "b39fb1e5-360e-43b9-a2b3-6a8fcdf2bf50",
   "metadata": {},
   "outputs": [
    {
     "name": "stdout",
     "output_type": "stream",
     "text": [
      "['apple', 'orange', 'watermelon']\n"
     ]
    }
   ],
   "source": [
    "#Sorting the list alphabetically\n",
    "Fruits.sort()\n",
    "print(Fruits)"
   ]
  },
  {
   "cell_type": "markdown",
   "id": "df1e9bff-0a38-4980-a276-bd8e6ecaa418",
   "metadata": {},
   "source": [
    "# Section 2:Tuples\n",
    ".."
   ]
  },
  {
   "cell_type": "markdown",
   "id": "2178a922-89d6-4a38-96e2-394edbecc61c",
   "metadata": {},
   "source": [
    "**Q2. Create a tuple of 4 of your favorite movies.**"
   ]
  },
  {
   "cell_type": "code",
   "execution_count": 11,
   "id": "cdb544b7-2028-47f8-95ba-aa8e6b694483",
   "metadata": {},
   "outputs": [
    {
     "name": "stdout",
     "output_type": "stream",
     "text": [
      "('Pushpa', 'Aarya', 'Narasimha')\n"
     ]
    }
   ],
   "source": [
    "Movies = ('Pushpa','Aarya','Narasimha')\n",
    "print(Movies)"
   ]
  },
  {
   "cell_type": "code",
   "execution_count": 12,
   "id": "34f5c4aa-cfd3-4b4a-9c8b-b32dc3d3581d",
   "metadata": {},
   "outputs": [
    {
     "ename": "TypeError",
     "evalue": "'tuple' object does not support item assignment",
     "output_type": "error",
     "traceback": [
      "\u001b[1;31m---------------------------------------------------------------------------\u001b[0m",
      "\u001b[1;31mTypeError\u001b[0m                                 Traceback (most recent call last)",
      "Cell \u001b[1;32mIn[12], line 2\u001b[0m\n\u001b[0;32m      1\u001b[0m \u001b[38;5;66;03m# Try changing one element\u001b[39;00m\n\u001b[1;32m----> 2\u001b[0m Movies[\u001b[38;5;241m0\u001b[39m] \u001b[38;5;241m=\u001b[39m (\u001b[38;5;124m'\u001b[39m\u001b[38;5;124mPushpa-2\u001b[39m\u001b[38;5;124m'\u001b[39m)\n",
      "\u001b[1;31mTypeError\u001b[0m: 'tuple' object does not support item assignment"
     ]
    }
   ],
   "source": [
    "# Try changing one element\n",
    "Movies[0] = ('Pushpa-2')  # Attempt to change \"Pushpa\" to \"Pushpa-2\""
   ]
  },
  {
   "cell_type": "markdown",
   "id": "a8cf4183-2b3d-4b50-8a3a-cdccc8a9213e",
   "metadata": {},
   "source": [
    "Tuples are immutable, meaning their elements cannot be changed once created"
   ]
  },
  {
   "cell_type": "code",
   "execution_count": 10,
   "id": "3bd12954-0659-4527-b7f9-c893db72747e",
   "metadata": {},
   "outputs": [
    {
     "name": "stdout",
     "output_type": "stream",
     "text": [
      "\n",
      "Last movie in the tuple: Narasimha\n"
     ]
    }
   ],
   "source": [
    "# Access the last movie using negative indexing\n",
    "print(\"\\nLast movie in the tuple:\", Movies[-1])"
   ]
  },
  {
   "cell_type": "markdown",
   "id": "6fe366c3-5d60-4640-a322-7334eda25e65",
   "metadata": {},
   "source": [
    "# Section 3: Sets."
   ]
  },
  {
   "cell_type": "markdown",
   "id": "11b21606-6c3d-4f9b-982d-39752d69d898",
   "metadata": {},
   "source": [
    "**Q3. Create a set of 5 unique colors.**"
   ]
  },
  {
   "cell_type": "code",
   "execution_count": 35,
   "id": "3db45192-821c-424b-8782-084d807051b7",
   "metadata": {},
   "outputs": [
    {
     "name": "stdout",
     "output_type": "stream",
     "text": [
      "{'red', 'blue', 'yellow', 'green'}\n",
      "{'red', 'green', 'blue', 'voilet', 'yellow'}\n",
      "{'red', 'green', 'blue', 'voilet', 'yellow'}\n",
      "{'red', 'green', 'blue', 'yellow'}\n",
      "blue is in the color set.\n"
     ]
    }
   ],
   "source": [
    "#create a set of color\n",
    "Colors = {'red','yellow','blue','green'}\n",
    "print(Colors)\n",
    "\n",
    "#Adding a new color to the set\n",
    "Colors.add('voilet')\n",
    "print(Colors)\n",
    "\n",
    "#Try adding a duplicate color\n",
    "Colors.add('red')\n",
    "print(Colors)\n",
    "\n",
    "#Remove a color from the set\n",
    "Colors.remove('voilet')\n",
    "print(Colors)\n",
    "\n",
    "#Check if a specific color (e.g., \"Blue\") is in the set\n",
    "if \"blue\" in Colors:\n",
    "    print(\"blue is in the color set.\")\n",
    "else:\n",
    "    print(\"blue is not in the color set.\")"
   ]
  },
  {
   "cell_type": "markdown",
   "id": "31d829ef-1b55-468e-975a-cc3fbd5d28e2",
   "metadata": {},
   "source": [
    "# Section 4: Dictionaries\r"
   ]
  },
  {
   "cell_type": "markdown",
   "id": "8e5e0707-eefa-4458-9275-ac70860f8537",
   "metadata": {},
   "source": [
    "**Q4. Create a dictionary with student names as keys and their marks as values.**"
   ]
  },
  {
   "cell_type": "code",
   "execution_count": 54,
   "id": "eb478727-55f8-4c14-b068-c2786645ab30",
   "metadata": {},
   "outputs": [
    {
     "name": "stdout",
     "output_type": "stream",
     "text": [
      "{'Mukesh': 85, 'Mahesh': 92, 'Dhoni': 77}\n",
      "{'Mukesh': 85, 'Mahesh': 92, 'Dhoni': 77, 'swagath': 99}\n",
      "{'Mukesh': 89, 'Mahesh': 92, 'Dhoni': 77, 'swagath': 99}\n",
      "{'Mukesh': 89, 'Dhoni': 77, 'swagath': 99}\n",
      "NO\n"
     ]
    }
   ],
   "source": [
    "#create a dictionary\n",
    "student_marks = {'Mukesh': 85, 'Mahesh': 92, 'Dhoni': 77}\n",
    "print(student_marks)\n",
    "\n",
    "#Add a new student to the dictionary\n",
    "student_marks.update({'swagath': 99})\n",
    "print(student_marks)\n",
    "\n",
    "#Update marks of an existing student\n",
    "student_marks.update({'Mukesh': 89})\n",
    "print(student_marks)\n",
    "\n",
    "#Delete one student from the dictionary\n",
    "student_marks.pop(\"Mahesh\")\n",
    "print(student_marks)\n",
    "\n",
    "#Check if 'David' is a student in the dictionary\n",
    "student_marks = {'Mukesh': 85, 'Mahesh': 92, 'Dhoni': 77}\n",
    "if \"David\" in student_marks:\n",
    "    print(\"YES\")\n",
    "else:\n",
    "    print(\"NO\")"
   ]
  },
  {
   "cell_type": "markdown",
   "id": "b016b763-8cfe-4175-8d90-db583ad39d71",
   "metadata": {},
   "source": [
    "# Section 5: Conditional Statements\r\n"
   ]
  },
  {
   "cell_type": "markdown",
   "id": "0207cebe-a10e-4c05-bbac-ecaa8f5e3460",
   "metadata": {},
   "source": [
    "# **Q5. Write a Python program**dd."
   ]
  },
  {
   "cell_type": "code",
   "execution_count": 65,
   "id": "3c9bce96-b70c-4f89-82c2-0de7a05bb429",
   "metadata": {},
   "outputs": [
    {
     "name": "stdin",
     "output_type": "stream",
     "text": [
      "Enter a number:  11\n"
     ]
    },
    {
     "name": "stdout",
     "output_type": "stream",
     "text": [
      "The number is positive.\n",
      "The number is odd.\n"
     ]
    }
   ],
   "source": [
    "\n",
    "# Accept a number from the user\n",
    "number = int(input(\"Enter a number: \"))\n",
    "\n",
    "# Check if the number is positive, negative, or zero\n",
    "if number > 0:\n",
    "    print(\"The number is positive.\")\n",
    "elif number < 0:\n",
    "    print(\"The number is negative.\")\n",
    "else:\n",
    "    print(\"The number is zero.\")\n",
    "\n",
    "# Check if the number is even or odd\n",
    "if number % 2 == 0:\n",
    "    print(\"The number is even.\")\n",
    "else:\n",
    "    print(\"The number is odd.\")\n"
   ]
  },
  {
   "cell_type": "markdown",
   "id": "ef999f42-9202-4541-a72c-2289e660d631",
   "metadata": {},
   "source": [
    "# Q6. Write a program to check if a student has passed or failed:\r\n",
    "- Input marks from the user.\r\n",
    "- If marks >= 40, print \"Pass\", else print \"Fail\"."
   ]
  },
  {
   "cell_type": "code",
   "execution_count": 69,
   "id": "c7912d9b-93fc-4b64-b58f-668cfb9c3b86",
   "metadata": {},
   "outputs": [
    {
     "name": "stdin",
     "output_type": "stream",
     "text": [
      "Enter a number:  10\n"
     ]
    },
    {
     "name": "stdout",
     "output_type": "stream",
     "text": [
      "Fail\n"
     ]
    }
   ],
   "source": [
    "Marks = int(input(\"Enter a number: \"))\n",
    "if Marks >= 40:\n",
    "    print (\"Pass\")\n",
    "else:\n",
    "    print (\"Fail\")"
   ]
  },
  {
   "cell_type": "markdown",
   "id": "f7286862-4199-49ee-959c-6ad6dac6a3e8",
   "metadata": {},
   "source": [
    " # Q7. Create a simple grading system\n"
   ]
  },
  {
   "cell_type": "code",
   "execution_count": 71,
   "id": "ed156e09-4fe1-4d3b-aa11-e4fa05ddf1cf",
   "metadata": {},
   "outputs": [
    {
     "name": "stdin",
     "output_type": "stream",
     "text": [
      "Enter a number:  41\n"
     ]
    },
    {
     "name": "stdout",
     "output_type": "stream",
     "text": [
      "D\n"
     ]
    }
   ],
   "source": [
    "Marks = int(input(\"Enter a number: \"))\n",
    "if Marks >= 90 and Marks <= 100:\n",
    "    print(\"A\")\n",
    "elif Marks >= 75 and Marks <= 89:\n",
    "    print(\"B\")\n",
    "elif Marks >= 50 and Marks <= 74:\n",
    "    print(\"C\")\n",
    "elif Marks >= 40 and Marks <= 49:\n",
    "    print(\"D\")\n",
    "else: \n",
    "    print(\"FAIL\")"
   ]
  },
  {
   "cell_type": "markdown",
   "id": "9342a4c5-14d0-4d4f-969f-a5ed248be564",
   "metadata": {},
   "source": [
    "# Section 6: Loops in Python"
   ]
  },
  {
   "cell_type": "markdown",
   "id": "8b9a6b82-c099-453c-a48f-f55f27a8bb9f",
   "metadata": {},
   "source": [
    "**Q9. Use a for loop to print all elements of a list containing your 5 favorite animals.**"
   ]
  },
  {
   "cell_type": "code",
   "execution_count": 95,
   "id": "755c1d24-08e3-475a-9234-d7639cd06d04",
   "metadata": {},
   "outputs": [
    {
     "name": "stdout",
     "output_type": "stream",
     "text": [
      "Lion\n",
      "Tiger\n",
      "Elephant\n",
      "Deer\n"
     ]
    }
   ],
   "source": [
    "favorite_animals = ['Lion','Tiger','Elephant','Deer']\n",
    "for Animal in favorite_animals:\n",
    "    print(Animal)"
   ]
  },
  {
   "cell_type": "markdown",
   "id": "a3449a49-dc38-4e93-88fe-01d4dbeef5fb",
   "metadata": {},
   "source": [
    "**Q10. Write a program using a for loop to print numbers from 1 to 10.**"
   ]
  },
  {
   "cell_type": "code",
   "execution_count": 103,
   "id": "1a85fbd6-b6d2-4163-b6f3-04871354cdc5",
   "metadata": {},
   "outputs": [
    {
     "name": "stdout",
     "output_type": "stream",
     "text": [
      "1\n",
      "2\n",
      "3\n",
      "4\n",
      "5\n",
      "6\n",
      "7\n",
      "8\n",
      "9\n",
      "10\n"
     ]
    }
   ],
   "source": [
    "for numbers in range(1,11):\n",
    "    print(numbers)"
   ]
  },
  {
   "cell_type": "markdown",
   "id": "736f0a0a-1ea2-427c-8486-78d28609bcd8",
   "metadata": {},
   "source": [
    "**Q11. Write a program using a while loop to print the numbers from 5 to 1 in reverse**"
   ]
  },
  {
   "cell_type": "code",
   "execution_count": 123,
   "id": "c4963b02-a05b-45e1-b07d-30db6ef7c512",
   "metadata": {},
   "outputs": [
    {
     "name": "stdout",
     "output_type": "stream",
     "text": [
      "5\n",
      "4\n",
      "3\n",
      "2\n",
      "1\n"
     ]
    }
   ],
   "source": [
    "numbers = 5\n",
    "while numbers >= 1:\n",
    "    print(numbers)\n",
    "    numbers -= 1"
   ]
  },
  {
   "cell_type": "markdown",
   "id": "96ee4596-3121-4d12-8af3-44b0e891ef67",
   "metadata": {},
   "source": [
    "**Q12. Use a for loop with range() to print even numbers between 1 and 20.**\r"
   ]
  },
  {
   "cell_type": "code",
   "execution_count": 130,
   "id": "422bd01a-e934-4491-8fc0-312810de9bd4",
   "metadata": {},
   "outputs": [
    {
     "name": "stdout",
     "output_type": "stream",
     "text": [
      "Even_numbers are\n",
      "2\n",
      "4\n",
      "6\n",
      "8\n",
      "10\n",
      "12\n",
      "14\n",
      "16\n",
      "18\n",
      "20\n"
     ]
    }
   ],
   "source": [
    "Numbers=20\n",
    "print (\"Even_numbers are\")\n",
    "for Even_numbers in range(2, 21, 2):  # start=2, stop=21, step=2\n",
    "    print(Even_numbers)\n",
    "    "
   ]
  },
  {
   "cell_type": "markdown",
   "id": "f4fd0ed5-7fd0-43cc-9933-415c5742b739",
   "metadata": {},
   "source": [
    "**Q13. Write a loop that iterates through numbers 1 to 10, but skips the number 5 using 'continue'.**"
   ]
  },
  {
   "cell_type": "code",
   "execution_count": 139,
   "id": "8b0cbf52-3e8b-4357-a82c-ee4cc3af941d",
   "metadata": {},
   "outputs": [
    {
     "name": "stdout",
     "output_type": "stream",
     "text": [
      "1\n",
      "2\n",
      "3\n",
      "4\n",
      "6\n",
      "7\n",
      "8\n",
      "9\n",
      "10\n"
     ]
    }
   ],
   "source": [
    "for number in range(1,11):\n",
    "    if number == 5:\n",
    "        continue\n",
    "    print(number)"
   ]
  },
  {
   "cell_type": "markdown",
   "id": "4ded56af-b9eb-4808-9507-22d192abd9f6",
   "metadata": {},
   "source": [
    "**Q14.Write a loop that breaks when it reaches the number 7, but prints all other numbers before it.**"
   ]
  },
  {
   "cell_type": "code",
   "execution_count": 142,
   "id": "79996702-308c-4643-a8c3-7f44d7fe305d",
   "metadata": {},
   "outputs": [
    {
     "name": "stdout",
     "output_type": "stream",
     "text": [
      "1\n",
      "2\n",
      "3\n",
      "4\n",
      "5\n",
      "6\n"
     ]
    }
   ],
   "source": [
    "for number in range(1,11):\n",
    "    if number == 7:\n",
    "        break\n",
    "    print(number)"
   ]
  },
  {
   "cell_type": "markdown",
   "id": "1d294254-21c5-47b8-9f32-ab524585b21f",
   "metadata": {},
   "source": [
    "**Q15. Write a program that uses 'pass' in a for loop going from 1 to 3.**"
   ]
  },
  {
   "cell_type": "code",
   "execution_count": 145,
   "id": "2efe15bb-4a3d-4e7f-bf19-9077237c0cde",
   "metadata": {},
   "outputs": [
    {
     "name": "stdout",
     "output_type": "stream",
     "text": [
      "Loop completed.\n"
     ]
    }
   ],
   "source": [
    "for number in range(1, 4):\n",
    "    pass \n",
    "print(\"Loop completed.\")"
   ]
  },
  {
   "cell_type": "markdown",
   "id": "f99573c8-3144-43e8-955d-cfdbe9f53588",
   "metadata": {},
   "source": [
    "**Q16. Ask the user to enter numbers continuously using a while loop. Stop asking when the user\n",
    "enters 0. Then print the sum of all entered numbers (excluding 0).**"
   ]
  },
  {
   "cell_type": "code",
   "execution_count": null,
   "id": "46683256-b1fd-4f99-9550-d142773a92d8",
   "metadata": {},
   "outputs": [],
   "source": [
    "total = 0\n",
    "\n",
    "while True:\n",
    "    num = int(input(\"Enter a number (0 to stop): \"))\n",
    "    if num == 0:\n",
    "        break\n",
    "    total += num\n",
    "\n",
    "print(\"Sum of all entered numbers:\", total)"
   ]
  },
  {
   "cell_type": "code",
   "execution_count": null,
   "id": "c5634f29-8d3e-462d-b890-7f7e3be34e01",
   "metadata": {},
   "outputs": [],
   "source": [
    "10"
   ]
  }
 ],
 "metadata": {
  "kernelspec": {
   "display_name": "Python [conda env:base] *",
   "language": "python",
   "name": "conda-base-py"
  },
  "language_info": {
   "codemirror_mode": {
    "name": "ipython",
    "version": 3
   },
   "file_extension": ".py",
   "mimetype": "text/x-python",
   "name": "python",
   "nbconvert_exporter": "python",
   "pygments_lexer": "ipython3",
   "version": "3.11.7"
  }
 },
 "nbformat": 4,
 "nbformat_minor": 5
}
