{
 "cells": [
  {
   "cell_type": "code",
   "execution_count": 34,
   "id": "dee6d569-7e8f-45ec-8532-f98ca5f62181",
   "metadata": {},
   "outputs": [],
   "source": [
    "# Team Model - stores players as a list of dictionaries.\n",
    "class MarvelModel:\n",
    "    def __init__(self):\n",
    "        self.players = [\n",
    "    {\"S.no\": 1, \"Name\": \"IronMan\", \"Height(cm)\": 182, \"Weight(kg)\": 90, \"Games Played\": 105},\n",
    "    {\"S.no\": 2, \"Name\": \"Thor\", \"Height(cm)\": 187, \"Weight(kg)\": 120, \"Games Played\": 75},\n",
    "    {\"S.no\": 3, \"Name\": \"Captain America\", \"Height(cm)\": 184, \"Weight(kg)\": 85, \"Games Played\": 205},\n",
    "    {\"S.no\": 4, \"Name\": \"SpiderMan\", \"Height(cm)\": 175, \"Weight(kg)\": 75, \"Games Played\": 45},\n",
    "    {\"S.no\": 5, \"Name\": \"Hulk\", \"Height(cm)\": 179, \"Weight(kg)\": 290, \"Games Played\": 210} \n",
    "]\n",
    "\n",
    "class DCModel:\n",
    "    def __init__(self):\n",
    "        self.players = [\n",
    "    {\"S.no\": 1, \"Name\": \"Batman\", \"Height(cm)\": 180, \"Weight(kg)\": 85, \"Games Played\": 105},\n",
    "    {\"S.no\": 2, \"Name\": \"Superman\", \"Height(cm)\": 189, \"Weight(kg)\": 95, \"Games Played\": 300},\n",
    "    {\"S.no\": 3, \"Name\": \"Harvedent\", \"Height(cm)\": 181, \"Weight(kg)\": 75, \"Games Played\": 55},\n",
    "    {\"S.no\": 4, \"Name\": \"Henery\", \"Height(cm)\": 176, \"Weight(kg)\": 87, \"Games Played\": 125},\n",
    "    {\"S.no\": 5, \"Name\": \"Heralt\", \"Height(cm)\": 184, \"Weight(kg)\": 100, \"Games Played\": 145}\n",
    "]\n",
    "\n",
    "#Controller - retrives player data\n",
    "class MarvelController:\n",
    "    def __init__(self, model):\n",
    "        self.model = model\n",
    "    def get_players(self):\n",
    "        return self.model.players\n",
    "\n",
    "class DCController:\n",
    "    def __init__(self, model):\n",
    "        self.model = model\n",
    "    def get_players(self):\n",
    "        return self.model.players\n",
    "\n",
    "#Marvel View - Prints out the player data\n",
    "class MarvelView:\n",
    "    def display_players(self,players):\n",
    "        for player in players:\n",
    "            print(player)\n",
    "\n",
    "#DC View - prints out the player data\n",
    "class DCView:\n",
    "    def display_players(self,players):\n",
    "        for player in players:\n",
    "            print(player)"
   ]
  },
  {
   "cell_type": "code",
   "execution_count": 36,
   "id": "6de06dba-9a0b-435e-ba3b-7f7b77799a16",
   "metadata": {},
   "outputs": [
    {
     "name": "stdout",
     "output_type": "stream",
     "text": [
      "Marvel Team:\n",
      "{'S.no': 1, 'Name': 'IronMan', 'Height(cm)': 182, 'Weight(kg)': 90, 'Games Played': 105}\n",
      "{'S.no': 2, 'Name': 'Thor', 'Height(cm)': 187, 'Weight(kg)': 120, 'Games Played': 75}\n",
      "{'S.no': 3, 'Name': 'Captain America', 'Height(cm)': 184, 'Weight(kg)': 85, 'Games Played': 205}\n",
      "{'S.no': 4, 'Name': 'SpiderMan', 'Height(cm)': 175, 'Weight(kg)': 75, 'Games Played': 45}\n",
      "{'S.no': 5, 'Name': 'Hulk', 'Height(cm)': 179, 'Weight(kg)': 290, 'Games Played': 210}\n",
      "DC Team:\n",
      "{'S.no': 1, 'Name': 'Batman', 'Height(cm)': 180, 'Weight(kg)': 85, 'Games Played': 105}\n",
      "{'S.no': 2, 'Name': 'Superman', 'Height(cm)': 189, 'Weight(kg)': 95, 'Games Played': 300}\n",
      "{'S.no': 3, 'Name': 'Harvedent', 'Height(cm)': 181, 'Weight(kg)': 75, 'Games Played': 55}\n",
      "{'S.no': 4, 'Name': 'Henery', 'Height(cm)': 176, 'Weight(kg)': 87, 'Games Played': 125}\n",
      "{'S.no': 5, 'Name': 'Heralt', 'Height(cm)': 184, 'Weight(kg)': 100, 'Games Played': 145}\n"
     ]
    }
   ],
   "source": [
    "marvel_model = MarvelModel()\n",
    "marvel_controller = MarvelController(marvel_model)\n",
    "marvel_view = MarvelView()\n",
    "dc_model = DCModel()\n",
    "dc_controller = DCController(dc_model)\n",
    "dc_view = DCView()\n",
    "\n",
    "#Display marvel players\n",
    "print(\"Marvel Team:\")\n",
    "marvel_view.display_players(marvel_controller.get_players())\n",
    "#Display DC players\n",
    "print(\"DC Team:\")\n",
    "dc_view.display_players(dc_controller.get_players())"
   ]
  },
  {
   "cell_type": "markdown",
   "id": "f28ecb3a-801f-46fd-91a6-b9f7a229a914",
   "metadata": {},
   "source": [
    "**Level 1.1: Probability of Selecting 2 from Marvel and 3 from DC (out of 10 Total)**"
   ]
  },
  {
   "cell_type": "code",
   "execution_count": 38,
   "id": "acc8edfe-27e1-48cd-a0d9-2bc7802c9ebb",
   "metadata": {},
   "outputs": [
    {
     "name": "stdout",
     "output_type": "stream",
     "text": [
      "Probability: 0.3968253968253968\n"
     ]
    }
   ],
   "source": [
    "import math\n",
    "total_ways = math.comb(10,5)\n",
    "marvel_ways = math.comb(5,2)\n",
    "dc_ways = math.comb(5,3)\n",
    "specific_ways = marvel_ways * dc_ways\n",
    "prob = specific_ways / total_ways\n",
    "print('Probability:',prob)"
   ]
  },
  {
   "cell_type": "markdown",
   "id": "67245377-73e5-44fd-bb3f-a69c2fa0c920",
   "metadata": {},
   "source": [
    "**Level 1.2: List All Those Stars Heavier Than SpiderMan AND Taller Than Henery)**"
   ]
  },
  {
   "cell_type": "code",
   "execution_count": 40,
   "id": "40b1609f-9d89-40f4-ae69-8ff5a0227873",
   "metadata": {},
   "outputs": [
    {
     "name": "stdout",
     "output_type": "stream",
     "text": [
      "Stars heavier than SpiderMan and taller than Henery: ['IronMan', 'Thor', 'Captain America', 'Hulk', 'Batman', 'Superman', 'Heralt']\n"
     ]
    }
   ],
   "source": [
    "#Get SpiderMan's weight\n",
    "spiderman_weight = next(p['Weight(kg)'] for p in marvel_controller.get_players() if p['Name'] == 'SpiderMan')\n",
    "#Get Henery's height\n",
    "henery_height = next(p['Height(cm)'] for p in dc_controller.get_players() if p['Name'] == 'Henery')\n",
    "#Combine both team \n",
    "all_players = marvel_controller.get_players() + dc_controller.get_players()\n",
    "#List the qualifying stars\n",
    "result = [p['Name'] for p in all_players if p['Weight(kg)'] > spiderman_weight and p['Height(cm)'] > henery_height]\n",
    "print(\"Stars heavier than SpiderMan and taller than Henery:\", result)"
   ]
  },
  {
   "cell_type": "markdown",
   "id": "89f3f574-41fd-4901-a673-e5b25119b6b6",
   "metadata": {},
   "source": [
    "**Level 1.3: Stars Who Played >100 Games AND Are Heavier Than Captain America**?"
   ]
  },
  {
   "cell_type": "code",
   "execution_count": 45,
   "id": "8593d0ae-55c3-412c-b4f8-800ad729ae93",
   "metadata": {},
   "outputs": [
    {
     "name": "stdout",
     "output_type": "stream",
     "text": [
      "Stars who played >100 games and heavier than Captain America: ['IronMan', 'Hulk', 'Superman', 'Henery', 'Heralt']\n"
     ]
    }
   ],
   "source": [
    "#Get Captian America's weight\n",
    "CA_Weight = next(p['Weight(kg)'] for p in marvel_controller.get_players() if p['Name'] == 'Captain America')\n",
    "#Filter players: games > 100 and weight > CA\n",
    "result = [p['Name'] for p in all_players if p['Games Played'] > 100 and p['Weight(kg)'] > CA_Weight]\n",
    "print (\"Stars who played >100 games and heavier than Captain America:\", result)"
   ]
  },
  {
   "cell_type": "markdown",
   "id": "eeb1468b-5dbf-4759-a735-87de60f82880",
   "metadata": {},
   "source": [
    "**Level 1.4: Metaverse-Ready—Sum of Stats > 350**"
   ]
  },
  {
   "cell_type": "code",
   "execution_count": 46,
   "id": "7bea0f21-1319-4fe3-8366-81ed0e6dc371",
   "metadata": {},
   "outputs": [
    {
     "name": "stdout",
     "output_type": "stream",
     "text": [
      "Metaverse-eligible players: ['IronMan', 'Thor', 'Captain America', 'Hulk', 'Batman', 'Superman', 'Henery', 'Heralt']\n"
     ]
    }
   ],
   "source": [
    "metaverse_players = [p['Name'] for p in all_players if (p['Height(cm)'] + p['Weight(kg)'] + p['Games Played']) > 350]\n",
    "print(\"Metaverse-eligible players:\", metaverse_players)"
   ]
  },
  {
   "cell_type": "markdown",
   "id": "8b36f2da-f875-49c1-8319-2ef2b7c2c986",
   "metadata": {},
   "source": [
    "**Level 1.5: If These Were in a Database (SQL)**"
   ]
  },
  {
   "cell_type": "code",
   "execution_count": 57,
   "id": "8e1763d4-7267-4f30-acb8-aca253f5bc3d",
   "metadata": {},
   "outputs": [
    {
     "name": "stdout",
     "output_type": "stream",
     "text": [
      "('Marvel', 1, 'IronMan', 182, 90, 105)\n",
      "('Marvel', 2, 'Thor', 187, 120, 75)\n",
      "('Marvel', 3, 'Captain America', 184, 85, 205)\n",
      "('Marvel', 4, 'SpiderMan', 175, 75, 45)\n",
      "('Marvel', 5, 'Hulk', 179, 290, 210)\n",
      "('DC', 1, 'Batman', 180, 85, 105)\n",
      "('DC', 2, 'Superman', 189, 95, 300)\n",
      "('DC', 3, 'Harvedent', 181, 75, 55)\n",
      "('DC', 4, 'Henery', 176, 87, 125)\n",
      "('DC', 5, 'Heralt', 184, 100, 145)\n"
     ]
    }
   ],
   "source": [
    "import sqlite3\n",
    "conn = sqlite3.connect(\":memory:\")\n",
    "\n",
    "#make table\n",
    "conn.execute(\"\"\"\n",
    "        CREATE TABLE players (\n",
    "            Team TEXT,\n",
    "            S No INT,\n",
    "            Name TEXT,\n",
    "            height INT,\n",
    "            weight INT,\n",
    "            games played INT\n",
    "            )\n",
    "\"\"\")\n",
    "\n",
    "#Add all Marvel & DC Players\n",
    "for p in marvel_controller.get_players():\n",
    "    conn.execute(\"INSERT INTO players VALUES (?, ?, ?, ?, ?, ?)\",('Marvel',p['S.no'],p['Name'], p['Height(cm)'],p['Weight(kg)'],p['Games Played']))\n",
    "for p in dc_controller.get_players():\n",
    "    conn.execute(\"INSERT INTO players VALUES (?, ?, ?, ?, ?, ?)\",('DC',p['S.no'],p['Name'], p['Height(cm)'],p['Weight(kg)'],p['Games Played']))\n",
    "    conn.commit()\n",
    "    #fetch & print\n",
    "for row in conn.execute(\"SELECT * FROM players\"):\n",
    "    print(row)\n",
    "conn.close()\n",
    "\n"
   ]
  },
  {
   "cell_type": "code",
   "execution_count": null,
   "id": "aa03a997-9a72-489b-addd-798a681fa05e",
   "metadata": {},
   "outputs": [],
   "source": []
  }
 ],
 "metadata": {
  "kernelspec": {
   "display_name": "Python [conda env:base] *",
   "language": "python",
   "name": "conda-base-py"
  },
  "language_info": {
   "codemirror_mode": {
    "name": "ipython",
    "version": 3
   },
   "file_extension": ".py",
   "mimetype": "text/x-python",
   "name": "python",
   "nbconvert_exporter": "python",
   "pygments_lexer": "ipython3",
   "version": "3.11.7"
  }
 },
 "nbformat": 4,
 "nbformat_minor": 5
}
