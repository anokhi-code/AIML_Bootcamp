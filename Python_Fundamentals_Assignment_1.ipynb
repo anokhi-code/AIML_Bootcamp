{
 "cells": [
  {
   "cell_type": "markdown",
   "id": "5e42b4ea-f093-4af5-944d-d3850cfd33a4",
   "metadata": {},
   "source": [
    "### Q1: Lists\n"
   ]
  },
  {
   "cell_type": "code",
   "execution_count": 39,
   "id": "f7b52e5c-c0c8-4ff7-9a95-475a1de09834",
   "metadata": {},
   "outputs": [
    {
     "name": "stdout",
     "output_type": "stream",
     "text": [
      "Initial list: ['Apple', 'Banana', 'Orange', 'Grapes', 'Mango']\n",
      "Length of list: 5\n",
      "Sorted list: ['Apple', 'Grapes', 'Mango', 'Orange', 'Pineapple']\n"
     ]
    }
   ],
   "source": [
    "fruits = [\"Apple\", \"Banana\", \"Orange\", \"Grapes\", \"Mango\"]\n",
    "print(\"Initial list:\", fruits)\n",
    "\n",
    "fruits.append(\"Pineapple\")  # Add new fruit\n",
    "fruits.pop(1)  # Remove 2nd item\n",
    "print(\"Length of list:\", len(fruits))\n",
    "\n",
    "fruits.sort()  # Sort alphabetically\n",
    "print(\"Sorted list:\", fruits)"
   ]
  },
  {
   "cell_type": "markdown",
   "id": "d2ca9eb0-0d9c-4210-b008-5d7a6d1bc57d",
   "metadata": {},
   "source": [
    "### Q2: Tuples"
   ]
  },
  {
   "cell_type": "code",
   "execution_count": 42,
   "id": "21e86a64",
   "metadata": {},
   "outputs": [
    {
     "name": "stdout",
     "output_type": "stream",
     "text": [
      "Movies tuple: ('Inception', 'Interstellar', 'The Dark Knight', 'Tenet')\n",
      "Error: 'tuple' object does not support item assignment - Tuples are immutable.\n",
      "Last movie: Tenet\n"
     ]
    }
   ],
   "source": [
    "movies = (\"Inception\", \"Interstellar\", \"The Dark Knight\", \"Tenet\")\n",
    "print(\"Movies tuple:\", movies)\n",
    "\n",
    "# Attempting to change an element \n",
    "try:\n",
    "    movies[1] = \"Memento\"\n",
    "except TypeError as e:\n",
    "    print(\"Error:\", e, \"- Tuples are immutable.\")\n",
    "\n",
    "# movies[1] = \"Memento\"\n",
    "\n",
    "\n",
    "# Access last movie\n",
    "print(\"Last movie:\", movies[-1])"
   ]
  },
  {
   "cell_type": "markdown",
   "id": "f9a59354-4058-4746-8579-164f56afd8f0",
   "metadata": {},
   "source": [
    "### Q3: Sets"
   ]
  },
  {
   "cell_type": "code",
   "execution_count": 25,
   "id": "7a039183",
   "metadata": {},
   "outputs": [
    {
     "name": "stdout",
     "output_type": "stream",
     "text": [
      "Is 'Blue' in set? True\n",
      "Colors set: {'Red', 'Blue', 'Yellow', 'Orange', 'Purple'}\n"
     ]
    }
   ],
   "source": [
    "colors = {\"Red\", \"Blue\", \"Green\", \"Yellow\", \"Purple\"}\n",
    "colors.add(\"Orange\")  # Add new color\n",
    "colors.add(\"Blue\")  # Duplicate \n",
    "colors.remove(\"Green\")  # Remove a color\n",
    "\n",
    "print(\"Is 'Blue' in set?\", \"Blue\" in colors)\n",
    "print(\"Colors set:\", colors)"
   ]
  },
  {
   "cell_type": "markdown",
   "id": "54f8a94f-6cf3-419f-853c-03bc987920b0",
   "metadata": {},
   "source": [
    "### Q4: Dictionaries"
   ]
  },
  {
   "cell_type": "code",
   "execution_count": 26,
   "id": "135c37ba",
   "metadata": {},
   "outputs": [
    {
     "name": "stdout",
     "output_type": "stream",
     "text": [
      "Keys: dict_keys(['Alice', 'Bob', 'Charlie'])\n",
      "Values: dict_values([85, 92, 78])\n",
      "Is 'David' in dictionary? True\n",
      "Updated dictionary: {'Alice': 90, 'Bob': 92, 'David': 88}\n"
     ]
    }
   ],
   "source": [
    "student_marks = {\"Alice\": 85, \"Bob\": 92, \"Charlie\": 78}\n",
    "print(\"Keys:\", student_marks.keys())\n",
    "print(\"Values:\", student_marks.values())\n",
    "\n",
    "student_marks[\"David\"] = 88  # Add student\n",
    "student_marks[\"Alice\"] = 90  # Update marks\n",
    "del student_marks[\"Charlie\"]  # Delete student\n",
    "\n",
    "print(\"Is 'David' in dictionary?\", \"David\" in student_marks)\n",
    "print(\"Updated dictionary:\", student_marks)"
   ]
  },
  {
   "cell_type": "markdown",
   "id": "3c11f8bb-56da-42ed-b793-92843f2d3ac3",
   "metadata": {},
   "source": [
    "### Q5: Conditional Statements"
   ]
  },
  {
   "cell_type": "code",
   "execution_count": 27,
   "id": "ac05b438",
   "metadata": {},
   "outputs": [
    {
     "name": "stdin",
     "output_type": "stream",
     "text": [
      "Enter a number:  47\n"
     ]
    },
    {
     "name": "stdout",
     "output_type": "stream",
     "text": [
      "Positive\n",
      "Odd\n"
     ]
    }
   ],
   "source": [
    "num = int(input(\"Enter a number: \"))\n",
    "if num > 0:\n",
    "    print(\"Positive\")\n",
    "elif num < 0:\n",
    "    print(\"Negative\")\n",
    "else:\n",
    "    print(\"Zero\")\n",
    "\n",
    "if num % 2 == 0:\n",
    "    print(\"Even\")\n",
    "else:\n",
    "    print(\"Odd\")"
   ]
  },
  {
   "cell_type": "markdown",
   "id": "d1c1d7a1-76c9-43e8-a586-3e20b989485d",
   "metadata": {},
   "source": [
    "### Q6: Pass or Fail"
   ]
  },
  {
   "cell_type": "code",
   "execution_count": 28,
   "id": "bc513dd7",
   "metadata": {},
   "outputs": [
    {
     "name": "stdin",
     "output_type": "stream",
     "text": [
      "Enter marks:  97\n"
     ]
    },
    {
     "name": "stdout",
     "output_type": "stream",
     "text": [
      "Pass\n"
     ]
    }
   ],
   "source": [
    "marks = int(input(\"Enter marks: \"))\n",
    "print(\"Pass\" if marks >= 40 else \"Fail\")"
   ]
  },
  {
   "cell_type": "markdown",
   "id": "3eed690e-81b1-4d0b-9b00-457a7be9ac14",
   "metadata": {},
   "source": [
    "### Q7: Grading System"
   ]
  },
  {
   "cell_type": "code",
   "execution_count": 29,
   "id": "3479c5f5",
   "metadata": {},
   "outputs": [
    {
     "name": "stdin",
     "output_type": "stream",
     "text": [
      "Enter marks:  39\n"
     ]
    },
    {
     "name": "stdout",
     "output_type": "stream",
     "text": [
      "Grade: F\n"
     ]
    }
   ],
   "source": [
    "marks = int(input(\"Enter marks: \"))\n",
    "if 90 <= marks <= 100:\n",
    "    grade = \"A\"\n",
    "elif 75 <= marks <= 89:\n",
    "    grade = \"B\"\n",
    "elif 50 <= marks <= 74:\n",
    "    grade = \"C\"\n",
    "elif 40 <= marks <= 49:\n",
    "    grade = \"D\"\n",
    "else:\n",
    "    grade = \"F\"\n",
    "print(\"Grade:\", grade)"
   ]
  },
  {
   "cell_type": "markdown",
   "id": "c0acf408-f101-409f-b3bf-abbdb5688b2f",
   "metadata": {},
   "source": [
    "### Q8: Product Lookup"
   ]
  },
  {
   "cell_type": "code",
   "execution_count": 30,
   "id": "fee6ca5f",
   "metadata": {},
   "outputs": [
    {
     "name": "stdin",
     "output_type": "stream",
     "text": [
      "Enter product name:  Phone\n"
     ]
    },
    {
     "name": "stdout",
     "output_type": "stream",
     "text": [
      "Price: 500\n"
     ]
    }
   ],
   "source": [
    "products = {\"Laptop\": 1000, \"Phone\": 500, \"Tablet\": 300}\n",
    "item = input(\"Enter product name: \")\n",
    "print(\"Price:\", products[item] if item in products else \"Product not found\")"
   ]
  },
  {
   "cell_type": "markdown",
   "id": "b8ed38a3-ef9e-40f2-863d-e0e8eb758002",
   "metadata": {},
   "source": [
    "### Q9: Favorite Animals"
   ]
  },
  {
   "cell_type": "code",
   "execution_count": 31,
   "id": "d850d184",
   "metadata": {},
   "outputs": [
    {
     "name": "stdout",
     "output_type": "stream",
     "text": [
      "Dog\n",
      "Cat\n",
      "Elephant\n",
      "Tiger\n",
      "Lion\n"
     ]
    }
   ],
   "source": [
    "animals = [\"Dog\", \"Cat\", \"Elephant\", \"Tiger\", \"Lion\"]\n",
    "for animal in animals:\n",
    "    print(animal)"
   ]
  },
  {
   "cell_type": "markdown",
   "id": "949fb295-0307-4a39-b562-af7d0544df8f",
   "metadata": {},
   "source": [
    "### Q10: Print numbers 1 to 10"
   ]
  },
  {
   "cell_type": "code",
   "execution_count": 32,
   "id": "27f4b1af",
   "metadata": {},
   "outputs": [
    {
     "name": "stdout",
     "output_type": "stream",
     "text": [
      "1\n",
      "2\n",
      "3\n",
      "4\n",
      "5\n",
      "6\n",
      "7\n",
      "8\n",
      "9\n",
      "10\n"
     ]
    }
   ],
   "source": [
    "for i in range(1, 11):\n",
    "    print(i)"
   ]
  },
  {
   "cell_type": "markdown",
   "id": "f687727c-5977-481a-b4d9-506fe0fc657e",
   "metadata": {},
   "source": [
    "### Q11: Print reverse 5 to 1"
   ]
  },
  {
   "cell_type": "code",
   "execution_count": 33,
   "id": "fb5d76c6",
   "metadata": {},
   "outputs": [
    {
     "name": "stdout",
     "output_type": "stream",
     "text": [
      "5\n",
      "4\n",
      "3\n",
      "2\n",
      "1\n"
     ]
    }
   ],
   "source": [
    "i = 5\n",
    "while i >= 1:\n",
    "    print(i)\n",
    "    i -= 1"
   ]
  },
  {
   "cell_type": "markdown",
   "id": "3c2b8f6c-89bf-466e-a6f1-e780eafe09aa",
   "metadata": {},
   "source": [
    "### Q12: Print Even numbers between 1 and 20"
   ]
  },
  {
   "cell_type": "code",
   "execution_count": 34,
   "id": "0fe3a266",
   "metadata": {},
   "outputs": [
    {
     "name": "stdout",
     "output_type": "stream",
     "text": [
      "2\n",
      "4\n",
      "6\n",
      "8\n",
      "10\n",
      "12\n",
      "14\n",
      "16\n",
      "18\n",
      "20\n"
     ]
    }
   ],
   "source": [
    "for i in range(2, 21, 2):\n",
    "    print(i)"
   ]
  },
  {
   "cell_type": "markdown",
   "id": "4711254d-cde5-4405-a674-9b91e41f7134",
   "metadata": {},
   "source": [
    "### Q13: Skip number 5"
   ]
  },
  {
   "cell_type": "code",
   "execution_count": 35,
   "id": "96721e77",
   "metadata": {},
   "outputs": [
    {
     "name": "stdout",
     "output_type": "stream",
     "text": [
      "1\n",
      "2\n",
      "3\n",
      "4\n",
      "6\n",
      "7\n",
      "8\n",
      "9\n",
      "10\n"
     ]
    }
   ],
   "source": [
    "for i in range(1, 11):\n",
    "    if i == 5:\n",
    "        continue\n",
    "    print(i)"
   ]
  },
  {
   "cell_type": "markdown",
   "id": "7c8a70cb-3f55-403d-ab57-dee10bad5ded",
   "metadata": {},
   "source": [
    "### Q14: Break at number 7"
   ]
  },
  {
   "cell_type": "code",
   "execution_count": 36,
   "id": "e0c862d9",
   "metadata": {},
   "outputs": [
    {
     "name": "stdout",
     "output_type": "stream",
     "text": [
      "1\n",
      "2\n",
      "3\n",
      "4\n",
      "5\n",
      "6\n"
     ]
    }
   ],
   "source": [
    "for i in range(1, 11):\n",
    "    if i == 7:\n",
    "        break\n",
    "    print(i)"
   ]
  },
  {
   "cell_type": "markdown",
   "id": "33bc9428-86e7-4e0e-ab11-b6088358f64d",
   "metadata": {},
   "source": [
    "### Q15: Using 'pass' in a for loop going from 1 to 3"
   ]
  },
  {
   "cell_type": "code",
   "execution_count": 37,
   "id": "5a89c669",
   "metadata": {},
   "outputs": [],
   "source": [
    "for i in range(1, 4):\n",
    "    pass  "
   ]
  },
  {
   "cell_type": "markdown",
   "id": "c40a0330-0dac-488b-8b95-fcdea33365f1",
   "metadata": {},
   "source": [
    "### Q16: Ask the user to enter numbers continuously using a while loop. Stop asking when the user enters 0. Then print the sum of all entered numbers (excluding 0)."
   ]
  },
  {
   "cell_type": "code",
   "execution_count": 38,
   "id": "bd4174b3",
   "metadata": {},
   "outputs": [
    {
     "name": "stdin",
     "output_type": "stream",
     "text": [
      "Enter a number (0 to stop):  7\n",
      "Enter a number (0 to stop):  78\n",
      "Enter a number (0 to stop):  65\n",
      "Enter a number (0 to stop):  56\n",
      "Enter a number (0 to stop):  0\n"
     ]
    },
    {
     "name": "stdout",
     "output_type": "stream",
     "text": [
      "Sum of numbers: 206\n"
     ]
    }
   ],
   "source": [
    "total = 0\n",
    "while True:\n",
    "    num = int(input(\"Enter a number (0 to stop): \"))\n",
    "    if num == 0:\n",
    "        break\n",
    "    total += num\n",
    "print(\"Sum of numbers:\", total)"
   ]
  },
  {
   "cell_type": "code",
   "execution_count": null,
   "id": "79529204-fee6-449b-95f8-532bf16bda61",
   "metadata": {},
   "outputs": [],
   "source": []
  }
 ],
 "metadata": {
  "kernelspec": {
   "display_name": "Python 3 (ipykernel)",
   "language": "python",
   "name": "python3"
  },
  "language_info": {
   "codemirror_mode": {
    "name": "ipython",
    "version": 3
   },
   "file_extension": ".py",
   "mimetype": "text/x-python",
   "name": "python",
   "nbconvert_exporter": "python",
   "pygments_lexer": "ipython3",
   "version": "3.10.9"
  }
 },
 "nbformat": 4,
 "nbformat_minor": 5
}
